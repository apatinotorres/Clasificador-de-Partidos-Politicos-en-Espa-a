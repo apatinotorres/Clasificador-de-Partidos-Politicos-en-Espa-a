{
 "cells": [
  {
   "cell_type": "markdown",
   "metadata": {},
   "source": [
    "## Machine Learning Parcial 2\n",
    "-  Antonio Jose Patiño Torres T00056470\n",
    "-  Maria Angelica Becerra Pico T00054451\n",
    "\n",
    "*UTB - 11/Oct/2021*"
   ]
  },
  {
   "cell_type": "code",
   "execution_count": 1,
   "metadata": {},
   "outputs": [
    {
     "name": "stderr",
     "output_type": "stream",
     "text": [
      "[nltk_data] Downloading package stopwords to\n",
      "[nltk_data]     /home/centurion/nltk_data...\n",
      "[nltk_data]   Package stopwords is already up-to-date!\n"
     ]
    }
   ],
   "source": [
    "import io\n",
    "import sys\n",
    "import os\n",
    "import re\n",
    "import numpy as np\n",
    "import pandas as pd\n",
    "import matplotlib.pyplot as plt\n",
    "from sklearn.feature_extraction.text import CountVectorizer, TfidfVectorizer\n",
    "import nltk\n",
    "nltk.download('stopwords')\n",
    "from nltk.tokenize import word_tokenize, sent_tokenize\n",
    "from nltk.corpus import stopwords"
   ]
  },
  {
   "cell_type": "code",
   "execution_count": 2,
   "metadata": {},
   "outputs": [],
   "source": [
    "raw = pd.read_csv(\"tweets_politica_kaggle.csv\", sep=\"\\t\")"
   ]
  },
  {
   "cell_type": "code",
   "execution_count": 3,
   "metadata": {},
   "outputs": [
    {
     "data": {
      "text/html": [
       "<div>\n",
       "<style scoped>\n",
       "    .dataframe tbody tr th:only-of-type {\n",
       "        vertical-align: middle;\n",
       "    }\n",
       "\n",
       "    .dataframe tbody tr th {\n",
       "        vertical-align: top;\n",
       "    }\n",
       "\n",
       "    .dataframe thead th {\n",
       "        text-align: right;\n",
       "    }\n",
       "</style>\n",
       "<table border=\"1\" class=\"dataframe\">\n",
       "  <thead>\n",
       "    <tr style=\"text-align: right;\">\n",
       "      <th></th>\n",
       "      <th>cuenta</th>\n",
       "      <th>partido</th>\n",
       "      <th>timestamp</th>\n",
       "      <th>tweet</th>\n",
       "    </tr>\n",
       "  </thead>\n",
       "  <tbody>\n",
       "    <tr>\n",
       "      <th>0</th>\n",
       "      <td>a34133350b0605cb24081843f63176ca</td>\n",
       "      <td>psoe</td>\n",
       "      <td>1.363973e+09</td>\n",
       "      <td>@vesteve3 @manubenas @ccoo_rm @desobediencia_ ...</td>\n",
       "    </tr>\n",
       "    <tr>\n",
       "      <th>1</th>\n",
       "      <td>a34133350b0605cb24081843f63176ca</td>\n",
       "      <td>psoe</td>\n",
       "      <td>1.364061e+09</td>\n",
       "      <td>“@kirovast: @Hugo_Moran muy fan de la \"radical...</td>\n",
       "    </tr>\n",
       "    <tr>\n",
       "      <th>2</th>\n",
       "      <td>a34133350b0605cb24081843f63176ca</td>\n",
       "      <td>psoe</td>\n",
       "      <td>1.364117e+09</td>\n",
       "      <td>@ALTAS_PRESIONES Nuevos dueños para las renova...</td>\n",
       "    </tr>\n",
       "    <tr>\n",
       "      <th>3</th>\n",
       "      <td>a34133350b0605cb24081843f63176ca</td>\n",
       "      <td>psoe</td>\n",
       "      <td>1.364121e+09</td>\n",
       "      <td>@jumanjisolar @solartradex @josea_dolera El di...</td>\n",
       "    </tr>\n",
       "    <tr>\n",
       "      <th>4</th>\n",
       "      <td>a34133350b0605cb24081843f63176ca</td>\n",
       "      <td>psoe</td>\n",
       "      <td>1.364153e+09</td>\n",
       "      <td>“@cesarnayu: https://t.co/J4OTXj1x7w … Por fav...</td>\n",
       "    </tr>\n",
       "  </tbody>\n",
       "</table>\n",
       "</div>"
      ],
      "text/plain": [
       "                             cuenta partido     timestamp  \\\n",
       "0  a34133350b0605cb24081843f63176ca    psoe  1.363973e+09   \n",
       "1  a34133350b0605cb24081843f63176ca    psoe  1.364061e+09   \n",
       "2  a34133350b0605cb24081843f63176ca    psoe  1.364117e+09   \n",
       "3  a34133350b0605cb24081843f63176ca    psoe  1.364121e+09   \n",
       "4  a34133350b0605cb24081843f63176ca    psoe  1.364153e+09   \n",
       "\n",
       "                                               tweet  \n",
       "0  @vesteve3 @manubenas @ccoo_rm @desobediencia_ ...  \n",
       "1  “@kirovast: @Hugo_Moran muy fan de la \"radical...  \n",
       "2  @ALTAS_PRESIONES Nuevos dueños para las renova...  \n",
       "3  @jumanjisolar @solartradex @josea_dolera El di...  \n",
       "4  “@cesarnayu: https://t.co/J4OTXj1x7w … Por fav...  "
      ]
     },
     "execution_count": 3,
     "metadata": {},
     "output_type": "execute_result"
    }
   ],
   "source": [
    "raw.head()"
   ]
  },
  {
   "cell_type": "code",
   "execution_count": 4,
   "metadata": {},
   "outputs": [
    {
     "name": "stdout",
     "output_type": "stream",
     "text": [
      "<class 'pandas.core.frame.DataFrame'>\n",
      "RangeIndex: 130039 entries, 0 to 130038\n",
      "Data columns (total 4 columns):\n",
      " #   Column     Non-Null Count   Dtype  \n",
      "---  ------     --------------   -----  \n",
      " 0   cuenta     130039 non-null  object \n",
      " 1   partido    130029 non-null  object \n",
      " 2   timestamp  130029 non-null  float64\n",
      " 3   tweet      130029 non-null  object \n",
      "dtypes: float64(1), object(3)\n",
      "memory usage: 4.0+ MB\n"
     ]
    }
   ],
   "source": [
    "raw.info() # Aprox 10 cuentas tienen valores nulos (null) en campos tweet, partido, timestamp"
   ]
  },
  {
   "cell_type": "code",
   "execution_count": 5,
   "metadata": {},
   "outputs": [
    {
     "data": {
      "text/html": [
       "<div>\n",
       "<style scoped>\n",
       "    .dataframe tbody tr th:only-of-type {\n",
       "        vertical-align: middle;\n",
       "    }\n",
       "\n",
       "    .dataframe tbody tr th {\n",
       "        vertical-align: top;\n",
       "    }\n",
       "\n",
       "    .dataframe thead th {\n",
       "        text-align: right;\n",
       "    }\n",
       "</style>\n",
       "<table border=\"1\" class=\"dataframe\">\n",
       "  <thead>\n",
       "    <tr style=\"text-align: right;\">\n",
       "      <th></th>\n",
       "      <th>cuenta</th>\n",
       "      <th>partido</th>\n",
       "      <th>timestamp</th>\n",
       "      <th>tweet</th>\n",
       "    </tr>\n",
       "  </thead>\n",
       "  <tbody>\n",
       "    <tr>\n",
       "      <th>130029</th>\n",
       "      <td>c736f426051ce1703b6d62686b64dbac</td>\n",
       "      <td>NaN</td>\n",
       "      <td>NaN</td>\n",
       "      <td>NaN</td>\n",
       "    </tr>\n",
       "    <tr>\n",
       "      <th>130030</th>\n",
       "      <td>c736f426051ce1703b6d62686b64dbac</td>\n",
       "      <td>NaN</td>\n",
       "      <td>NaN</td>\n",
       "      <td>NaN</td>\n",
       "    </tr>\n",
       "    <tr>\n",
       "      <th>130031</th>\n",
       "      <td>c736f426051ce1703b6d62686b64dbac</td>\n",
       "      <td>NaN</td>\n",
       "      <td>NaN</td>\n",
       "      <td>NaN</td>\n",
       "    </tr>\n",
       "    <tr>\n",
       "      <th>130032</th>\n",
       "      <td>c736f426051ce1703b6d62686b64dbac</td>\n",
       "      <td>NaN</td>\n",
       "      <td>NaN</td>\n",
       "      <td>NaN</td>\n",
       "    </tr>\n",
       "    <tr>\n",
       "      <th>130033</th>\n",
       "      <td>c736f426051ce1703b6d62686b64dbac</td>\n",
       "      <td>NaN</td>\n",
       "      <td>NaN</td>\n",
       "      <td>NaN</td>\n",
       "    </tr>\n",
       "    <tr>\n",
       "      <th>130034</th>\n",
       "      <td>c736f426051ce1703b6d62686b64dbac</td>\n",
       "      <td>NaN</td>\n",
       "      <td>NaN</td>\n",
       "      <td>NaN</td>\n",
       "    </tr>\n",
       "    <tr>\n",
       "      <th>130035</th>\n",
       "      <td>c736f426051ce1703b6d62686b64dbac</td>\n",
       "      <td>NaN</td>\n",
       "      <td>NaN</td>\n",
       "      <td>NaN</td>\n",
       "    </tr>\n",
       "    <tr>\n",
       "      <th>130036</th>\n",
       "      <td>c736f426051ce1703b6d62686b64dbac</td>\n",
       "      <td>NaN</td>\n",
       "      <td>NaN</td>\n",
       "      <td>NaN</td>\n",
       "    </tr>\n",
       "    <tr>\n",
       "      <th>130037</th>\n",
       "      <td>c736f426051ce1703b6d62686b64dbac</td>\n",
       "      <td>NaN</td>\n",
       "      <td>NaN</td>\n",
       "      <td>NaN</td>\n",
       "    </tr>\n",
       "    <tr>\n",
       "      <th>130038</th>\n",
       "      <td>c736f426051ce1703b6d62686b64dbac</td>\n",
       "      <td>NaN</td>\n",
       "      <td>NaN</td>\n",
       "      <td>NaN</td>\n",
       "    </tr>\n",
       "  </tbody>\n",
       "</table>\n",
       "</div>"
      ],
      "text/plain": [
       "                                  cuenta partido  timestamp tweet\n",
       "130029  c736f426051ce1703b6d62686b64dbac     NaN        NaN   NaN\n",
       "130030  c736f426051ce1703b6d62686b64dbac     NaN        NaN   NaN\n",
       "130031  c736f426051ce1703b6d62686b64dbac     NaN        NaN   NaN\n",
       "130032  c736f426051ce1703b6d62686b64dbac     NaN        NaN   NaN\n",
       "130033  c736f426051ce1703b6d62686b64dbac     NaN        NaN   NaN\n",
       "130034  c736f426051ce1703b6d62686b64dbac     NaN        NaN   NaN\n",
       "130035  c736f426051ce1703b6d62686b64dbac     NaN        NaN   NaN\n",
       "130036  c736f426051ce1703b6d62686b64dbac     NaN        NaN   NaN\n",
       "130037  c736f426051ce1703b6d62686b64dbac     NaN        NaN   NaN\n",
       "130038  c736f426051ce1703b6d62686b64dbac     NaN        NaN   NaN"
      ]
     },
     "execution_count": 5,
     "metadata": {},
     "output_type": "execute_result"
    }
   ],
   "source": [
    "nan_values = raw[raw.isna().any(axis=1)] # Culpables >:(\n",
    "nan_values"
   ]
  },
  {
   "cell_type": "code",
   "execution_count": 6,
   "metadata": {},
   "outputs": [],
   "source": [
    "raw = raw.drop(nan_values.index)"
   ]
  },
  {
   "cell_type": "code",
   "execution_count": 7,
   "metadata": {},
   "outputs": [
    {
     "data": {
      "text/html": [
       "<div>\n",
       "<style scoped>\n",
       "    .dataframe tbody tr th:only-of-type {\n",
       "        vertical-align: middle;\n",
       "    }\n",
       "\n",
       "    .dataframe tbody tr th {\n",
       "        vertical-align: top;\n",
       "    }\n",
       "\n",
       "    .dataframe thead th {\n",
       "        text-align: right;\n",
       "    }\n",
       "</style>\n",
       "<table border=\"1\" class=\"dataframe\">\n",
       "  <thead>\n",
       "    <tr style=\"text-align: right;\">\n",
       "      <th></th>\n",
       "      <th>partido</th>\n",
       "      <th>tweet</th>\n",
       "    </tr>\n",
       "  </thead>\n",
       "  <tbody>\n",
       "    <tr>\n",
       "      <th>0</th>\n",
       "      <td>ciudadanos</td>\n",
       "      <td>23552</td>\n",
       "    </tr>\n",
       "    <tr>\n",
       "      <th>1</th>\n",
       "      <td>podemos</td>\n",
       "      <td>24889</td>\n",
       "    </tr>\n",
       "    <tr>\n",
       "      <th>2</th>\n",
       "      <td>pp</td>\n",
       "      <td>26200</td>\n",
       "    </tr>\n",
       "    <tr>\n",
       "      <th>3</th>\n",
       "      <td>psoe</td>\n",
       "      <td>28882</td>\n",
       "    </tr>\n",
       "    <tr>\n",
       "      <th>4</th>\n",
       "      <td>vox</td>\n",
       "      <td>26506</td>\n",
       "    </tr>\n",
       "  </tbody>\n",
       "</table>\n",
       "</div>"
      ],
      "text/plain": [
       "      partido  tweet\n",
       "0  ciudadanos  23552\n",
       "1     podemos  24889\n",
       "2          pp  26200\n",
       "3        psoe  28882\n",
       "4         vox  26506"
      ]
     },
     "execution_count": 7,
     "metadata": {},
     "output_type": "execute_result"
    }
   ],
   "source": [
    "afiliaciones = raw.groupby(\"partido\", as_index=False)['tweet'].count()\n",
    "afiliaciones"
   ]
  },
  {
   "cell_type": "code",
   "execution_count": 8,
   "metadata": {},
   "outputs": [
    {
     "data": {
      "image/png": "[encoded data removed]",
      "text/plain": [
       "<Figure size 1080x360 with 1 Axes>"
      ]
     },
     "metadata": {
      "needs_background": "light"
     },
     "output_type": "display_data"
    }
   ],
   "source": [
    "plt.figure(figsize=(15,5))\n",
    "plt.bar(afiliaciones['partido'].values, afiliaciones['tweet'].values, color=[\"orange\", \"purple\", \"lightblue\", \"red\", \"green\"], alpha=0.9)\n",
    "plt.title('Datos')\n",
    "plt.ylabel('Usuarios Afines', fontsize=10)\n",
    "plt.xlabel('Partidos Politicos', fontsize=10)\n",
    "plt.show()"
   ]
  },
  {
   "cell_type": "code",
   "execution_count": 9,
   "metadata": {},
   "outputs": [
    {
     "name": "stdout",
     "output_type": "stream",
     "text": [
      "<class 'pandas.core.frame.DataFrame'>\n",
      "Int64Index: 5 entries, 0 to 4\n",
      "Data columns (total 2 columns):\n",
      " #   Column   Non-Null Count  Dtype \n",
      "---  ------   --------------  ----- \n",
      " 0   partido  5 non-null      object\n",
      " 1   tweet    5 non-null      int64 \n",
      "dtypes: int64(1), object(1)\n",
      "memory usage: 120.0+ bytes\n"
     ]
    }
   ],
   "source": [
    "afiliaciones.info(null_counts=True)"
   ]
  },
  {
   "cell_type": "code",
   "execution_count": 10,
   "metadata": {},
   "outputs": [],
   "source": [
    "train = raw.sample(frac=0.8)\n",
    "test = raw.drop(train.index)"
   ]
  },
  {
   "cell_type": "code",
   "execution_count": 11,
   "metadata": {},
   "outputs": [
    {
     "name": "stdout",
     "output_type": "stream",
     "text": [
      "<class 'pandas.core.frame.DataFrame'>\n",
      "Int64Index: 104023 entries, 43023 to 103487\n",
      "Data columns (total 4 columns):\n",
      " #   Column     Non-Null Count   Dtype  \n",
      "---  ------     --------------   -----  \n",
      " 0   cuenta     104023 non-null  object \n",
      " 1   partido    104023 non-null  object \n",
      " 2   timestamp  104023 non-null  float64\n",
      " 3   tweet      104023 non-null  object \n",
      "dtypes: float64(1), object(3)\n",
      "memory usage: 4.0+ MB\n"
     ]
    }
   ],
   "source": [
    "train.info()"
   ]
  },
  {
   "cell_type": "code",
   "execution_count": 12,
   "metadata": {},
   "outputs": [
    {
     "name": "stdout",
     "output_type": "stream",
     "text": [
      "<class 'pandas.core.frame.DataFrame'>\n",
      "Int64Index: 26006 entries, 0 to 130028\n",
      "Data columns (total 4 columns):\n",
      " #   Column     Non-Null Count  Dtype  \n",
      "---  ------     --------------  -----  \n",
      " 0   cuenta     26006 non-null  object \n",
      " 1   partido    26006 non-null  object \n",
      " 2   timestamp  26006 non-null  float64\n",
      " 3   tweet      26006 non-null  object \n",
      "dtypes: float64(1), object(3)\n",
      "memory usage: 1015.9+ KB\n"
     ]
    }
   ],
   "source": [
    "test.info()"
   ]
  },
  {
   "cell_type": "code",
   "execution_count": 29,
   "metadata": {},
   "outputs": [],
   "source": [
    "c = train[\"tweet\"]\n",
    "es_stops = set(stopwords.words('spanish'))\n",
    "vectorizer = CountVectorizer(ngram_range=(2,2), max_features=4000) #, stop_words=set(es_stops)) # to use bigrams ngram_range=(2,2)\n",
    "bow = vectorizer.fit_transform(list(c)) # Bag of Words"
   ]
  },
  {
   "cell_type": "code",
   "execution_count": 30,
   "metadata": {},
   "outputs": [
    {
     "data": {
      "text/plain": [
       "['\"Lo peor que puede pasarles a los monárquicos es que solamente PP y VOX digan \\'viva el rey\\'\".🗣️ @Pablo_Iglesias_ 📽️ Entrevista completa: https://t.co/9l2pSg16kk https://t.co/DjdI7z4pQt',\n",
       " '@elenita_tatus La foto refleja un instante.He visitado esa calle 6 veces el último mes, y nunca he visto a nadie. También tengo fotos. La propia asociación de vecinos dice que el uso es bajo. Esa calle además tiene problemas de seguridad pues no pueden acceder a ella los equipos de emergencias.',\n",
       " 'New York Times. Opinión: Ciudadanos, o cómo hundirse sin estilo https://t.co/RBV8lGAYaW',\n",
       " '📽 @CarrizosaCarlos \"Hay líderes del PP y del PSOE que rechazan la fórmula #MejorUnidos por cálculos electorales o por estar más cerca del independentismo\" #ActualidadCs 🍊👉 Seguiremos insistiendo porque en circunstancias excepcionales se requieren soluciones excepcionales. https://t.co/9QF5KxWnVS',\n",
       " '@camino_mery 1.  Exigir no es negociar.2. Hay diferentes modelos de pacto. No uno único. 3. El problema, con los antecedentes y declaraciones que vengo escuchando, es que no sería bueno tener dos gobiernos en uno o un gobierno con dos cabezas.4. La cohesión y lealtad son claves en un Gob.']"
      ]
     },
     "execution_count": 30,
     "metadata": {},
     "output_type": "execute_result"
    }
   ],
   "source": [
    "list(c.head())"
   ]
  },
  {
   "cell_type": "code",
   "execution_count": 31,
   "metadata": {},
   "outputs": [
    {
     "name": "stdout",
     "output_type": "stream",
     "text": [
      "['00 en', '00 horas', '000 empleos', '000 euros', '000 millones', '000 personas', '10 años', '10 de', '100 000', '10n https', '11 de', '12 00', '12 00h', '19 00', '20 años', '24 horas', '25 de', '26 de', '28 de', '30 años', '30 de', '30 horas', '3quq6ixg6u https', '40 años', '70 de', 'abalosmeco en', 'abogacía del', 'acaba de', 'acabar con', 'acabo de', 'acceso la', 'acto de', 'acto en', 'actos de', 'actualidad política', 'actualidadcs https', 'acuerdo con', 'acuerdo de', 'acuerdo en', 'acuerdo para', 'acuerdos de', 'además de', 'adrilastra en', 'adrilastra https', 'afectadas por', 'afectados por', 'afrontar la', 'afrontar los', 'agenda 2030', 'agenda de', 'agenda para', 'agente de', 'agentes de', 'agentes sociales', 'agricultores ganaderos', 'ahora el', 'ahora en', 'ahora es', 'ahora la', 'ahora mismo', 'ahora que', 'ahora se', 'ahora toca', 'ahoraespaña https', 'ahorasí https', 'ahorasí votapsoe', 'ahoraunidad https', 'al año', 'al congreso', 'al de', 'al día', 'al estado', 'al final', 'al frente', 'al futuro', 'al gobierno', 'al lado', 'al margen', 'al menos', 'al ministro', 'al mundo', 'al nacionalismo', 'al odio', 'al parlamento', 'al partido', 'al país', 'al poder', 'al pp', 'al presidente', 'al psoe', 'al pueblo', 'al que', 'al resto', 'al rey', 'al sector', 'al separatismo', 'al servicio', 'al trabajo', 'al virus', 'alcalde de', 'algo que', 'alguien que', 'algunos de', 'allá de', 'allí donde', 'almeidapp_ en', 'alternativa al', 'alto claro', 'altos cargos', 'altura de', 'amigos de', 'aniversario de', 'ante el', 'ante la', 'ante las', 'ante los', 'ante un', 'ante una', 'antes de', 'antes del', 'antes que', 'apostamos por', 'apostando por', 'apostar por', 'apoyar la', 'apoyo al', 'apoyo de', 'apoyo del', 'apoyo la', 'apoyo las', 'apoyo los', 'apoyo para', 'apuesta por', 'aquellos que', 'aquí el', 'aquí en', 'aquí https', 'aquí la', 'aquí os', 'artículo de', 'asamblea de', 'asesinato de', 'asesinó al', 'así como', 'así de', 'así es', 'así lo', 'así que', 'así se', 'ataque la', 'atendido los', 'atrás https', 'aumento de', 'aunque no', 'autónomos pymes', 'avanzando en', 'avanzar en', 'ayer en', 'ayudar los', 'ayudas directas', 'ayudas para', 'ayuntamiento de', 'año de', 'año en', 'año más', 'años de', 'años del', 'años después', 'años el', 'años en', 'años https', 'años más', 'años que', 'aún más', 'aún no', 'bajada de', 'bajar el', 'bajar impuestos', 'bajar la', 'bajo el', 'bandera de', 'basado en', 'base de', 'basta de', 'basta ya', 'beneficio de', 'bien común', 'bien de', 'bien que', 'bienestar de', 'bmveomkwn7 https', 'buena gestión', 'buena noticia', 'buenos días', 'cada día', 'cada uno', 'cada vez', 'calidad de', 'calles de', 'cambiar el', 'cambiar la', 'cambiar las', 'cambio climático', 'cambio de', 'cambio en', 'camino de', 'campaña de', 'campaña electoral', 'campaña en', 'campo de', 'canal de', 'candidatura de', 'capaces de', 'capacidad de', 'capaz de', 'cara de', 'cariño para', 'carmen calvo', 'carmencalvo_ en', 'carta de', 'casa de', 'caso de', 'casos de', 'castilla león', 'catalanes que', 'cataluña el', 'cataluña en', 'cataluña es', 'cataluña https', 'cataluña no', 'cataluña para', 'cataluña que', 'causa de', 'cayetanaat en', 'cc aa', 'celebramos el', 'centradosentufuturo https', 'centro de', 'centro derecha', 'centros de', 'cerca de', 'cientos de', 'cierre de', 'ciudad de', 'ciudadanos de', 'ciudadanos en', 'ciudadanos https', 'ciudadanos no', 'ciudadanos que', 'claro https', 'claro que', 'clave para', 'cmin https', 'co 3quq6ixg6u', 'co 6wgpuwq5jj', 'co bmveomkwn7', 'co s74g2kqn64', 'co yudi1aj3ky', 'coalición con', 'coalición progresista', 'combatir el', 'combatir la', 'comienza la', 'comisión de', 'comisión europea', 'comité de', 'como dice', 'como el', 'como en', 'como es', 'como esta', 'como este', 'como ha', 'como hoy', 'como la', 'como las', 'como lo', 'como los', 'como para', 'como presidente', 'como se', 'como si', 'como siempre', 'como sociedad', 'como tú', 'como un', 'como una', 'comparecencia de', 'compañeras de', 'compañeros compañeras', 'compañeros de', 'compañeros del', 'comprometido con', 'comprometidos con', 'compromiso con', 'compromiso de', 'comunidad autónoma', 'comunidad de', 'comunidad valenciana', 'comunidades autónomas', 'con bildu', 'con cs', 'con dinero', 'con discapacidad', 'con dos', 'con el', 'con ella', 'con ellos', 'con erc', 'con españa', 'con esta', 'con este', 'con la', 'con las', 'con lo', 'con los', 'con medidas', 'con mi', 'con motivo', 'con más', 'con nosotros', 'con nuestra', 'con nuestro', 'con nuestros', 'con podemos', 'con que', 'con quien', 'con quienes', 'con responsabilidad', 'con sanchezcastejon', 'con su', 'con sus', 'con sánchez', 'con toda', 'con todas', 'con todo', 'con todos', 'con tu', 'con un', 'con una', 'con vosotros', 'con vox', 'con él', 'condenado por', 'condenados por', 'condiciones de', 'condiciones laborales', 'confianza en', 'congreso de', 'congreso https', 'congreso para', 'conjunto de', 'conocer la', 'conscientes de', 'consecuencias de', 'conseguir que', 'consejero de', 'consejo de', 'consenso progre', 'constitución la', 'construir un', 'construir una', 'construirgobierno https', 'contamos con', 'contar con', 'contra de', 'contra el', 'contra la', 'contra las', 'contra los', 'contra vox', 'control de', 'convertido en', 'convierte en', 'convivencia en', 'convivencia la', 'cordón sanitario', 'coronavirus https', 'corrupción de', 'cosas que', 'costa de', 'covid 19', 'covid19 https', 'creación de', 'crear empleo', 'crear una', 'crecimiento económico', 'cree que', 'creemos en', 'creen que', 'creo que', 'crisis de', 'crisis del', 'crisis económica', 'crisis sanitaria', 'cs en', 'cs es', 'cs ha', 'cs no', 'cs para', 'cuando el', 'cuando la', 'cuando los', 'cuando no', 'cuando se', 'cuanto antes', 'cuatro años', 'cucagamarra en', 'cuenta con', 'cuenta de', 'cuerpos de', 'cuestión de', 'culpa de', 'cumpleaños que', 'cumplimiento de', 'cumplir con', 'cumplir la', 'cuál es', 'código penal', 'cómo se', 'da igual', 'da la', 'dado la', 'dado un', 'dar explicaciones', 'dar la', 'dar un', 'dar una', 'datos de', 'de 000', 'de 10', 'de 100', 'de 2020', 'de 2021', 'de 30', 'de 300', 'de 500', 'de abril', 'de acción', 'de acuerdo', 'de agosto', 'de alarma', 'de alquiler', 'de andalucía', 'de apoyo', 'de aquellos', 'de atención', 'de autónomos', 'de ayer', 'de ayudas', 'de ayuso', 'de año', 'de años', 'de barcelona', 'de bienestar', 'de bildu', 'de cada', 'de calidad', 'de cambio', 'de campaña', 'de cara', 'de casado', 'de castilla', 'de catalanes', 'de cataluña', 'de censura', 'de centro', 'de ceuta', 'de choque', 'de ciudadanos', 'de ciudadanoscs', 'de ciutadanscs', 'de coalición', 'de colón', 'de comunicación', 'de contención', 'de control', 'de convivencia', 'de coordinación', 'de corazón', 'de corrupción', 'de crecimiento', 'de cs', 'de cualquier', 'de cuentas', 'de cultura', 'de cádiz', 'de cómo', 'de dar', 'de decir', 'de defender', 'de defensa', 'de democracia', 'de derechas', 'de derecho', 'de derechos', 'de desarrollo', 'de diciembre', 'de dignidad', 'de diálogo', 'de dos', 'de dónde', 'de economía', 'de educación', 'de el', 'de ella', 'de ellas', 'de ello', 'de ellos', 'de emergencia', 'de emergencias', 'de empleo', 'de empresas', 'de energía', 'de enero', 'de erc', 'de esa', 'de ese', 'de eso', 'de esos', 'de españa', 'de españoles', 'de espera', 'de esperanza', 'de esta', 'de estabilidad', 'de estado', 'de estar', 'de estas', 'de este', 'de esto', 'de estos', 'de eta', 'de europa', 'de euros', 'de eutanasia', 'de expresión', 'de extrema', 'de familias', 'de febrero', 'de fondos', 'de forma', 'de formación', 'de franco', 'de futuro', 'de galicia', 'de gestión', 'de gobierno', 'de gobiernos', 'de gran', 'de grandes', 'de género', 'de haber', 'de hablar', 'de hacer', 'de hacienda', 'de hecho', 'de hoy', 'de iglesias', 'de igualdad', 'de impuestos', 'de inesarrimadas', 'de inmediato', 'de interior', 'de investidura', 'de investigación', 'de izquierda', 'de izquierdas', 'de julio', 'de junio', 'de justicia', 'de la', 'de las', 'de ley', 'de libertad', 'de llegar', 'de lo', 'de los', 'de lucha', 'de madrid', 'de maduro', 'de manera', 'de marzo', 'de mayo', 'de mañana', 'de medidas', 'de memoria', 'de menores', 'de menos', 'de mi', 'de miles', 'de millones', 'de ministros', 'de mis', 'de movilidad', 'de muchas', 'de muchos', 'de muerte', 'de mujeres', 'de murcia', 'de más', 'de nada', 'de navarra', 'de no', 'de nosotros', 'de noviembre', 'de nuestra', 'de nuestras', 'de nuestro', 'de nuestros', 'de nuevo', 'de octubre', 'de odio', 'de opinión', 'de oportunidades', 'de oro', 'de otra', 'de otros', 'de pablo', 'de pablocasado_', 'de paro', 'de partidos', 'de país', 'de pedro', 'de pensiones', 'de personas', 'de podemos', 'de poder', 'de poderes', 'de policia', 'de política', 'de políticas', 'de poner', 'de populares', 'de pp', 'de prensa', 'de primera', 'de progreso', 'de protección', 'de psoe', 'de puigdemont', 'de que', 'de queda', 'de quien', 'de quienes', 'de qué', 'de recuperación', 'de recursos', 'de respeto', 'de responsabilidad', 'de rtve', 'de ruta', 'de salud', 'de san', 'de sanchezcastejon', 'de sanidad', 'de santi_abascal', 'de seguir', 'de seguridad', 'de semana', 'de sentido', 'de septiembre', 'de ser', 'de servicio', 'de servicios', 'de sevilla', 'de siempre', 'de solidaridad', 'de su', 'de sus', 'de sánchez', 'de tener', 'de ti', 'de toda', 'de todas', 'de todo', 'de todos', 'de toledo', 'de torra', 'de trabajadores', 'de trabajar', 'de trabajo', 'de transporte', 'de tres', 'de trump', 'de tu', 'de un', 'de una', 'de unidas', 'de uno', 'de unos', 'de up', 'de vacunación', 'de vacunas', 'de valencia', 'de valladolid', 'de venezuela', 'de ver', 'de verano', 'de verdad', 'de vida', 'de violencia', 'de vivienda', 'de votos', 'de vox', 'de vox_es', 'de youtube', 'de él', 'debatalrojovivo https', 'debate de', 'debate sobre', 'debe ser', 'deben ser', 'debería ser', 'decenas de', 'decir la', 'decir que', 'decisión de', 'declaraciones de', 'declaración de', 'decía que', 'defendemos la', 'defender el', 'defender la', 'defender los', 'defendiendo la', 'defendiendo los', 'defensa de', 'defensa del', 'defiende la', 'defienden la', 'deja de', 'dejado de', 'dejamos nuestra', 'dejamos un', 'dejar atrás', 'dejar de', 'dejar nadie', 'deje de', 'dejen de', 'del 10n', 'del acto', 'del acuerdo', 'del alquiler', 'del ayuntamiento', 'del año', 'del bienestar', 'del cambio', 'del campo', 'del centro', 'del cgpj', 'del comité', 'del congreso', 'del congreso_es', 'del consejo', 'del coronavirus', 'del covid', 'del covid19', 'del de', 'del deporte', 'del derecho', 'del diálogo', 'del día', 'del empleo', 'del estado', 'del feminismo', 'del franquismo', 'del futuro', 'del gobierno', 'del gpscongreso', 'del grupo', 'del independentismo', 'del interior', 'del iva', 'del lado', 'del mar', 'del mercado', 'del ministerio', 'del ministro', 'del modelo', 'del mundo', 'del nacionalismo', 'del nuevo', 'del odio', 'del parlament', 'del parlamento', 'del paro', 'del partido', 'del pasado', 'del país', 'del pib', 'del plan', 'del planeta', 'del poder', 'del pp', 'del precio', 'del presidente', 'del procés', 'del proyecto', 'del psc', 'del psoe', 'del pueblo', 'del que', 'del rey', 'del régimen', 'del sector', 'del separatismo', 'del siglo', 'del sistema', 'del smi', 'del socialismo', 'del terrorismo', 'del trabajo', 'del tribunal', 'del virus', 'del voto', 'delante de', 'delito de', 'delitos de', 'democracia en', 'democracia es', 'democracia española', 'democracia https', 'democracia la', 'democracia no', 'demostrado que', 'demostrar que', 'demuestra que', 'dentro de', 'dentro del', 'dentro vídeo', 'dep https', 'depende de', 'derecha de', 'derecha en', 'derecha la', 'derecha no', 'derecha que', 'derecho al', 'derecho de', 'derecho la', 'derechos de', 'derechos fundamentales', 'derechos humanos', 'derechos laborales', 'derechos libertades', 'derechos sociales', 'derogar la', 'desarrollo de', 'desayunos_tve https', 'descanse en', 'desde aquí', 'desde cs', 'desde el', 'desde hace', 'desde hoy', 'desde la', 'desde las', 'desde los', 'desde que', 'después de', 'después del', 'destrucción de', 'detrás de', 'dice el', 'dice la', 'dice que', 'dicen que', 'dicho que', 'diciendo que', 'dignidad de', 'dignidad justicia', 'dijo que', 'dinero de', 'dinero público', 'diputados de', 'directo aquí', 'directo desde', 'directo en', 'directo https', 'directo través', 'discurso de', 'discurso del', 'discursos de', 'disfrutar de', 'disposición de', 'diálogo social', 'donde se', 'dos años', 'dosis de', 'durante años', 'durante el', 'durante la', 'décadas de', 'día como', 'día de', 'día día', 'día en', 'día https', 'día muy', 'día más', 'día para', 'día que', 'días de', 'días en', 'días felizdomingo', 'días felizjueves', 'días felizlunes', 'días para', 'díaz ayuso', 'economía de', 'económica de', 'económica social', 'educación de', 'educación en', 'educación pública', 'efectos de', 'ejemplo de', 'ejemplo para', 'ejercicio de', 'el 10', 'el 10n', 'el 14f', 'el 26m', 'el 28a', 'el 4m', 'el 8m', 'el acceso', 'el acoso', 'el acto', 'el acuerdo', 'el agua', 'el alcalde', 'el apoyo', 'el artículo', 'el asesinato', 'el ataque', 'el avance', 'el ayuntamiento', 'el año', 'el bien', 'el bienestar', 'el bipartidismo', 'el bloqueo', 'el cambio', 'el camino', 'el campo', 'el candidato', 'el caos', 'el cariño', 'el caso', 'el centro', 'el cgpj', 'el cierre', 'el cmin', 'el comité', 'el compromiso', 'el comunismo', 'el congreso', 'el congreso_es', 'el conjunto', 'el consejo', 'el consenso', 'el constitucionalismo', 'el control', 'el corazón', 'el coronavirus', 'el covid', 'el covid19', 'el crecimiento', 'el cumplimiento', 'el cáncer', 'el código', 'el daño', 'el de', 'el debate', 'el decreto', 'el del', 'el deporte', 'el derecho', 'el desarrollo', 'el dinero', 'el discurso', 'el diálogo', 'el dolor', 'el domingo', 'el día', 'el efecto', 'el ejemplo', 'el empleo', 'el encuentro', 'el equipo', 'el escudo', 'el esfuerzo', 'el espacio', 'el español', 'el espíritu', 'el estado', 'el europarl_es', 'el fallecimiento', 'el fascismo', 'el feminismo', 'el fin', 'el final', 'el foro', 'el fraude', 'el futuro', 'el gasto', 'el gobierno', 'el golpe', 'el govern', 'el gran', 'el grupo', 'el hecho', 'el hombre', 'el honor', 'el hospital', 'el impacto', 'el impuesto', 'el impulso', 'el independentismo', 'el indulto', 'el informe', 'el inicio', 'el interés', 'el iva', 'el juez', 'el liderazgo', 'el lunes', 'el machismo', 'el mar', 'el marco', 'el mayor', 'el medio', 'el mejor', 'el mensaje', 'el mercado', 'el miedo', 'el ministerio', 'el ministro', 'el mismo', 'el modelo', 'el momento', 'el movimiento', 'el mundo', 'el más', 'el nacionalismo', 'el nivel', 'el nombre', 'el nuevo', 'el número', 'el objetivo', 'el odio', 'el orden', 'el orgullo', 'el otro', 'el pacto', 'el papel', 'el parlament', 'el parlamento', 'el paro', 'el partido', 'el pasado', 'el país', 'el peor', 'el personal', 'el pin', 'el plan', 'el planeta', 'el pleno', 'el pnv', 'el poder', 'el populismo', 'el pp', 'el precio', 'el premio', 'el presidente', 'el primer', 'el principal', 'el principio', 'el problema', 'el proceso', 'el procés', 'el programa', 'el progreso', 'el propio', 'el proyecto', 'el próximo', 'el psc', 'el psoe', 'el pueblo', 'el que', 'el racismo', 'el reconocimiento', 'el reencuentro', 'el reparto', 'el respeto', 'el resto', 'el resultado', 'el reto', 'el rey', 'el riesgo', 'el régimen', 'el sanchismo', 'el secretario', 'el sector', 'el segundo', 'el senado', 'el sentido', 'el separatismo', 'el servicio', 'el señor', 'el siguiente', 'el silencio', 'el sistema', 'el smi', 'el socialismo', 'el socialista', 'el sr', 'el supremo', 'el tema', 'el territorio', 'el terrorismo', 'el tiempo', 'el trabajo', 'el tribunal', 'el turismo', 'el uso', 'el valor', 'el vicepresidente', 'el viernes', 'el virus', 'el voto', 'el vídeo', 'el ámbito', 'el último', 'el único', 'el_pais https', 'elecciones del', 'elecciones en', 'elección de', 'elegir entre', 'ellos https', 'ellos no', 'elprogramadear https', 'emergencia climática', 'empleo de', 'empleo en', 'empleo https', 'empleo la', 'empresa pública', 'en 2017', 'en 2018', 'en 2019', 'en 2020', 'en 2021', 'en 24horas_rne', 'en afganistán', 'en andalucía', 'en baleares', 'en barcelona', 'en breve', 'en bruselas', 'en cada', 'en campaña', 'en canarias', 'en casa', 'en castilla', 'en cataluña', 'en ceuta', 'en común', 'en contra', 'en cs', 'en cualquier', 'en cuanto', 'en cuba', 'en cuenta', 'en debatalrojovivo', 'en defensa', 'en democracia', 'en derechos', 'en desayunos_tve', 'en directo', 'en dos', 'en el', 'en ello', 'en elprogramadear', 'en esa', 'en ese', 'en eslamananadefjl', 'en españa', 'en especial', 'en espejopublico', 'en esradio', 'en esta', 'en estas', 'en este', 'en estos', 'en europa', 'en favor', 'en ferraz', 'en fin', 'en funciones', 'en galicia', 'en herreraencope', 'en hoyporhoy', 'en https', 'en igualdad', 'en juego', 'en la', 'en lahoratve', 'en lanoche24h', 'en lanoche_24h', 'en las', 'en lasmananas_rne', 'en libertad', 'en lo', 'en los', 'en lugar', 'en madrid', 'en manos', 'en marcha', 'en masdeuno', 'en materia', 'en medio', 'en mi', 'en moncloa', 'en murcia', 'en navarra', 'en ningún', 'en nombre', 'en nuestra', 'en nuestras', 'en nuestro', 'en nuestros', 'en otros', 'en paro', 'en paz', 'en peligro', 'en pie', 'en plena', 'en podemos', 'en política', 'en primera', 'en que', 'en qué', 'en realidad', 'en riesgo', 'en rne', 'en san', 'en sanidad', 'en serio', 'en sevilla', 'en situación', 'en su', 'en sus', 'en toda', 'en todas', 'en todo', 'en todos', 'en torno', 'en tu', 'en un', 'en una', 'en uno', 'en unos', 'en valencia', 'en valladolid', 'en valor', 'en venezuela', 'en vez', 'en vigor', 'en vox', 'en vox_es', 'en zaragoza', 'encima de', 'encuentro con', 'endirecto aquí', 'endirecto https', 'enemigos de', 'enhorabuena https', 'enhorabuena por', 'enlace https', 'entender que', 'entra en', 'entrar en', 'entre el', 'entre ellos', 'entre españoles', 'entre hombres', 'entre la', 'entre las', 'entre los', 'entre todos', 'entrevista completa', 'entrevista de', 'entrevista en', 'entrevista que', 'entrevistada en', 'entrevistado en', 'equipo de', 'equipos de', 'era el', 'era un', 'era una', 'eres un', 'es algo', 'es así', 'es bueno', 'es capaz', 'es cierto', 'es clave', 'es como', 'es de', 'es decir', 'es el', 'es en', 'es entrevistado', 'es esencial', 'es evidente', 'es fundamental', 'es hora', 'es importante', 'es imposible', 'es imprescindible', 'es inaceptable', 'es intolerable', 'es la', 'es lo', 'es momento', 'es mucho', 'es muy', 'es más', 'es necesario', 'es no', 'es nuestra', 'es nuestro', 'es para', 'es por', 'es porque', 'es posible', 'es que', 'es solo', 'es su', 'es sí', 'es también', 'es tan', 'es un', 'es una', 'es uno', 'es urgente', 'es verdad', 'es ya', 'esa es', 'escudo social', 'ese es', 'esfuerzo de', 'eso es', 'eso lo', 'eso no', 'eso se', 'eso sí', 'espacio de', 'españa como', 'españa con', 'españa de', 'españa debe', 'españa desde', 'españa el', 'españa en', 'españa es', 'españa está', 'españa ha', 'españa hay', 'españa https', 'españa la', 'españa lo', 'españa los', 'españa necesita', 'españa no', 'españa para', 'españa pero', 'españa por', 'españa que', 'españa se', 'españa tiene', 'españa un', 'españa viva', 'españaavanza https', 'españaavanza_ https', 'españasiempre https', 'españaviva https', 'español en', 'español https', 'españoles de', 'españoles en', 'españoles https', 'españoles la', 'españoles no', 'españoles para', 'españoles que', 'españoles se', 'espejopublico https', 'esperamos https', 'esperamos que', 'esperanza de', 'espero que', 'espíritu de', 'esta campaña', 'esta crisis', 'esta entrevista', 'esta es', 'esta lacra', 'esta legislatura', 'esta ley', 'esta mañana', 'esta noche', 'esta nueva', 'esta pandemia', 'esta semana', 'esta situación', 'esta tarde', 'esta vez', 'estado con', 'estado de', 'estado del', 'estado en', 'estado https', 'estado no', 'estado para', 'estado que', 'estamos ante', 'estamos con', 'estamos en', 'estamos muy', 'estamos trabajando', 'estamos viendo', 'estar en', 'estar la', 'estará en', 'estaré en', 'estas elecciones', 'estas son', 'este artículo', 'este año', 'este caso', 'este domingo', 'este enlace', 'este es', 'este fin', 'este gobierno', 'este gran', 'este hilo', 'este momento', 'este nuevo', 'este país', 'este proyecto', 'este tipo', 'este viernes', 'este vídeo', 'estevirusloparamosunidos https', 'esto de', 'esto es', 'esto https', 'esto no', 'esto se', 'estos años', 'estos días', 'estos momentos', 'estos son', 'estrategia de', 'está bien', 'está con', 'está el', 'está en', 'está haciendo', 'está la', 'está más', 'está pasando', 'está por', 'está siendo', 'están en', 'están haciendo', 'esté en', 'eta asesinó', 'etapa de', 'europa de', 'europa en', 'europa es', 'europa https', 'europa no', 'europa que', 'europeo de', 'euros en', 'euros para', 'evidente que', 'evitar el', 'evitar la', 'evitar que', 'exigimos que', 'extrema derecha', 'extrema izquierda', 'factura de', 'fallecimiento de', 'falta de', 'familia amigos', 'familia de', 'familia https', 'familiares amigos', 'familias de', 'familias que', 'favor de', 'felipe vi', 'feliz cumpleaños', 'feliz día', 'feliz navidad', 'feliz un', 'fernando grande', 'fin de', 'fin la', 'final de', 'fiscal general', 'fondo de', 'fondos buitre', 'fondos de', 'fondos europeos', 'forma de', 'forma parte', 'formación de', 'formar gobierno', 'formar parte', 'formar un', 'formas de', 'foto de', 'frenar el', 'frenar la', 'frente al', 'frente de', 'frente del', 'frente la', 'frente las', 'frente los', 'fue el', 'fue la', 'fue un', 'fue una', 'fuera de', 'fuerte abrazo', 'fuerza de', 'fuerzas armadas', 'fuerzas cuerpos', 'fuerzas de', 'fuerzas políticas', 'fundamental para', 'futuro de', 'futuro https', 'futuro para', 'félix bolaños', 'ganas de', 'garantizar el', 'garantizar la', 'garantizar que', 'garantía de', 'general de', 'general del', 'gente de', 'gente en', 'gente https', 'gente no', 'gente que', 'gente trabajadora', 'gestión de', 'gestión del', 'gobernar con', 'gobernarenserio https', 'gobierno central', 'gobierno con', 'gobierno de', 'gobierno debe', 'gobierno del', 'gobierno el', 'gobierno en', 'gobierno es', 'gobierno español', 'gobierno estable', 'gobierno está', 'gobierno fuerte', 'gobierno ha', 'gobierno https', 'gobierno la', 'gobierno los', 'gobierno no', 'gobierno para', 'gobierno por', 'gobierno progresista', 'gobierno que', 'gobierno sanchezcastejon', 'gobierno se', 'gobierno socialista', 'gobierno tiene', 'gobiernos de', 'gobiernos del', 'gobiernos en', 'golpe de', 'gracias al', 'gracias https', 'gracias la', 'gracias las', 'gracias los', 'gracias por', 'gracias ti', 'gracias todos', 'gran coalición', 'gran labor', 'gran noticia', 'gran oportunidad', 'gran trabajo', 'grande marlaska', 'grandes empresas', 'grandes retos', 'grupo de', 'grupo parlamentario', 'guardia civil', 'guardias civiles', 'ha aprobado', 'ha atendido', 'ha cambiado', 'ha conseguido', 'ha convertido', 'ha dado', 'ha de', 'ha decidido', 'ha dejado', 'ha demostrado', 'ha dicho', 'ha elegido', 'ha estado', 'ha ganado', 'ha habido', 'ha hecho', 'ha ido', 'ha llegado', 'ha llevado', 'ha pasado', 'ha pedido', 'ha perdido', 'ha presentado', 'ha puesto', 'ha quedado', 'ha salido', 'ha sido', 'ha tenido', 'ha visto', 'ha votado', 'ha vuelto', 'habla de', 'hablado de', 'hablamos de', 'hablan de', 'hablando de', 'hablar con', 'hablar de', 'hablar sobre', 'hace años', 'hace dos', 'hace el', 'hace falta', 'hace más', 'hace un', 'hace unos', 'hacer de', 'hacer el', 'hacer en', 'hacer es', 'hacer frente', 'hacer lo', 'hacer política', 'hacer que', 'hacer un', 'hacer una', 'hacia el', 'hacia la', 'hacia otro', 'hacia un', 'hacia una', 'haga falta', 'han dado', 'han dejado', 'han hecho', 'han pasado', 'han perdido', 'han puesto', 'han sido', 'han tenido', 'han votado', 'hasta ahora', 'hasta el', 'hasta la', 'hasta que', 'hay dos', 'hay en', 'hay más', 'hay que', 'hay un', 'hay una', 'haya un', 'hazloxmadrid https', 'he dicho', 'he podido', 'he reunido', 'he tenido', 'hecho de', 'hecho en', 'hecho posible', 'hecho un', 'hemos aprobado', 'hemos conseguido', 'hemos demostrado', 'hemos estado', 'hemos hecho', 'hemos pedido', 'hemos presentado', 'hemos puesto', 'hemos reunido', 'hemos sido', 'hemos tenido', 'hemos visto', 'hilo https', 'historia de', 'historia del', 'historia https', 'hoja de', 'hombres mujeres', 'hora de', 'horas de', 'hoy celebramos', 'hoy con', 'hoy de', 'hoy el', 'hoy en', 'hoy es', 'hoy eta', 'hoy ha', 'hoy hace', 'hoy he', 'hoy hemos', 'hoy https', 'hoy la', 'hoy las', 'hoy lo', 'hoy los', 'hoy me', 'hoy más', 'hoy no', 'hoy nos', 'hoy por', 'hoy se', 'hoyporhoy https', 'https co', 'idea de', 'ideología de', 'idiazayuso en', 'iglesias en', 'igual que', 'igualdad de', 'igualdad en', 'igualdad entre', 'igualdad https', 'igualdad la', 'igualdad real', 'imagen de', 'impedir que', 'importancia de', 'importante es', 'importante para', 'importante que', 'imprescindible para', 'impuesto de', 'impuestos los', 'impulsar la', 'incapaz de', 'independencia judicial', 'indultos los', 'inesarrimadas el', 'inesarrimadas en', 'info en', 'información sobre', 'iniciativa para', 'inicio de', 'inmigración ilegal', 'inmigrantes ilegales', 'intento de', 'intereses de', 'internacional de', 'intervención de', 'intervención en', 'interviene en', 'interés general', 'inversión de', 'inversión en', 'investidura de', 'ir votar', 'irene montero', 'iva de', 'izquierda https', 'izquierda no', 'izquierda que', 'jefe de', 'jefe del', 'jornada de', 'josé luis', 'josé maría', 'juan carlos', 'junta de', 'junta electoral', 'junto al', 'junto con', 'junto la', 'justicia https', 'justicia social', 'la abogacía', 'la acción', 'la actitud', 'la actividad', 'la actualidad', 'la administración', 'la agenda', 'la alternativa', 'la altura', 'la amenaza', 'la aprobación', 'la asamblea', 'la asociación', 'la atención', 'la audiencia', 'la ayuda', 'la banda', 'la bandera', 'la barbarie', 'la base', 'la batalla', 'la brecha', 'la buena', 'la cabeza', 'la cadena', 'la caja', 'la calidad', 'la calle', 'la campaña', 'la candidatura', 'la capacidad', 'la capital', 'la cara', 'la carta', 'la casa', 'la cataluña', 'la celebración', 'la ceoe', 'la ciencia', 'la ciudad', 'la ciudadanía', 'la clase', 'la clave', 'la coalición', 'la cohesión', 'la cola', 'la colaboración', 'la comisión', 'la comparecencia', 'la compra', 'la comunidad', 'la comunidadmadrid', 'la conciliación', 'la concordia', 'la conferencia', 'la confianza', 'la confrontación', 'la constitución', 'la construcción', 'la convención', 'la convivencia', 'la cooperación', 'la corrupción', 'la covid19', 'la creación', 'la crisis', 'la cuenta', 'la culpa', 'la cultura', 'la cumbre', 'la cup', 'la cámara', 'la cárcel', 'la de', 'la decisión', 'la declaración', 'la defensa', 'la del', 'la delegación', 'la democracia', 'la derecha', 'la deriva', 'la desigualdad', 'la despoblación', 'la destrucción', 'la deuda', 'la dictadura', 'la diferencia', 'la digitalización', 'la dignidad', 'la dimisión', 'la diputación', 'la dirección', 'la discriminación', 'la diversidad', 'la división', 'la economía', 'la educación', 'la ejecutiva', 'la emergencia', 'la empresa', 'la energía', 'la entrada', 'la entrevista', 'la escuela', 'la espalda', 'la españa', 'la españaviva', 'la esperanza', 'la estabilidad', 'la estrategia', 'la europa', 'la eutanasia', 'la evolución', 'la exhumación', 'la experiencia', 'la extrema', 'la factura', 'la falta', 'la familia', 'la financiación', 'la fiscalía', 'la forma', 'la formación', 'la foto', 'la frontera', 'la fuerza', 'la fundación', 'la garantía', 'la generalidad', 'la generalitat', 'la gente', 'la gestión', 'la gobernabilidad', 'la gran', 'la guardia', 'la guardiacivil', 'la guerra', 'la historia', 'la hora', 'la hostelería', 'la humanidad', 'la idea', 'la ideología', 'la igualdad', 'la ilusión', 'la imagen', 'la importancia', 'la impunidad', 'la independencia', 'la industria', 'la infancia', 'la info', 'la información', 'la iniciativa', 'la inmigración', 'la inmunidad', 'la innovación', 'la inseguridad', 'la intervención', 'la inversión', 'la investidura', 'la investigación', 'la izquierda', 'la jornada', 'la junta', 'la justicia', 'la juventud', 'la labor', 'la legalidad', 'la legislatura', 'la lengua', 'la ley', 'la libertad', 'la lista', 'la llegada', 'la lucha', 'la luz', 'la línea', 'la mafia', 'la manifestación', 'la mano', 'la matraca', 'la mayor', 'la mayoría', 'la mañana', 'la media', 'la mejor', 'la memoria', 'la mentira', 'la mesa', 'la militancia', 'la ministra', 'la misma', 'la mitad', 'la moción', 'la moderación', 'la monarquía', 'la moncloa', 'la movilidad', 'la muerte', 'la mujer', 'la más', 'la máxima', 'la nación', 'la necesidad', 'la negociación', 'la noche', 'la normalidad', 'la noticia', 'la nueva', 'la obligación', 'la obra', 'la oferta', 'la onu', 'la oportunidad', 'la oposición', 'la organización', 'la pac', 'la palabra', 'la palma', 'la pandemia', 'la participación', 'la patria', 'la paz', 'la pena', 'la peor', 'la persona', 'la piel', 'la plaza', 'la población', 'la pobreza', 'la policia', 'la policía', 'la política', 'la portuguesa', 'la posibilidad', 'la posición', 'la precariedad', 'la pregunta', 'la prensa', 'la presencia', 'la presentación', 'la presidencia', 'la presidenta', 'la prevención', 'la primera', 'la prioridad', 'la producción', 'la propaganda', 'la propia', 'la propuesta', 'la prosperidad', 'la protección', 'la provincia', 'la prueba', 'la próxima', 'la puerta', 'la que', 'la razón', 'la realidad', 'la recuperación', 'la red', 'la reforma', 'la regeneración', 'la región', 'la regióndemurcia', 'la renovación', 'la represión', 'la república', 'la responsabilidad', 'la respuesta', 'la reunión', 'la revolución', 'la rioja', 'la riqueza', 'la rueda', 'la ruina', 'la salida', 'la salud', 'la sanidad', 'la sede', 'la segunda', 'la seguridad', 'la semana', 'la senda', 'la sentencia', 'la separación', 'la sesióndecontrol', 'la señora', 'la situación', 'la soberanía', 'la sociedad', 'la solidaridad', 'la solución', 'la sostenibilidad', 'la subida', 'la suerte', 'la televisión', 'la tercera', 'la tierra', 'la traición', 'la transformación', 'la transición', 'la transparencia', 'la ue', 'la ultraderecha', 'la unidad', 'la universidad', 'la unión', 'la vacuna', 'la vacunación', 'la vanguardia', 'la vasca', 'la verdad', 'la vergüenza', 'la vez', 'la vicepresidenta', 'la victoria', 'la vida', 'la violencia', 'la violenciadegénero', 'la violenciamachista', 'la vivienda', 'la voluntad', 'la voz', 'la vuelta', 'la vía', 'la víctima', 'la zona', 'la última', 'la única', 'labor de', 'lado de', 'laespañaquehacemos_ https', 'laespañaquenosmerecemos https', 'lahoratve https', 'lanoche24h https', 'largo de', 'las 00', 'las 09', 'las 10', 'las 11', 'las 12', 'las 13', 'las 18', 'las 19', 'las 20', 'las 21', 'las 22', 'las administraciones', 'las agresiones', 'las amenazas', 'las aulas', 'las autonomías', 'las autoridades', 'las ayudas', 'las bases', 'las calles', 'las cc', 'las ccaa', 'las cifras', 'las ciudades', 'las clases', 'las cloacas', 'las competencias', 'las comunidades', 'las condiciones', 'las consecuencias', 'las cortes', 'las cosas', 'las cuentas', 'las de', 'las decisiones', 'las declaraciones', 'las derechas', 'las desigualdades', 'las dos', 'las elecciones', 'las eléctricas', 'las empresas', 'las encuestas', 'las familias', 'las fcse', 'las feministas', 'las formas', 'las fronteras', 'las fuerzas', 'las gracias', 'las grandes', 'las ideas', 'las instituciones', 'las islas', 'las leyes', 'las libertades', 'las listas', 'las los', 'las mafias', 'las manos', 'las medidas', 'las mejores', 'las mentiras', 'las mismas', 'las mujeres', 'las naciones', 'las necesidades', 'las negociaciones', 'las niñas', 'las normas', 'las noticias', 'las nuevas', 'las obras', 'las palabras', 'las pensiones', 'las personas', 'las políticas', 'las preguntas', 'las primeras', 'las prioridades', 'las propuestas', 'las próximas', 'las puertas', 'las pymes', 'las que', 'las recomendaciones', 'las redes', 'las reformas', 'las relaciones', 'las residencias', 'las restricciones', 'las trabajadoras', 'las tres', 'las urnas', 'las vacunas', 'las violencias', 'las víctimas', 'las zonas', 'las élites', 'las últimas', 'le da', 'le ha', 'le han', 'le he', 'le va', 'lecciones de', 'lección de', 'lejos de', 'les ha', 'ley de', 'ley del', 'ley el', 'ley https', 'ley la', 'ley para', 'ley que', 'ley trans', 'libertad de', 'libertad en', 'libertad es', 'libertad https', 'libertad la', 'libertad para', 'libertad que', 'libertades de', 'libre de', 'libro de', 'liderar la', 'lista de', 'listas de', 'llegada de', 'llegar acuerdos', 'llegar al', 'llena de', 'lleno de', 'lo común', 'lo contamos', 'lo contrario', 'lo cuenta', 'lo de', 'lo del', 'lo demás', 'lo dice', 'lo digo', 'lo es', 'lo explica', 'lo ha', 'lo hace', 'lo hacen', 'lo han', 'lo haremos', 'lo he', 'lo hemos', 'lo importante', 'lo largo', 'lo mejor', 'lo mismo', 'lo más', 'lo peor', 'lo pierdas', 'lo posible', 'lo primero', 'lo público', 'lo que', 'lo tiene', 'lo vamos', 'lo único', 'los abusos', 'los actos', 'los acuerdos', 'los afectados', 'los afiliados', 'los agentes', 'los agricultores', 'los alquileres', 'los amigos', 'los andaluces', 'los asesinos', 'los ataques', 'los autónomos', 'los avances', 'los ayuntamientos', 'los años', 'los bancos', 'los barrios', 'los beneficios', 'los casos', 'los catalanes', 'los cdr', 'los centros', 'los ciudadanos', 'los colectivos', 'los colegios', 'los compañeros', 'los comunistas', 'los condenados', 'los constitucionalistas', 'los cuidados', 'los datos', 'los daños', 'los ddhh', 'los de', 'los del', 'los delitos', 'los demás', 'los demócratas', 'los derechos', 'los desafíos', 'los diputados', 'los discursos', 'los dos', 'los días', 'los efectos', 'los enemigos', 'los equipos', 'los ere', 'los erte', 'los españoles', 'los estados', 'los expertos', 'los extremos', 'los familiares', 'los fondos', 'los funcionarios', 'los gobiernos', 'los golpistas', 'los grandes', 'los grupos', 'los hechos', 'los hijos', 'los hombres', 'los hospitales', 'los impuestos', 'los independentistas', 'los indultos', 'los inmigrantes', 'los intereses', 'los jueces', 'los jóvenes', 'los las', 'los liberales', 'los líderes', 'los madrileños', 'los mayores', 'los medios', 'los mejores', 'los menores', 'los miembros', 'los mismos', 'los momentos', 'los mossos', 'los municipios', 'los más', 'los nacionalistas', 'los niños', 'los nuevos', 'los objetivos', 'los ojos', 'los otros', 'los pactos', 'los padres', 'los partidos', 'los países', 'los pensionistas', 'los peores', 'los periodistas', 'los pge', 'los pies', 'los poderes', 'los poderosos', 'los políticos', 'los precios', 'los presos', 'los presupuestos', 'los primeros', 'los principales', 'los principios', 'los privilegios', 'los problemas', 'los profesionales', 'los progres', 'los próximos', 'los pueblos', 'los que', 'los radicales', 'los recortes', 'los recursos', 'los responsables', 'los resultados', 'los retos', 'los reyes', 'los sanitarios', 'los sectores', 'los separatistas', 'los servicios', 'los socialistas', 'los socios', 'los suyos', 'los terroristas', 'los tiempos', 'los totalitarios', 'los trabajadores', 'los tres', 'los tribunales', 'los valores', 'los vecinos', 'los violentos', 'los votantes', 'los votos', 'los últimos', 'los únicos', 'losdesayunos https', 'lucha contra', 'lucha de', 'lucha por', 'luchando contra', 'luchando por', 'luchar contra', 'luchar por', 'lugar de', 'líder de', 'línea de', 'madrid con', 'madrid de', 'madrid el', 'madrid en', 'madrid es', 'madrid https', 'madrid la', 'madrid no', 'madrid para', 'madrid que', 'madrid se', 'manera de', 'mano de', 'manos de', 'mantener la', 'mantenerse en', 'mar menor', 'marco de', 'margarita robles', 'materia de', 'material sanitario', 'mayores de', 'mayoría absoluta', 'mayoría de', 'mayoría social', 'mañana en', 'me gusta', 'me gustaría', 'me ha', 'me han', 'me he', 'me lo', 'me parece', 'me siento', 'medalla de', 'medidas de', 'medidas para', 'medidas que', 'medidas urgentes', 'medio ambiente', 'medio de', 'medios de', 'mejor de', 'mejor https', 'mejor para', 'mejor que', 'mejora de', 'mejorar la', 'memoria de', 'memoria democrática', 'memoria dignidad', 'memoria histórica', 'memoria https', 'menores de', 'menos de', 'menos que', 'mensaje de', 'mercado de', 'mercado laboral', 'merece la', 'mes de', 'mesa de', 'mesa del', 'meses de', 'mi agradecimiento', 'mi apoyo', 'mi cariño', 'mi compañero', 'mi entrevista', 'mi intervención', 'mi más', 'mi solidaridad', 'miembros de', 'miembros del', 'mientras el', 'mientras la', 'mientras los', 'mientras se', 'mientras tanto', 'miguel ángel', 'mil gracias', 'miles de', 'millones de', 'millones en', 'millón de', 'ministerio de', 'ministra de', 'ministro de', 'minuto de', 'mis compañeros', 'mis condolencias', 'mismo que', 'mitad de', 'moción de', 'modelo de', 'modelos de', 'momento de', 'momento en', 'montesinospablo en', 'motor de', 'movimiento feminista', 'mucha fuerza', 'mucha gente', 'mucha suerte', 'muchas cosas', 'muchas felicidades', 'muchas gracias', 'mucho de', 'mucho más', 'mucho por', 'mucho que', 'mucho tiempo', 'mucho ánimo', 'muchos años', 'muchos de', 'muchísimas gracias', 'muerte de', 'mujer en', 'mujeres asesinadas', 'mujeres de', 'mujeres en', 'mujeres https', 'mujeres no', 'mujeres que', 'mundial de', 'mundo en', 'mundo https', 'mundo rural', 'muy bien', 'muy buenos', 'muy claro', 'muy feliz', 'muy importante', 'más allá', 'más alto', 'más cerca', 'más de', 'más del', 'más el', 'más en', 'más fuerte', 'más fuertes', 'más grande', 'más https', 'más importante', 'más importantes', 'más justa', 'más justo', 'más la', 'más lo', 'más los', 'más necesario', 'más para', 'más que', 'más se', 'más sentido', 'más vulnerables', 'nacional de', 'nacional https', 'nada de', 'nada https', 'nada más', 'nada ni', 'nada que', 'nadie atrás', 'nadie se', 'necesarias para', 'necesario para', 'necesario que', 'necesidad de', 'necesidades de', 'necesita un', 'necesitamos que', 'necesitamos un', 'necesitamos una', 'ni con', 'ni de', 'ni el', 'ni en', 'ni la', 'ni los', 'ni para', 'ni se', 'ni siquiera', 'ni un', 'ni una', 'niunamenos https', 'nivel de', 'niños niñas', 'no al', 'no con', 'no de', 'no debe', 'no dejar', 'no el', 'no en', 'no entiendo', 'no era', 'no es', 'no estamos', 'no está', 'no estáis', 'no están', 'no existe', 'no ha', 'no habrá', 'no había', 'no hace', 'no han', 'no has', 'no hay', 'no haya', 'no he', 'no hemos', 'no https', 'no la', 'no las', 'no le', 'no les', 'no lo', 'no los', 'no me', 'no no', 'no nos', 'no os', 'no para', 'no permitiremos', 'no podemos', 'no por', 'no puede', 'no pueden', 'no puedo', 'no que', 'no queremos', 'no quiere', 'no quieren', 'no quiero', 'no sabe', 'no saben', 'no se', 'no sea', 'no será', 'no sería', 'no solo', 'no somos', 'no son', 'no sé', 'no sólo', 'no te', 'no tenemos', 'no tengo', 'no tiene', 'no tienen', 'no todo', 'no un', 'no va', 'no vamos', 'no van', 'nombre de', 'normalidad democrática', 'nos deja', 'nos ha', 'nos hace', 'nos han', 'nos hemos', 'nos jugamos', 'nos lo', 'nos reunimos', 'nos une', 'nos va', 'nos vamos', 'nos van', 'nos vemos', 'nosotros https', 'nosotros no', 'noticia para', 'noticia que', 'nuestra agenda', 'nuestra ciudad', 'nuestra democracia', 'nuestra economía', 'nuestra historia', 'nuestra propuesta', 'nuestra sociedad', 'nuestra solidaridad', 'nuestra tierra', 'nuestra web', 'nuestras fronteras', 'nuestras propuestas', 'nuestras redes', 'nuestro apoyo', 'nuestro compromiso', 'nuestro objetivo', 'nuestro país', 'nuestro programa', 'nuestro proyecto', 'nuestro secretario', 'nuestro sistema', 'nuestros derechos', 'nuestros hijos', 'nuestros mayores', 'nueva etapa', 'nueva ley', 'nuevo gobierno', 'nunca más', 'nunca se', 'número de', 'objetivo de', 'objetivo es', 'obligación de', 'obras de', 'odio la', 'odón elorza', 'of the', 'ola de', 'oportunidad de', 'oportunidad para', 'oportunidades para', 'orden constitucional', 'organizado por', 'orgullo de', 'orgullo para', 'orgullosa de', 'orgulloso de', 'orgullosos de', 'os dejamos', 'os dejo', 'os esperamos', 'os espero', 'os lo', 'otra cosa', 'otra vez', 'otro lado', 'otros partidos', 'otros países', 'pablo casado', 'pablo iglesias', 'pablo_iglesias_ en', 'pablocasado_ el', 'pablocasado_ en', 'pablocasado_ https', 'pabloiglesias en', 'pacta con', 'pactar con', 'pacto de', 'pactos de', 'pago de', 'palabras de', 'pandemia https', 'papel de', 'para abordar', 'para acabar', 'para afrontar', 'para alcanzar', 'para apoyar', 'para avanzar', 'para ayudar', 'para bajar', 'para cambiar', 'para cataluña', 'para combatir', 'para comentar', 'para conocer', 'para conseguir', 'para construir', 'para crear', 'para dar', 'para decir', 'para defender', 'para el', 'para ello', 'para ellos', 'para eso', 'para españa', 'para este', 'para evitar', 'para formar', 'para frenar', 'para ganar', 'para garantizar', 'para gobernar', 'para hablar', 'para hacer', 'para hoy', 'para impulsar', 'para intentar', 'para la', 'para las', 'para llegar', 'para llevar', 'para lograr', 'para los', 'para luchar', 'para madrid', 'para mantener', 'para mejorar', 'para mí', 'para no', 'para nosotros', 'para nuestra', 'para nuestro', 'para otro', 'para pagar', 'para poder', 'para poner', 'para proteger', 'para que', 'para quienes', 'para qué', 'para recuperar', 'para reducir', 'para reforzar', 'para sacar', 'para salir', 'para salvar', 'para seguir', 'para ser', 'para su', 'para sus', 'para tener', 'para ti', 'para toda', 'para todas', 'para todos', 'para un', 'para una', 'para ver', 'parece que', 'parlamento europeo', 'parte de', 'parte del', 'participa en', 'participado en', 'participar en', 'partido de', 'partido en', 'partido popular', 'partido que', 'partido socialista', 'partidos políticos', 'partidos que', 'partir de', 'partir del', 'pasa por', 'pasado de', 'pases un', 'paso atrás', 'paso más', 'paz https', 'país con', 'país de', 'país en', 'país es', 'país https', 'país la', 'país más', 'país no', 'país para', 'país que', 'país vasco', 'países de', 'pedimos al', 'pedimos la', 'pedimos que', 'pedro sánchez', 'pensando en', 'pensar en', 'permanente de', 'permitir que', 'pero con', 'pero el', 'pero en', 'pero es', 'pero hay', 'pero la', 'pero lo', 'pero los', 'pero no', 'pero para', 'pero que', 'pero se', 'pero si', 'pero sí', 'pero también', 'persona que', 'personal de', 'personal sanitario', 'personas con', 'personas de', 'personas en', 'personas lgtbi', 'personas más', 'personas que', 'pesar de', 'pierdas el', 'pierdas https', 'pierdas la', 'pin parental', 'plan de', 'plan para', 'planes de', 'plaza de', 'pleno del', 'pleno https', 'plus ultra', 'poco de', 'poco más', 'podemos con', 'podemos en', 'podemos es', 'podemos https', 'podemos no', 'podemos para', 'podemos permitir', 'podemos que', 'poder judicial', 'podrás seguirlo', 'policía nacional', 'política de', 'política en', 'política es', 'política https', 'política la', 'política no', 'política para', 'política que', 'políticas de', 'políticas públicas', 'políticas que', 'políticas sociales', 'político de', 'político en', 'político que', 'políticos que', 'pone en', 'ponenciapsoe https', 'poner en', 'poner españaenmarcha', 'poner fin', 'poniendo en', 'populares https', 'por cierto', 'por culpa', 'por defender', 'por delante', 'por ejemplo', 'por el', 'por ello', 'por encima', 'por eso', 'por españa', 'por esta', 'por estar', 'por este', 'por favor', 'por fin', 'por haber', 'por hacer', 'por la', 'por las', 'por lo', 'por los', 'por mucho', 'por más', 'por no', 'por nuestra', 'por odón', 'por parte', 'por primera', 'por qué', 'por sedición', 'por ser', 'por si', 'por su', 'por supuesto', 'por sus', 'por tanto', 'por toda', 'por todas', 'por todo', 'por todos', 'por tu', 'por un', 'por una', 'por vuestra', 'por vuestro', 'porque el', 'porque es', 'porque la', 'porque lo', 'porque los', 'porque no', 'porque se', 'portavoz de', 'portavoz del', 'portodoloquenosune https', 'portuguesa la', 'posibilidad de', 'posible https', 'posible para', 'posible que', 'pp ciudadanos', 'pp con', 'pp cs', 'pp de', 'pp el', 'pp en', 'pp es', 'pp ha', 'pp https', 'pp la', 'pp no', 'pp para', 'pp psoe', 'pp que', 'pp se', 'pp vox', 'precariedad laboral', 'precio de', 'prensa de', 'presencia de', 'presentación de', 'presidencia de', 'presidenta de', 'presidenta del', 'presidente de', 'presidente del', 'presidente que', 'presidente sanchezcastejon', 'presidentilla https', 'presos políticos', 'primer paso', 'primera línea', 'primera mano', 'primera vez', 'problema con', 'problema de', 'problema es', 'problemas de', 'problemas que', 'problemas reales', 'proceso de', 'profesionales de', 'profesionales que', 'profesionales sanitarios', 'programa de', 'progresista que', 'pronta recuperación', 'propuesta de', 'propuesta para', 'propuestas de', 'propuestas para', 'protección de', 'protegemadrid https', 'proteger la', 'proteger las', 'proteger los', 'provincia de', 'proyecto de', 'proyecto para', 'proyecto político', 'proyecto que', 'prueba de', 'psoe con', 'psoe de', 'psoe el', 'psoe en', 'psoe es', 'psoe ha', 'psoe https', 'psoe la', 'psoe no', 'psoe para', 'psoe podemos', 'psoe pp', 'psoe que', 'psoe se', 'pueblo de', 'pueblo español', 'puede estar', 'puede haber', 'puede hacer', 'puede https', 'puede seguir', 'puede ser', 'puede tener', 'pueden ser', 'puedes seguir', 'puedes seguirlo', 'puerta de', 'puesto en', 'puestos de', 'punto de', 'puntos de', 'pymes autónomos', 'pérdida de', 'pública de', 'público de', 'público https', 'público para', 'públicos de', 'públicos que', 'que acabar', 'que además', 'que ahora', 'que al', 'que algunos', 'que aún', 'que cada', 'que cataluña', 'que como', 'que con', 'que cs', 'que cuando', 'que da', 'que dar', 'que de', 'que debe', 'que debemos', 'que decir', 'que defiende', 'que defienden', 'que desde', 'que dice', 'que dicen', 'que dé', 'que el', 'que ellos', 'que en', 'que era', 'que es', 'que eso', 'que españa', 'que esta', 'que estamos', 'que estar', 'que este', 'que esto', 'que estos', 'que está', 'que están', 'que esté', 'que fue', 'que garantice', 'que ha', 'que hablar', 'que habéis', 'que había', 'que hace', 'que hacen', 'que hacer', 'que haga', 'que han', 'que hay', 'que haya', 'que he', 'que hemos', 'que hizo', 'que hoy', 'que ir', 'que la', 'que las', 'que le', 'que les', 'que lleva', 'que llevan', 'que lo', 'que los', 'que luchan', 'que madrid', 'que me', 'que muchos', 'que más', 'que nadie', 'que necesita', 'que necesitan', 'que ni', 'que no', 'que nos', 'que nuestra', 'que nuestro', 'que nuestros', 'que nunca', 'que os', 'que otros', 'que para', 'que pasa', 'que pases', 'que pedro', 'que podemos', 'que poner', 'que ponga', 'que por', 'que pueda', 'que puedan', 'que puede', 'que pueden', 'que queremos', 'que quiere', 'que quieren', 'que representa', 'que se', 'que sea', 'que sean', 'que seguir', 'que ser', 'que si', 'que siempre', 'que sigue', 'que siguen', 'que solo', 'que somos', 'que son', 'que su', 'que sufren', 'que supone', 'que sus', 'que sánchez', 'que sí', 'que sólo', 'que también', 'que tanto', 'que te', 'que tenemos', 'que tener', 'que tenga', 'que tengan', 'que tiene', 'que tienen', 'que todas', 'que todo', 'que todos', 'que trabajan', 'que un', 'que una', 'que va', 'que vamos', 'que van', 'que ver', 'que viene', 'que viven', 'que vivimos', 'que votar', 'que vox', 'que ya', 'que yo', 'que él', 'queda mucho', 'queremos que', 'queremos un', 'queremos una', 'quien no', 'quien se', 'quienes han', 'quienes no', 'quienes nos', 'quienes quieren', 'quienes se', 'quiere que', 'quieren que', 'quieren romper', 'qué el', 'qué es', 'qué no', 'qué se', 'real de', 'reales de', 'realidad de', 'realidad es', 'reconocimiento de', 'recordar que', 'recuperación de', 'recuperación económica', 'recuperar el', 'recuperar la', 'recuperemoscataluña https', 'red de', 'redes en', 'redes sociales', 'reducción de', 'reducir el', 'reducir la', 'referente en', 'reforma de', 'reforma del', 'reforma laboral', 'reformas que', 'reforzar la', 'región de', 'reino unido', 'renovación del', 'reparto de', 'representa la', 'representantes de', 'respeto la', 'responsabilidad de', 'responsable de', 'responsables de', 'resto de', 'resultado de', 'resumen de', 'retos de', 'retos que', 'reunido con', 'reunión con', 'reunión de', 'reunión del', 'riesgo de', 'romper españa', 'rotunda condena', 'rueda de', 'régimen de', 's74g2kqn64 https', 'sabe que', 'sabemos que', 'saben que', 'saber que', 'sacar adelante', 'salario mínimo', 'salida de', 'salir de', 'salud de', 'salud mental', 'salud pública', 'salvadorilla en', 'salvar vidas', 'san sebastián', 'sanchezcastejon el', 'sanchezcastejon en', 'sanchezcastejon https', 'sanchezcastejon la', 'sanchezcastejon laespañaquehacemos_', 'sanidad pública', 'santi_abascal en', 'se abre', 'se convierte', 'se cumplen', 'se debe', 'se encuentra', 'se entiende', 'se está', 'se están', 'se ha', 'se hace', 'se han', 'se la', 'se le', 'se les', 'se llama', 'se lo', 'se me', 'se merece', 'se merecen', 'se niega', 'se nos', 'se podía', 'se pone', 'se pueda', 'se puede', 'se pueden', 'se queda', 'se quede', 'se tiene', 'se trata', 'se va', 'se van', 'se ve', 'sea el', 'sea la', 'sea un', 'sea una', 'secretario de', 'secretario general', 'sede de', 'seguimos https', 'seguimos trabajando', 'seguir avanzando', 'seguir el', 'seguir en', 'seguir la', 'seguir siendo', 'seguir trabajando', 'seguiremos defendiendo', 'seguiremos trabajando', 'seguirla en', 'seguirlo en', 'seguridad de', 'seguridad del', 'seguridad en', 'seguridad jurídica', 'seguridad la', 'seguridad social', 'seguro que', 'según el', 'semana en', 'semana santa', 'sentencia del', 'sentido común', 'sentido de', 'sentido pésame', 'separación de', 'ser de', 'ser el', 'ser la', 'ser más', 'ser presidente', 'ser que', 'ser un', 'ser una', 'seres queridos', 'servicio de', 'servicio público', 'servicios de', 'servicios públicos', 'servicios sociales', 'servidores públicos', 'será el', 'será entrevistado', 'será la', 'será un', 'será una', 'sesión de', 'sesióndecontrol https', 'sesióndeinvestidura https', 'señor sánchez', 'si el', 'si eres', 'si es', 'si hay', 'si la', 'si lo', 'si los', 'si no', 'si nos', 'si queremos', 'si quieres', 'si se', 'si sánchez', 'si te', 'sido el', 'sido la', 'sido un', 'sido una', 'siempre con', 'siempre en', 'siempre es', 'siempre ha', 'siempre hemos', 'siempre https', 'siempre la', 'siempre que', 'siemprehaciadelante https', 'siendo el', 'siglo xxi', 'sigue con', 'sigue en', 'sigue la', 'sigue siendo', 'sigue sin', 'siguiente enlace', 'sin descanso', 'sin duda', 'sin embargo', 'sin miedo', 'sin precedentes', 'sin que', 'sino de', 'sino que', 'sirve para', 'sistema de', 'situación de', 'situación en', 'situación que', 'soberanía nacional', 'sobre el', 'sobre la', 'sobre las', 'sobre lo', 'sobre los', 'sobre su', 'sobre todo', 'social de', 'social en', 'social https', 'social la', 'social para', 'social que', 'sociales en', 'sociales https', 'sociales que', 'socialista de', 'socialista https', 'sociedad civil', 'sociedad española', 'sociedad más', 'sociedad que', 'socios de', 'solidaridad con', 'solo el', 'solo en', 'solo es', 'solo hay', 'solo por', 'solo se', 'solo un', 'soloquedavox https', 'somos el', 'somos la', 'somos los', 'somos más', 'somos un', 'somos una', 'son de', 'son el', 'son la', 'son las', 'son los', 'son más', 'son un', 'son una', 'su apoyo', 'su casa', 'su compromiso', 'su discurso', 'su equipo', 'su familia', 'su futuro', 'su gente', 'su gobierno', 'su gran', 'su historia', 'su intervención', 'su labor', 'su lucha', 'su partido', 'su país', 'su propia', 'su propio', 'su responsabilidad', 'su trabajo', 'su vida', 'su voto', 'subida de', 'subida del', 'subir el', 'subir los', 'supongo que', 'sus amigos', 'sus casas', 'sus compañeros', 'sus derechos', 'sus familiares', 'sus familias', 'sus hijos', 'sus intereses', 'sus socios', 'sus votos', 'sánchez con', 'sánchez de', 'sánchez debe', 'sánchez el', 'sánchez en', 'sánchez es', 'sánchez está', 'sánchez ha', 'sánchez https', 'sánchez iglesias', 'sánchez la', 'sánchez le', 'sánchez los', 'sánchez no', 'sánchez para', 'sánchez que', 'sánchez quiere', 'sánchez se', 'sánchez sigue', 'sánchez sus', 'sánchez tiene', 'sí es', 'sí https', 'sí la', 'sí mismo', 'sí que', 'sí se', 'síguelo en', 'síguelo endirecto', 'tal como', 'también de', 'también en', 'también es', 'también la', 'también lo', 'también los', 'también para', 'también se', 'tan importante', 'tan solo', 'tarde en', 'tasa de', 'te dejamos', 'te esperamos', 'te lo', 'te pierdas', 'televisión pública', 'tendrá que', 'tenemos el', 'tenemos la', 'tenemos por', 'tenemos que', 'tenemos un', 'tenemos una', 'tener que', 'tener un', 'tener una', 'tengan que', 'tenido que', 'teogarciaegea en', 'teogarciaegea https', 'tercera ola', 'tiempo de', 'tiempo para', 'tiempo que', 'tiempos de', 'tiene el', 'tiene la', 'tiene que', 'tiene un', 'tiene una', 'tienen la', 'tienen que', 'tienen un', 'tienes que', 'tipo de', 'toda españa', 'toda la', 'toda mi', 'toda su', 'toda una', 'todas las', 'todas todos', 'todavía no', 'todo el', 'todo en', 'todo es', 'todo esto', 'todo https', 'todo lo', 'todo mi', 'todo nuestro', 'todo para', 'todo por', 'todo tipo', 'todo un', 'todo vale', 'todos aquellos', 'todos aquí', 'todos ellos', 'todos en', 'todos https', 'todos los', 'todos nuestros', 'todos por', 'todos sus', 'todos todas', 'toma de', 'tomar medidas', 'trabajadores de', 'trabajadores trabajadoras', 'trabajamos para', 'trabajando en', 'trabajando para', 'trabajando por', 'trabajar en', 'trabajar para', 'trabajar por', 'trabajo de', 'trabajo en', 'trabajo https', 'trabajo por', 'trabajo que', 'transición ecológica', 'tras el', 'tras la', 'trata de', 'través de', 'través del', 'tres años', 'tribuna de', 'tribunal constitucional', 'tribunal de', 'tribunal supremo', 'ue no', 'un abrazo', 'un acto', 'un acuerdo', 'un ataque', 'un auténtico', 'un año', 'un beso', 'un buen', 'un cambio', 'un centro', 'un compromiso', 'un debate', 'un delito', 'un derecho', 'un día', 'un ejemplo', 'un encuentro', 'un equipo', 'un error', 'un esfuerzo', 'un espacio', 'un estado', 'un fuerte', 'un futuro', 'un gob', 'un gobierno', 'un golpe', 'un gran', 'un grupo', 'un hombre', 'un honor', 'un horizonte', 'un lado', 'un lugar', 'un madrid', 'un mensaje', 'un mes', 'un millón', 'un ministro', 'un minuto', 'un modelo', 'un momento', 'un mundo', 'un nuevo', 'un orgullo', 'un pacto', 'un partido', 'un paso', 'un país', 'un peligro', 'un placer', 'un plan', 'un poco', 'un presidente', 'un problema', 'un proceso', 'un programa', 'un proyecto', 'un rato', 'un referente', 'un referéndum', 'un resumen', 'un saludo', 'un sector', 'un sistema', 'un solo', 'un tiempo', 'un trabajo', 'un voto', 'una alternativa', 'una amenaza', 'una auténtica', 'una buena', 'una campaña', 'una ciudad', 'una comisión', 'una comunidad', 'una cosa', 'una crisis', 'una cuestión', 'una de', 'una decisión', 'una democracia', 'una dictadura', 'una educación', 'una empresa', 'una entrevista', 'una españa', 'una estrategia', 'una europa', 'una familia', 'una forma', 'una gran', 'una iniciativa', 'una lección', 'una ley', 'una mayoría', 'una medida', 'una mesa', 'una moción', 'una mujer', 'una nación', 'una nueva', 'una opción', 'una oportunidad', 'una oposición', 'una parte', 'una persona', 'una política', 'una prioridad', 'una propuesta', 'una realidad', 'una reforma', 'una respuesta', 'una reunión', 'una semana', 'una situación', 'una sociedad', 'una sola', 'una solución', 'una tierra', 'una vergüenza', 'una vez', 'una vida', 'una vivienda', 'unacataluñamejor https', 'unas elecciones', 'unidad de', 'unidad nacional', 'unidas podemos', 'unión europea', 'uno de', 'unos días', 'unos minutos', 'unos pocos', 'uso de', 'va de', 'va hacer', 'va ser', 'valientes que', 'valor de', 'valores de', 'vamos dejar', 'vamos hacer', 'vamos https', 'vamos permitir', 'vamos seguir', 'vamosmadrid https', 'vecinos de', 'vemos en', 'ver con', 'ver cómo', 'ver el', 'ver la', 'ver si', 'verdad es', 'verdad https', 'verdad la', 'verdad que', 'vergüenza https', 'verlo en', 'vez de', 'vez en', 'vez más', 'vez que', 'victoria de', 'vida de', 'vida en', 'vida https', 'vida por', 'violencia contra', 'violencia de', 'violencia en', 'violencia machista', 'violencias machistas', 'viva españa', 'viva la', 'vivir en', 'voluntad de', 'votantes de', 'votapp https', 'votapsc https', 'votapsoe https', 'votar el', 'votar en', 'voto de', 'voto en', 'votos de', 'vox en', 'vox es', 'vox ha', 'vox https', 'vox no', 'vox para', 'vox que', 'vox se', 'voz de', 'vuestro trabajo', 'vía _infolibre', 'vía el_pais', 'víctima de', 'víctimas de', 'víctimas del', 'vídeo https', 'web https', 'ya de', 'ya en', 'ya es', 'ya estamos', 'ya está', 'ya están', 'ya ha', 'ya han', 'ya hemos', 'ya https', 'ya la', 'ya lo', 'ya no', 'ya que', 'ya se', 'yo me', 'yo no', 'yo también', 'últimos años', 'única alternativa', 'único partido', 'único que']\n"
     ]
    }
   ],
   "source": [
    "print(vectorizer.get_feature_names())"
   ]
  },
  {
   "cell_type": "code",
   "execution_count": 32,
   "metadata": {},
   "outputs": [
    {
     "data": {
      "text/plain": [
       "<104023x4000 sparse matrix of type '<class 'numpy.int64'>'\n",
       "\twith 1030578 stored elements in Compressed Sparse Row format>"
      ]
     },
     "execution_count": 32,
     "metadata": {},
     "output_type": "execute_result"
    }
   ],
   "source": [
    "bow"
   ]
  },
  {
   "cell_type": "code",
   "execution_count": 33,
   "metadata": {},
   "outputs": [],
   "source": [
    "from sklearn.metrics import confusion_matrix\n",
    "from sklearn import svm"
   ]
  },
  {
   "cell_type": "code",
   "execution_count": 34,
   "metadata": {},
   "outputs": [],
   "source": [
    "svm_lineal = svm.LinearSVC(C=1, max_iter=10000).fit(bow, train[\"partido\"])"
   ]
  },
  {
   "cell_type": "code",
   "execution_count": 35,
   "metadata": {},
   "outputs": [],
   "source": [
    "d = test[\"tweet\"]\n",
    "vectorizer2 = CountVectorizer(ngram_range=(2,2), max_features=4000,  vocabulary=vectorizer.get_feature_names()) # to use bigrams ngram_range=(2,2)\n",
    "bow_test = vectorizer2.fit_transform(list(d)) # Bag of Words Test"
   ]
  },
  {
   "cell_type": "code",
   "execution_count": 36,
   "metadata": {},
   "outputs": [
    {
     "name": "stdout",
     "output_type": "stream",
     "text": [
      "0.5662923940629085\n"
     ]
    }
   ],
   "source": [
    "acuracy_linear_svm = svm_lineal.score(bow_test, test[\"partido\"]) #O(n^3)\n",
    "print(acuracy_linear_svm)"
   ]
  },
  {
   "cell_type": "code",
   "execution_count": 37,
   "metadata": {},
   "outputs": [],
   "source": [
    "from sklearn.linear_model import LogisticRegression"
   ]
  },
  {
   "cell_type": "code",
   "execution_count": 38,
   "metadata": {},
   "outputs": [
    {
     "data": {
      "text/plain": [
       "LogisticRegression(C=10, max_iter=10000, multi_class='multinomial')"
      ]
     },
     "execution_count": 38,
     "metadata": {},
     "output_type": "execute_result"
    }
   ],
   "source": [
    "softmax = LogisticRegression(multi_class=\"multinomial\", solver=\"lbfgs\", C = 10, max_iter=10000)\n",
    "softmax.fit(bow, train[\"partido\"]) # Mucho mejor running time que SVM"
   ]
  },
  {
   "cell_type": "code",
   "execution_count": 39,
   "metadata": {},
   "outputs": [
    {
     "name": "stdout",
     "output_type": "stream",
     "text": [
      "0.5617549796200877\n"
     ]
    }
   ],
   "source": [
    "acuracy_softmax = softmax.score(bow_test, test[\"partido\"])\n",
    "print(acuracy_softmax) # Inicialmente misma (muy parecida) accurracy que SMV"
   ]
  },
  {
   "cell_type": "code",
   "execution_count": 103,
   "metadata": {},
   "outputs": [],
   "source": [
    "# Primera iteracion:  SVM 0.5384911174344382       SoftMax 0.5396831500422979   500 features\n",
    "# Segunda iteracion:  SVM 0.5461047450588326       SoftMax 0.5480658309620857   usando stop_words\n",
    "# Tercera iteracion:  SVM 0.6062447127585942       SoftMax 0.6056294701222795   1000 features, stop_words\n",
    "# Cuarta  iteracion:  SVM 0.6319695454895025       SoftMax 0.6320079981542721   1500 features, stop_words\n",
    "#                     SVM 0.6882642467122971       SoftMax 0.6806506190879028   4000, features, stop_words"
   ]
  },
  {
   "cell_type": "code",
   "execution_count": 40,
   "metadata": {},
   "outputs": [
    {
     "data": {
      "text/plain": [
       "array([0.4869281 , 0.4366468 , 0.40895982, 0.4635647 , 0.45875793])"
      ]
     },
     "execution_count": 40,
     "metadata": {},
     "output_type": "execute_result"
    }
   ],
   "source": [
    "from sklearn.model_selection import cross_val_score\n",
    "cross_smv = cross_val_score(svm_lineal, bow_test, test[\"partido\"], scoring=\"f1_micro\", cv=5)\n",
    "cross_smv"
   ]
  },
  {
   "cell_type": "code",
   "execution_count": 41,
   "metadata": {},
   "outputs": [
    {
     "data": {
      "text/plain": [
       "array([0.4686659 , 0.42491828, 0.39876947, 0.45298981, 0.4510671 ])"
      ]
     },
     "execution_count": 41,
     "metadata": {},
     "output_type": "execute_result"
    }
   ],
   "source": [
    "cros_soft_max = cross_val_score(softmax, bow_test, test[\"partido\"], scoring=\"f1_micro\")\n",
    "cros_soft_max"
   ]
  },
  {
   "cell_type": "code",
   "execution_count": 27,
   "metadata": {},
   "outputs": [
    {
     "data": {
      "text/plain": [
       "RandomForestClassifier()"
      ]
     },
     "execution_count": 27,
     "metadata": {},
     "output_type": "execute_result"
    }
   ],
   "source": [
    "from sklearn.ensemble import RandomForestClassifier\n",
    "\n",
    "rand_forest = RandomForestClassifier()\n",
    "rand_forest.fit(bow, train[\"partido\"])"
   ]
  },
  {
   "cell_type": "code",
   "execution_count": 28,
   "metadata": {},
   "outputs": [
    {
     "name": "stdout",
     "output_type": "stream",
     "text": [
      "0.4620087672075675\n"
     ]
    }
   ],
   "source": [
    "acuracy_rand_forest = rand_forest.score(bow_test, test[\"partido\"])\n",
    "print(acuracy_rand_forest)"
   ]
  },
  {
   "cell_type": "code",
   "execution_count": null,
   "metadata": {},
   "outputs": [],
   "source": [
    "# naid bayes, random forest\n",
    "\n",
    "# iteracion 1:         random forest 0.6257017611320465"
   ]
  }
 ],
 "metadata": {
  "kernelspec": {
   "display_name": "Python 3",
   "language": "python",
   "name": "python3"
  },
  "language_info": {
   "codemirror_mode": {
    "name": "ipython",
    "version": 3
   },
   "file_extension": ".py",
   "mimetype": "text/x-python",
   "name": "python",
   "nbconvert_exporter": "python",
   "pygments_lexer": "ipython3",
   "version": "3.9.7"
  }
 },
 "nbformat": 4,
 "nbformat_minor": 4
}
