{
 "cells": [
  {
   "cell_type": "markdown",
   "metadata": {},
   "source": [
    "## Machine Learning Parcial 2\n",
    "-  Antonio Jose Patiño Torres T00056470\n",
    "-  Maria Angelica Becerra Pico T00054451\n",
    "\n",
    "*UTB - 11/Oct/2021*"
   ]
  },
  {
   "cell_type": "code",
   "execution_count": 35,
   "metadata": {},
   "outputs": [
    {
     "name": "stderr",
     "output_type": "stream",
     "text": [
      "[nltk_data] Downloading package stopwords to\n",
      "[nltk_data]     /home/centurion/nltk_data...\n",
      "[nltk_data]   Unzipping corpora/stopwords.zip.\n"
     ]
    }
   ],
   "source": [
    "import io\n",
    "import sys\n",
    "import os\n",
    "import re\n",
    "import numpy as np\n",
    "import pandas as pd\n",
    "import matplotlib.pyplot as plt\n",
    "from sklearn.feature_extraction.text import CountVectorizer, TfidfVectorizer\n",
    "import nltk\n",
    "nltk.download('stopwords')\n",
    "from nltk.tokenize import word_tokenize, sent_tokenize\n",
    "from nltk.corpus import stopwords"
   ]
  },
  {
   "cell_type": "code",
   "execution_count": 2,
   "metadata": {},
   "outputs": [],
   "source": [
    "raw = pd.read_csv(\"tweets_politica_kaggle.csv\", sep=\"\\t\")"
   ]
  },
  {
   "cell_type": "code",
   "execution_count": 3,
   "metadata": {},
   "outputs": [
    {
     "data": {
      "text/html": [
       "<div>\n",
       "<style scoped>\n",
       "    .dataframe tbody tr th:only-of-type {\n",
       "        vertical-align: middle;\n",
       "    }\n",
       "\n",
       "    .dataframe tbody tr th {\n",
       "        vertical-align: top;\n",
       "    }\n",
       "\n",
       "    .dataframe thead th {\n",
       "        text-align: right;\n",
       "    }\n",
       "</style>\n",
       "<table border=\"1\" class=\"dataframe\">\n",
       "  <thead>\n",
       "    <tr style=\"text-align: right;\">\n",
       "      <th></th>\n",
       "      <th>cuenta</th>\n",
       "      <th>partido</th>\n",
       "      <th>timestamp</th>\n",
       "      <th>tweet</th>\n",
       "    </tr>\n",
       "  </thead>\n",
       "  <tbody>\n",
       "    <tr>\n",
       "      <th>0</th>\n",
       "      <td>a34133350b0605cb24081843f63176ca</td>\n",
       "      <td>psoe</td>\n",
       "      <td>1.363973e+09</td>\n",
       "      <td>@vesteve3 @manubenas @ccoo_rm @desobediencia_ ...</td>\n",
       "    </tr>\n",
       "    <tr>\n",
       "      <th>1</th>\n",
       "      <td>a34133350b0605cb24081843f63176ca</td>\n",
       "      <td>psoe</td>\n",
       "      <td>1.364061e+09</td>\n",
       "      <td>“@kirovast: @Hugo_Moran muy fan de la \"radical...</td>\n",
       "    </tr>\n",
       "    <tr>\n",
       "      <th>2</th>\n",
       "      <td>a34133350b0605cb24081843f63176ca</td>\n",
       "      <td>psoe</td>\n",
       "      <td>1.364117e+09</td>\n",
       "      <td>@ALTAS_PRESIONES Nuevos dueños para las renova...</td>\n",
       "    </tr>\n",
       "    <tr>\n",
       "      <th>3</th>\n",
       "      <td>a34133350b0605cb24081843f63176ca</td>\n",
       "      <td>psoe</td>\n",
       "      <td>1.364121e+09</td>\n",
       "      <td>@jumanjisolar @solartradex @josea_dolera El di...</td>\n",
       "    </tr>\n",
       "    <tr>\n",
       "      <th>4</th>\n",
       "      <td>a34133350b0605cb24081843f63176ca</td>\n",
       "      <td>psoe</td>\n",
       "      <td>1.364153e+09</td>\n",
       "      <td>“@cesarnayu: https://t.co/J4OTXj1x7w … Por fav...</td>\n",
       "    </tr>\n",
       "  </tbody>\n",
       "</table>\n",
       "</div>"
      ],
      "text/plain": [
       "                             cuenta partido     timestamp  \\\n",
       "0  a34133350b0605cb24081843f63176ca    psoe  1.363973e+09   \n",
       "1  a34133350b0605cb24081843f63176ca    psoe  1.364061e+09   \n",
       "2  a34133350b0605cb24081843f63176ca    psoe  1.364117e+09   \n",
       "3  a34133350b0605cb24081843f63176ca    psoe  1.364121e+09   \n",
       "4  a34133350b0605cb24081843f63176ca    psoe  1.364153e+09   \n",
       "\n",
       "                                               tweet  \n",
       "0  @vesteve3 @manubenas @ccoo_rm @desobediencia_ ...  \n",
       "1  “@kirovast: @Hugo_Moran muy fan de la \"radical...  \n",
       "2  @ALTAS_PRESIONES Nuevos dueños para las renova...  \n",
       "3  @jumanjisolar @solartradex @josea_dolera El di...  \n",
       "4  “@cesarnayu: https://t.co/J4OTXj1x7w … Por fav...  "
      ]
     },
     "execution_count": 3,
     "metadata": {},
     "output_type": "execute_result"
    }
   ],
   "source": [
    "raw.head()"
   ]
  },
  {
   "cell_type": "code",
   "execution_count": 4,
   "metadata": {},
   "outputs": [
    {
     "name": "stdout",
     "output_type": "stream",
     "text": [
      "<class 'pandas.core.frame.DataFrame'>\n",
      "RangeIndex: 130039 entries, 0 to 130038\n",
      "Data columns (total 4 columns):\n",
      " #   Column     Non-Null Count   Dtype  \n",
      "---  ------     --------------   -----  \n",
      " 0   cuenta     130039 non-null  object \n",
      " 1   partido    130029 non-null  object \n",
      " 2   timestamp  130029 non-null  float64\n",
      " 3   tweet      130029 non-null  object \n",
      "dtypes: float64(1), object(3)\n",
      "memory usage: 4.0+ MB\n"
     ]
    }
   ],
   "source": [
    "raw.info() # Aprox 10 cuentas tienen valores nulos (null) en campos tweet, partido, timestamp"
   ]
  },
  {
   "cell_type": "code",
   "execution_count": 5,
   "metadata": {},
   "outputs": [
    {
     "data": {
      "text/html": [
       "<div>\n",
       "<style scoped>\n",
       "    .dataframe tbody tr th:only-of-type {\n",
       "        vertical-align: middle;\n",
       "    }\n",
       "\n",
       "    .dataframe tbody tr th {\n",
       "        vertical-align: top;\n",
       "    }\n",
       "\n",
       "    .dataframe thead th {\n",
       "        text-align: right;\n",
       "    }\n",
       "</style>\n",
       "<table border=\"1\" class=\"dataframe\">\n",
       "  <thead>\n",
       "    <tr style=\"text-align: right;\">\n",
       "      <th></th>\n",
       "      <th>cuenta</th>\n",
       "      <th>partido</th>\n",
       "      <th>timestamp</th>\n",
       "      <th>tweet</th>\n",
       "    </tr>\n",
       "  </thead>\n",
       "  <tbody>\n",
       "    <tr>\n",
       "      <th>130029</th>\n",
       "      <td>c736f426051ce1703b6d62686b64dbac</td>\n",
       "      <td>NaN</td>\n",
       "      <td>NaN</td>\n",
       "      <td>NaN</td>\n",
       "    </tr>\n",
       "    <tr>\n",
       "      <th>130030</th>\n",
       "      <td>c736f426051ce1703b6d62686b64dbac</td>\n",
       "      <td>NaN</td>\n",
       "      <td>NaN</td>\n",
       "      <td>NaN</td>\n",
       "    </tr>\n",
       "    <tr>\n",
       "      <th>130031</th>\n",
       "      <td>c736f426051ce1703b6d62686b64dbac</td>\n",
       "      <td>NaN</td>\n",
       "      <td>NaN</td>\n",
       "      <td>NaN</td>\n",
       "    </tr>\n",
       "    <tr>\n",
       "      <th>130032</th>\n",
       "      <td>c736f426051ce1703b6d62686b64dbac</td>\n",
       "      <td>NaN</td>\n",
       "      <td>NaN</td>\n",
       "      <td>NaN</td>\n",
       "    </tr>\n",
       "    <tr>\n",
       "      <th>130033</th>\n",
       "      <td>c736f426051ce1703b6d62686b64dbac</td>\n",
       "      <td>NaN</td>\n",
       "      <td>NaN</td>\n",
       "      <td>NaN</td>\n",
       "    </tr>\n",
       "    <tr>\n",
       "      <th>130034</th>\n",
       "      <td>c736f426051ce1703b6d62686b64dbac</td>\n",
       "      <td>NaN</td>\n",
       "      <td>NaN</td>\n",
       "      <td>NaN</td>\n",
       "    </tr>\n",
       "    <tr>\n",
       "      <th>130035</th>\n",
       "      <td>c736f426051ce1703b6d62686b64dbac</td>\n",
       "      <td>NaN</td>\n",
       "      <td>NaN</td>\n",
       "      <td>NaN</td>\n",
       "    </tr>\n",
       "    <tr>\n",
       "      <th>130036</th>\n",
       "      <td>c736f426051ce1703b6d62686b64dbac</td>\n",
       "      <td>NaN</td>\n",
       "      <td>NaN</td>\n",
       "      <td>NaN</td>\n",
       "    </tr>\n",
       "    <tr>\n",
       "      <th>130037</th>\n",
       "      <td>c736f426051ce1703b6d62686b64dbac</td>\n",
       "      <td>NaN</td>\n",
       "      <td>NaN</td>\n",
       "      <td>NaN</td>\n",
       "    </tr>\n",
       "    <tr>\n",
       "      <th>130038</th>\n",
       "      <td>c736f426051ce1703b6d62686b64dbac</td>\n",
       "      <td>NaN</td>\n",
       "      <td>NaN</td>\n",
       "      <td>NaN</td>\n",
       "    </tr>\n",
       "  </tbody>\n",
       "</table>\n",
       "</div>"
      ],
      "text/plain": [
       "                                  cuenta partido  timestamp tweet\n",
       "130029  c736f426051ce1703b6d62686b64dbac     NaN        NaN   NaN\n",
       "130030  c736f426051ce1703b6d62686b64dbac     NaN        NaN   NaN\n",
       "130031  c736f426051ce1703b6d62686b64dbac     NaN        NaN   NaN\n",
       "130032  c736f426051ce1703b6d62686b64dbac     NaN        NaN   NaN\n",
       "130033  c736f426051ce1703b6d62686b64dbac     NaN        NaN   NaN\n",
       "130034  c736f426051ce1703b6d62686b64dbac     NaN        NaN   NaN\n",
       "130035  c736f426051ce1703b6d62686b64dbac     NaN        NaN   NaN\n",
       "130036  c736f426051ce1703b6d62686b64dbac     NaN        NaN   NaN\n",
       "130037  c736f426051ce1703b6d62686b64dbac     NaN        NaN   NaN\n",
       "130038  c736f426051ce1703b6d62686b64dbac     NaN        NaN   NaN"
      ]
     },
     "execution_count": 5,
     "metadata": {},
     "output_type": "execute_result"
    }
   ],
   "source": [
    "nan_values = raw[raw.isna().any(axis=1)] # Culpables >:(\n",
    "nan_values"
   ]
  },
  {
   "cell_type": "code",
   "execution_count": 6,
   "metadata": {},
   "outputs": [],
   "source": [
    "raw = raw.drop(nan_values.index)"
   ]
  },
  {
   "cell_type": "code",
   "execution_count": 7,
   "metadata": {},
   "outputs": [
    {
     "data": {
      "text/html": [
       "<div>\n",
       "<style scoped>\n",
       "    .dataframe tbody tr th:only-of-type {\n",
       "        vertical-align: middle;\n",
       "    }\n",
       "\n",
       "    .dataframe tbody tr th {\n",
       "        vertical-align: top;\n",
       "    }\n",
       "\n",
       "    .dataframe thead th {\n",
       "        text-align: right;\n",
       "    }\n",
       "</style>\n",
       "<table border=\"1\" class=\"dataframe\">\n",
       "  <thead>\n",
       "    <tr style=\"text-align: right;\">\n",
       "      <th></th>\n",
       "      <th>partido</th>\n",
       "      <th>tweet</th>\n",
       "    </tr>\n",
       "  </thead>\n",
       "  <tbody>\n",
       "    <tr>\n",
       "      <th>0</th>\n",
       "      <td>ciudadanos</td>\n",
       "      <td>23552</td>\n",
       "    </tr>\n",
       "    <tr>\n",
       "      <th>1</th>\n",
       "      <td>podemos</td>\n",
       "      <td>24889</td>\n",
       "    </tr>\n",
       "    <tr>\n",
       "      <th>2</th>\n",
       "      <td>pp</td>\n",
       "      <td>26200</td>\n",
       "    </tr>\n",
       "    <tr>\n",
       "      <th>3</th>\n",
       "      <td>psoe</td>\n",
       "      <td>28882</td>\n",
       "    </tr>\n",
       "    <tr>\n",
       "      <th>4</th>\n",
       "      <td>vox</td>\n",
       "      <td>26506</td>\n",
       "    </tr>\n",
       "  </tbody>\n",
       "</table>\n",
       "</div>"
      ],
      "text/plain": [
       "      partido  tweet\n",
       "0  ciudadanos  23552\n",
       "1     podemos  24889\n",
       "2          pp  26200\n",
       "3        psoe  28882\n",
       "4         vox  26506"
      ]
     },
     "execution_count": 7,
     "metadata": {},
     "output_type": "execute_result"
    }
   ],
   "source": [
    "afiliaciones = raw.groupby(\"partido\", as_index=False)['tweet'].count()\n",
    "afiliaciones"
   ]
  },
  {
   "cell_type": "code",
   "execution_count": 8,
   "metadata": {},
   "outputs": [
    {
     "data": {
      "image/png": "[encoded data removed]",
      "text/plain": [
       "<Figure size 1080x360 with 1 Axes>"
      ]
     },
     "metadata": {
      "needs_background": "light"
     },
     "output_type": "display_data"
    }
   ],
   "source": [
    "plt.figure(figsize=(15,5))\n",
    "plt.bar(afiliaciones['partido'].values, afiliaciones['tweet'].values, color=[\"orange\", \"purple\", \"lightblue\", \"red\", \"green\"], alpha=0.9)\n",
    "plt.title('Datos')\n",
    "plt.ylabel('Usuarios Afines', fontsize=10)\n",
    "plt.xlabel('Partidos Politicos', fontsize=10)\n",
    "plt.show()"
   ]
  },
  {
   "cell_type": "code",
   "execution_count": 9,
   "metadata": {},
   "outputs": [
    {
     "name": "stdout",
     "output_type": "stream",
     "text": [
      "<class 'pandas.core.frame.DataFrame'>\n",
      "Int64Index: 5 entries, 0 to 4\n",
      "Data columns (total 2 columns):\n",
      " #   Column   Non-Null Count  Dtype \n",
      "---  ------   --------------  ----- \n",
      " 0   partido  5 non-null      object\n",
      " 1   tweet    5 non-null      int64 \n",
      "dtypes: int64(1), object(1)\n",
      "memory usage: 120.0+ bytes\n"
     ]
    }
   ],
   "source": [
    "afiliaciones.info(null_counts=True)"
   ]
  },
  {
   "cell_type": "code",
   "execution_count": 10,
   "metadata": {},
   "outputs": [],
   "source": [
    "train = raw.sample(frac=0.8)\n",
    "test = raw.drop(train.index)"
   ]
  },
  {
   "cell_type": "code",
   "execution_count": 11,
   "metadata": {},
   "outputs": [
    {
     "name": "stdout",
     "output_type": "stream",
     "text": [
      "<class 'pandas.core.frame.DataFrame'>\n",
      "Int64Index: 104023 entries, 43849 to 13252\n",
      "Data columns (total 4 columns):\n",
      " #   Column     Non-Null Count   Dtype  \n",
      "---  ------     --------------   -----  \n",
      " 0   cuenta     104023 non-null  object \n",
      " 1   partido    104023 non-null  object \n",
      " 2   timestamp  104023 non-null  float64\n",
      " 3   tweet      104023 non-null  object \n",
      "dtypes: float64(1), object(3)\n",
      "memory usage: 4.0+ MB\n"
     ]
    }
   ],
   "source": [
    "train.info()"
   ]
  },
  {
   "cell_type": "code",
   "execution_count": 12,
   "metadata": {},
   "outputs": [
    {
     "name": "stdout",
     "output_type": "stream",
     "text": [
      "<class 'pandas.core.frame.DataFrame'>\n",
      "Int64Index: 26006 entries, 6 to 130026\n",
      "Data columns (total 4 columns):\n",
      " #   Column     Non-Null Count  Dtype  \n",
      "---  ------     --------------  -----  \n",
      " 0   cuenta     26006 non-null  object \n",
      " 1   partido    26006 non-null  object \n",
      " 2   timestamp  26006 non-null  float64\n",
      " 3   tweet      26006 non-null  object \n",
      "dtypes: float64(1), object(3)\n",
      "memory usage: 1015.9+ KB\n"
     ]
    }
   ],
   "source": [
    "test.info()"
   ]
  },
  {
   "cell_type": "code",
   "execution_count": 75,
   "metadata": {},
   "outputs": [],
   "source": [
    "c = train[\"tweet\"]\n",
    "es_stops = set(stopwords.words('spanish'))\n",
    "vectorizer = CountVectorizer(ngram_range=(1,1), max_features=1500, stop_words=set(es_stops)) # to use bigrams ngram_range=(2,2)\n",
    "bow = vectorizer.fit_transform(list(c)) # Bag of Words"
   ]
  },
  {
   "cell_type": "code",
   "execution_count": 76,
   "metadata": {},
   "outputs": [
    {
     "data": {
      "text/plain": [
       "['“Un Gobierno de Coalición ... con la sociedad y para la sociedad”Solo la consistencia y el apoyo de la mayoría social podrá sostener la alianza PSOE &amp; UP, aunque se tensione o dude de su continuidad.Por @antonigr / Vía @elperiodico / IMPRESCINDIBLEhttps://t.co/jV6EHTBWh6',\n",
       " 'Pablo Motos me ha preguntado en El Hormiguero por qué los poderosos, aquellos que están acostumbrados a mandar en España sin presentarse a las elecciones, le tienen \"manía\" a Unidas Podemos.   Esto es lo que le he respondido 👇🏾 #PabloIglesiasEH https://t.co/gXo2j37V79',\n",
       " 'Se va un gran campeón.Gracias Jorge por lo que nos has hecho vivir.https://t.co/xRSYKW2o9Y',\n",
       " '@mercedes_cd Y yo😂',\n",
       " '▶ ”Es bochornoso que Podemos despache un caso de corrupción de 680 millones de euros con un tuit.” @JuanMa_Moreno en @elprogramadear https://t.co/9MsmvuyTFu']"
      ]
     },
     "execution_count": 76,
     "metadata": {},
     "output_type": "execute_result"
    }
   ],
   "source": [
    "list(c.head())"
   ]
  },
  {
   "cell_type": "code",
   "execution_count": 77,
   "metadata": {},
   "outputs": [
    {
     "name": "stdout",
     "output_type": "stream",
     "text": [
      "['00', '000', '00h', '09', '10', '100', '10n', '11', '12', '13', '14', '14f', '15', '16', '17', '18', '19', '20', '200', '2019', '2020', '2021', '21', '22', '23', '24', '25', '26', '26m', '28a', '30', '300', '30h', '40', '4m', '50', '500', '70', '80', '8m', '_infolibre', 'abalosmeco', 'abascal', 'abierto', 'abordar', 'abrazo', 'abre', 'abril', 'abrir', 'absoluta', 'abusos', 'acaba', 'acabar', 'acceso', 'acción', 'acoso', 'actividad', 'acto', 'actos', 'actual', 'actualidad', 'actualidadcs', 'actuar', 'acuerdo', 'acuerdos', 'adelante', 'además', 'administraciones', 'administración', 'adrilastra', 'afectados', 'afiliados', 'afrontar', 'agenda', 'agentes', 'agradecimiento', 'agresiones', 'agricultores', 'agua', 'ahora', 'ahoraespaña', 'ahorasí', 'ahoraunidad', 'ahí', 'alarma', 'albert_rivera', 'alcalde', 'alcaldes', 'alcanzar', 'alejandrotgn', 'alguien', 'alguna', 'algún', 'allá', 'allí', 'almeidapp_', 'alquiler', 'alta', 'alternativa', 'alto', 'altura', 'ambiente', 'amenaza', 'amenazas', 'amigo', 'amigos', 'amor', 'ana', 'and', 'andaluces', 'andalucía', 'aniversario', 'antonio', 'aplicar', 'apoyando', 'apoyar', 'apoyo', 'aprobado', 'aprobar', 'apuesta', 'aquellos', 'aquí', 'artículo', 'as', 'asamblea', 'asesinato', 'asesinos', 'asesinó', 'asumir', 'así', 'atacar', 'ataque', 'ataques', 'atención', 'atrás', 'aunque', 'autónomas', 'autónomos', 'avance', 'avanzando', 'avanzar', 'ayer', 'ayuda', 'ayudar', 'ayudas', 'ayuntamiento', 'ayuntamientos', 'ayuso', 'año', 'años', 'aún', 'bajada', 'bajar', 'bajo', 'baleares', 'baledmundo', 'banda', 'bandera', 'barcelona', 'barrio', 'barrios', 'base', 'basta', 'batalla', 'begonavillacis', 'beneficios', 'beso', 'biden', 'bien', 'bienestar', 'bildu', 'bipartidismo', 'blanco', 'bloqueo', 'bruselas', 'buen', 'buena', 'buenas', 'bueno', 'buenos', 'buscar', 'cabeza', 'cabo', 'cada', 'calidad', 'calle', 'calles', 'cambiar', 'cambio', 'camino', 'campaña', 'campo', 'canarias', 'candidato', 'candidatura', 'capaces', 'capacidad', 'capaz', 'capital', 'cara', 'cargo', 'cargos', 'cariño', 'carlos', 'carmencalvo_', 'carrizosacarlos', 'carta', 'casa', 'casado', 'casas', 'casi', 'caso', 'casos', 'castilla', 'catalana', 'catalanes', 'catalunya', 'cataluña', 'catalán', 'causa', 'cayetanaat', 'ccaa', 'celebramos', 'censura', 'central', 'centro', 'centros', 'cerca', 'cerrar', 'ceuta', 'cgpj', 'china', 'ciencia', 'cientos', 'cierre', 'cierto', 'cinco', 'ciudad', 'ciudadanos', 'ciudadanoscs', 'ciudadanía', 'ciudades', 'ciutadanscs', 'civil', 'clara', 'claro', 'clase', 'clave', 'climática', 'climático', 'cmin', 'co', 'coalición', 'cohesión', 'colaboración', 'colectivo', 'colectivos', 'combatir', 'comienza', 'comisión', 'comité', 'comparecencia', 'compartir', 'compañera', 'compañeras', 'compañero', 'compañeros', 'competencias', 'completa', 'completo', 'compromiso', 'compromisos', 'comunicación', 'comunidad', 'comunidades', 'comunidadmadrid', 'comunismo', 'comunista', 'comunistas', 'común', 'concordia', 'condena', 'condenados', 'condiciones', 'condolencias', 'confianza', 'conflicto', 'congreso', 'congreso_es', 'conjunto', 'conocer', 'consecuencias', 'conseguido', 'conseguir', 'consejo', 'consenso', 'constitucional', 'constitucionalismo', 'constitucionalista', 'constitucionalistas', 'constitución', 'construir', 'contagios', 'contamos', 'contar', 'contigo', 'contrario', 'control', 'convertido', 'convivencia', 'cooperación', 'corazón', 'coronavirus', 'corrupción', 'cosa', 'cosas', 'covid', 'covid19', 'creación', 'crear', 'crecimiento', 'cree', 'creemos', 'creo', 'criminal', 'crisis', 'cs', 'cualquier', 'cuanto', 'cuatro', 'cuba', 'cucagamarra', 'cuenta', 'cuentas', 'cuestión', 'cuidados', 'culpa', 'cultura', 'cultural', 'cumple', 'cumpleaños', 'cumplen', 'cumplir', 'curso', 'cádiz', 'cárcel', 'cómo', 'da', 'dado', 'dan', 'dando', 'dar', 'datos', 'daño', 'debatalrojovivo', 'debate', 'debe', 'debemos', 'deben', 'debería', 'deberían', 'decidido', 'decidir', 'decir', 'decisiones', 'decisión', 'declaraciones', 'declaración', 'decreto', 'decía', 'defendemos', 'defender', 'defendiendo', 'defensa', 'defiende', 'defienden', 'deja', 'dejado', 'dejamos', 'dejar', 'deje', 'dejo', 'delante', 'delincuentes', 'delito', 'delitos', 'democracia', 'democrática', 'democrático', 'demostrado', 'demuestra', 'demás', 'demócratas', 'dentro', 'denuncia', 'denunciar', 'dep', 'deporte', 'derecha', 'derechas', 'derecho', 'derechos', 'desarrollo', 'desayunos_tve', 'deseo', 'desigualdad', 'después', 'destruir', 'detrás', 'deuda', 'diario', 'dice', 'dicen', 'dicho', 'diciendo', 'dictadura', 'diferencia', 'diferentes', 'difícil', 'difíciles', 'diga', 'digital', 'digna', 'dignidad', 'digno', 'digo', 'dijo', 'dinero', 'diputado', 'diputados', 'dirección', 'directas', 'directo', 'discriminación', 'discurso', 'disfrutar', 'diversidad', 'diálogo', 'dolor', 'domingo', 'dos', 'dosis', 'duda', 'duro', 'dé', 'décadas', 'día', 'días', 'díaz', 'dónde', 'echar', 'ecológica', 'economía', 'económica', 'económicas', 'económico', 'educación', 'eeuu', 'efecto', 'efectos', 'ejecutivo', 'ejemplo', 'el_pais', 'elecciones', 'electoral', 'elegir', 'eliminar', 'ello', 'elprogramadear', 'emergencia', 'empezar', 'empieza', 'empleo', 'empleos', 'empresa', 'empresarios', 'empresas', 'encima', 'encuentro', 'endirecto', 'energía', 'enero', 'enhorabuena', 'enlace', 'enorme', 'entender', 'entiende', 'entonces', 'entrar', 'entrega', 'entrevista', 'entrevistado', 'equipo', 'equipogabilondo', 'equipos', 'erc', 'erte', 'escuchando', 'escuchar', 'escándalo', 'esfuerzo', 'espacio', 'españa', 'españaavanza_', 'españasiempre', 'españaviva', 'español', 'española', 'españolas', 'españoles', 'especial', 'especialmente', 'espejopublico', 'espera', 'esperamos', 'esperanza', 'espero', 'estabilidad', 'estable', 'estevirusloparamosunidos', 'estrategia', 'eta', 'etapa', 'europa', 'europea', 'europeas', 'europeo', 'europeos', 'euros', 'eutanasia', 'evitar', 'ex', 'exige', 'exigimos', 'exigir', 'existe', 'experiencia', 'explica', 'explicaciones', 'explicar', 'expresión', 'exterior', 'extrema', 'factura', 'falta', 'familia', 'familiares', 'familias', 'fascismo', 'favor', 'febrero', 'felicidades', 'feliz', 'feminismo', 'feminista', 'feministas', 'fernando', 'fin', 'final', 'financiación', 'firme', 'fiscal', 'fiscales', 'fiscalía', 'fondo', 'fondos', 'for', 'forma', 'formación', 'formar', 'foro', 'foto', 'fracaso', 'franco', 'fraude', 'frenar', 'frente', 'fronteras', 'fuerte', 'fuertes', 'fuerza', 'fuerzas', 'funciona', 'funciones', 'fundamental', 'fundamentales', 'futuro', 'fácil', 'galicia', 'gana', 'ganar', 'ganas', 'garantiza', 'garantizar', 'garantía', 'garcía', 'gasto', 'general', 'generales', 'generalitat', 'gente', 'gestionar', 'gestión', 'global', 'gobernar', 'gobernarenserio', 'gobierna', 'gobierno', 'gobiernos', 'golpe', 'golpistas', 'govern', 'gracias', 'gran', 'granada', 'grande', 'grandes', 'grave', 'graves', 'grupo', 'grupos', 'guardia', 'guardiacivil', 'guerra', 'gusta', 'género', 'haber', 'habla', 'hablado', 'hablamos', 'hablando', 'hablar', 'hace', 'hacemos', 'hacen', 'hacer', 'hacerlo', 'hacia', 'haciendo', 'haga', 'haremos', 'hará', 'hecho', 'hechos', 'herreraencope', 'hicieron', 'hijos', 'hilo', 'historia', 'histórica', 'histórico', 'hizo', 'hombre', 'hombres', 'homenaje', 'honor', 'hora', 'horas', 'hospital', 'hostelería', 'hoy', 'hoyporhoy', 'https', 'humanidad', 'humanos', 'iba', 'idea', 'ideas', 'identidad', 'ideología', 'idiazayuso', 'ido', 'igarrigavaz', 'iglesias', 'ignacioaguado', 'igual', 'igualdad', 'ilegal', 'ilegales', 'illa', 'ilusión', 'imagen', 'impedir', 'imponer', 'importa', 'importancia', 'importante', 'importantes', 'imposible', 'imprescindible', 'impuesto', 'impuestos', 'impulsar', 'impulso', 'impunidad', 'in', 'incluso', 'independencia', 'independentismo', 'independentistas', 'indultos', 'industria', 'inesarrimadas', 'info', 'información', 'informe', 'infraestructuras', 'ingresos', 'iniciativa', 'inmediata', 'inmigración', 'inmigrantes', 'innovación', 'institucional', 'instituciones', 'intentar', 'interesante', 'intereses', 'interior', 'internacional', 'internacionales', 'intervención', 'interés', 'intolerable', 'inversión', 'investidura', 'investigación', 'ionebelarra', 'ir', 'irenemontero', 'irresponsabilidad', 'is', 'isaserras', 'italia', 'iva', 'ivanedlm', 'izquierda', 'izquierdas', 'jamás', 'javier', 'jefe', 'jornada', 'josé', 'joven', 'juan', 'judicial', 'jueces', 'juego', 'jueves', 'juez', 'julio', 'junio', 'junqueras', 'junta', 'juntas', 'junto', 'juntos', 'justa', 'justicia', 'justo', 'jóvenes', 'labor', 'laboral', 'laborales', 'lado', 'laespañaquehacemos_', 'laespañaquenosmerecemos', 'lahoratve', 'lanoche24h', 'lanoche_24h', 'largo', 'lasmananas_rne', 'lealtad', 'leer', 'legalidad', 'legislatura', 'ley', 'leyes', 'león', 'lgtbi', 'liberal', 'liberales', 'libertad', 'libertades', 'libre', 'libres', 'libro', 'liderar', 'lista', 'llama', 'llega', 'llegado', 'llegan', 'llegar', 'lleva', 'llevamos', 'llevan', 'llevar', 'lograr', 'lroldansu', 'lucha', 'luchando', 'luchar', 'luego', 'lugar', 'luis', 'lunes', 'luz', 'líder', 'líderes', 'línea', 'macarena_olona', 'machismo', 'machista', 'machistas', 'madre', 'madrid', 'madrileños', 'maduro', 'mal', 'mala', 'manera', 'manifestación', 'mano', 'manos', 'mantener', 'manuel', 'mar', 'marca', 'marcha', 'marco', 'marlaska', 'marruecos', 'martes', 'marzo', 'maría', 'materia', 'material', 'mayo', 'mayor', 'mayores', 'mayoría', 'mañana', 'media', 'medida', 'medidas', 'medio', 'medios', 'mejor', 'mejora', 'mejorar', 'mejores', 'memoria', 'menor', 'menores', 'menos', 'mensaje', 'mentira', 'mentiras', 'mercado', 'merece', 'merecen', 'mes', 'mesa', 'meses', 'miedo', 'miembros', 'mientras', 'miguel', 'mil', 'miles', 'millones', 'ministerio', 'ministra', 'ministro', 'ministros', 'minuto', 'minutos', 'mira', 'mirar', 'misma', 'mismo', 'mismos', 'mitad', 'mjmonteroc', 'moción', 'modelo', 'momento', 'momentos', 'monasterior', 'moncloa', 'montero', 'montesinospablo', 'moral', 'mossos', 'motivo', 'movilidad', 'movimiento', 'mucha', 'muchas', 'muerte', 'muertos', 'muestra', 'mujer', 'mujeres', 'mundial', 'mundo', 'municipal', 'municipios', 'murcia', 'mínimo', 'nacional', 'nacionalismo', 'nacionalistas', 'naciones', 'nación', 'nadie', 'navarra', 'navidad', 'necesaria', 'necesarias', 'necesario', 'necesidad', 'necesidades', 'necesita', 'necesitamos', 'necesitan', 'negociación', 'negociar', 'ninguna', 'ningún', 'niunamenos', 'nivel', 'niñas', 'niños', 'noche', 'nombre', 'normalidad', 'noticia', 'noticias', 'nueva', 'nuevas', 'nuevo', 'nuevos', 'nunca', 'número', 'objetivo', 'objetivos', 'obligación', 'obra', 'obras', 'octubre', 'odio', 'of', 'ofrece', 'ojalá', 'ola', 'opción', 'opinión', 'oportunidad', 'oportunidades', 'oposición', 'orden', 'organización', 'orgullo', 'orgulloso', 'orgullosos', 'ortega_smith', 'pablo', 'pablo_iglesias_', 'pablocasado_', 'pabloiglesias', 'pactar', 'pacto', 'pactos', 'padre', 'padres', 'pagar', 'palabra', 'palabras', 'pandemia', 'papel', 'parar', 'parece', 'parlament', 'parlamentaria', 'parlamentario', 'parlamento', 'paro', 'parte', 'participación', 'participar', 'partido', 'partidos', 'partir', 'pasa', 'pasado', 'pasar', 'paso', 'pasos', 'patria', 'patrimonio', 'paz', 'país', 'países', 'pedido', 'pedimos', 'pedir', 'pedro', 'peligro', 'pena', 'penal', 'pensar', 'pensiones', 'peor', 'peores', 'per', 'perder', 'perdido', 'perdón', 'periodista', 'periodistas', 'permanente', 'permite', 'permitir', 'persona', 'personal', 'personas', 'pesar', 'pib', 'pide', 'piden', 'pido', 'pie', 'piensa', 'pierdas', 'pilar', 'placer', 'plan', 'planeta', 'plaza', 'plazo', 'plena', 'pleno', 'pnv', 'población', 'pobreza', 'pocos', 'podemos', 'poder', 'poderes', 'podido', 'podrá', 'podrán', 'podrás', 'podría', 'podéis', 'policia', 'policía', 'policías', 'política', 'políticas', 'político', 'políticos', 'pone', 'ponen', 'poner', 'ponga', 'poniendo', 'popular', 'populares', 'populismo', 'populistas', 'portavoz', 'portodoloquenosune', 'posible', 'posición', 'pp', 'precariedad', 'precio', 'precios', 'pregunta', 'preguntas', 'premio', 'prensa', 'preocupa', 'preocupación', 'presencia', 'presenta', 'presentación', 'presentado', 'presentamos', 'presentar', 'presente', 'presidencia', 'presidenta', 'presidente', 'presos', 'presupuestos', 'pretende', 'prevención', 'primer', 'primera', 'primero', 'principal', 'principio', 'principios', 'prioridad', 'prisión', 'privilegios', 'problema', 'problemas', 'proceso', 'procés', 'profesional', 'profesionales', 'programa', 'progre', 'progres', 'progresista', 'progreso', 'pronto', 'propaganda', 'propia', 'propio', 'propone', 'proponemos', 'propuesta', 'propuestas', 'protección', 'proteger', 'proyecto', 'proyectos', 'prueba', 'próxima', 'próximo', 'próximos', 'psc', 'psoe', 'pueblo', 'pueblos', 'pueda', 'puedan', 'puede', 'pueden', 'puedes', 'puerta', 'puertas', 'pues', 'puesto', 'puigdemont', 'punto', 'pymes', 'pésame', 'pública', 'públicas', 'público', 'públicos', 'queda', 'quedan', 'quede', 'queremos', 'querida', 'querido', 'quiere', 'quieren', 'quieres', 'quiero', 'quién', 'radical', 'radicales', 'rajoy', 'razones', 'razón', 'real', 'reales', 'realidad', 'recibido', 'recibir', 'reconocer', 'reconocimiento', 'recordar', 'recortes', 'recuerda', 'recuerdo', 'recuperación', 'recuperar', 'recurso', 'recursos', 'red', 'redes', 'reducir', 'referente', 'referéndum', 'reforma', 'reformas', 'reforzar', 'regeneración', 'región', 'regióndemurcia', 'relación', 'reparto', 'representa', 'representantes', 'rescate', 'resolver', 'respecto', 'respeto', 'responder', 'responsabilidad', 'responsabilidades', 'responsable', 'responsables', 'respuesta', 'resto', 'restricciones', 'resultado', 'resultados', 'resumen', 'reto', 'retos', 'reunido', 'reunión', 'rey', 'riesgo', 'riqueza', 'rivera', 'romper', 'rtve', 'rueda', 'rural', 'récord', 'régimen', 'sabe', 'sabemos', 'saben', 'saber', 'sacar', 'salario', 'sale', 'salida', 'salir', 'salud', 'saludo', 'salvadorilla', 'salvar', 'san', 'sanchezcastejon', 'sanchismo', 'sanidad', 'sanitaria', 'sanitario', 'sanitarios', 'santa', 'santi_abascal', 'secretario', 'sector', 'sectores', 'sede', 'seguimos', 'seguir', 'seguiremos', 'seguirlo', 'seguirá', 'segunda', 'segundo', 'segura', 'seguridad', 'seguro', 'según', 'semana', 'semanas', 'senado', 'sentencia', 'separatismo', 'separatista', 'separatistas', 'ser', 'serio', 'servicio', 'servicios', 'sesióndecontrol', 'sevilla', 'sexual', 'señor', 'señora', 'si', 'sido', 'siempre', 'siemprehaciadelante', 'siendo', 'siento', 'siga', 'sigamos', 'siglo', 'significa', 'sigue', 'siguen', 'siguiente', 'silencio', 'sino', 'siquiera', 'sistema', 'situación', 'smi', 'soberanía', 'social', 'sociales', 'socialismo', 'socialista', 'socialistas', 'sociedad', 'socios', 'sola', 'solidaridad', 'solo', 'solos', 'soluciones', 'solución', 'sostenibilidad', 'sostenible', 'sr', 'subida', 'subir', 'suerte', 'sufren', 'sufrido', 'suma', 'superar', 'supone', 'supremo', 'supuesto', 'sábado', 'sánchez', 'sé', 'síguelo', 'sólo', 'tal', 'talento', 'tampoco', 'tan', 'tanta', 'tantas', 'tantos', 'tarde', 'televisión', 'tema', 'temporal', 'tener', 'teogarciaegea', 'tercera', 'terrible', 'territorial', 'territorio', 'terrorismo', 'terrorista', 'terroristas', 'the', 'tiempo', 'tiempos', 'tierra', 'tipo', 'to', 'toca', 'toda', 'todas', 'todavía', 'toma', 'tomar', 'torra', 'total', 'trabajadora', 'trabajadoras', 'trabajadores', 'trabajamos', 'trabajan', 'trabajando', 'trabajar', 'trabajo', 'trans', 'transformación', 'transición', 'transparencia', 'transporte', 'tras', 'trata', 'través', 'tres', 'tribunal', 'trump', 'tuit', 'turismo', 'ue', 'ultra', 'ultraderecha', 'unacataluñamejor', 'unas', 'unidad', 'unidas', 'unido', 'unidos', 'unión', 'up', 'urge', 'urgente', 'urgentes', 'urnas', 'uso', 'usted', 'ustedes', 'va', 'vacuna', 'vacunación', 'vacunas', 'vale', 'valencia', 'valenciana', 'valentía', 'valiente', 'valientes', 'valladolid', 'valor', 'valores', 'vamos', 'van', 'varios', 'vasco', 'vaya', 've', 'veces', 'vecinos', 'vemos', 'venezuela', 'ver', 'verano', 'verdad', 'verde', 'vergüenza', 'verlo', 'vez', 'vicepresidente', 'victoria', 'vida', 'vidas', 'viendo', 'viene', 'viernes', 'violencia', 'violencias', 'violentos', 'virus', 'visita', 'visto', 'viva', 'vive', 'viven', 'vivienda', 'viviendas', 'vivimos', 'vivir', 'voluntad', 'volver', 'vota', 'votado', 'votantes', 'votapsoe', 'votar', 'voto', 'votos', 'vox', 'vox_congreso', 'vox_es', 'voy', 'voz', 'vuelta', 'vuelto', 'vuelva', 'vuelve', 'vulnerables', 'vía', 'víctima', 'víctimas', 'vídeo', 'web', 'yolanda_diaz_', 'youtube', 'zapatero', 'zaragoza', 'zona', 'zonas', 'ábalos', 'ángel', 'ánimo', 'éxito', 'última', 'último', 'últimos', 'única', 'único', 'útil']\n"
     ]
    }
   ],
   "source": [
    "print(vectorizer.get_feature_names())"
   ]
  },
  {
   "cell_type": "code",
   "execution_count": 78,
   "metadata": {},
   "outputs": [
    {
     "data": {
      "text/plain": [
       "<104023x1500 sparse matrix of type '<class 'numpy.int64'>'\n",
       "\twith 1061409 stored elements in Compressed Sparse Row format>"
      ]
     },
     "execution_count": 78,
     "metadata": {},
     "output_type": "execute_result"
    }
   ],
   "source": [
    "bow"
   ]
  },
  {
   "cell_type": "code",
   "execution_count": 79,
   "metadata": {},
   "outputs": [],
   "source": [
    "from sklearn.metrics import confusion_matrix\n",
    "from sklearn import svm"
   ]
  },
  {
   "cell_type": "code",
   "execution_count": 80,
   "metadata": {},
   "outputs": [],
   "source": [
    "svm_lineal = svm.LinearSVC(C=1, max_iter=10000).fit(bow, train[\"partido\"])"
   ]
  },
  {
   "cell_type": "code",
   "execution_count": 82,
   "metadata": {},
   "outputs": [],
   "source": [
    "d = test[\"tweet\"]\n",
    "vectorizer2 = CountVectorizer(ngram_range=(1,1), max_features=500,  vocabulary=vectorizer.get_feature_names()) # to use bigrams ngram_range=(2,2)\n",
    "bow_test = vectorizer2.fit_transform(list(d)) # Bag of Words Test"
   ]
  },
  {
   "cell_type": "code",
   "execution_count": 83,
   "metadata": {},
   "outputs": [
    {
     "name": "stdout",
     "output_type": "stream",
     "text": [
      "0.6319695454895025\n"
     ]
    }
   ],
   "source": [
    "acuracy_linear_svm = svm_lineal.score(bow_test, test[\"partido\"]) #O(n^3)\n",
    "print(acuracy_linear_svm)"
   ]
  },
  {
   "cell_type": "code",
   "execution_count": 84,
   "metadata": {},
   "outputs": [],
   "source": [
    "from sklearn.linear_model import LogisticRegression"
   ]
  },
  {
   "cell_type": "code",
   "execution_count": 85,
   "metadata": {},
   "outputs": [
    {
     "data": {
      "text/plain": [
       "LogisticRegression(C=10, max_iter=10000, multi_class='multinomial')"
      ]
     },
     "execution_count": 85,
     "metadata": {},
     "output_type": "execute_result"
    }
   ],
   "source": [
    "softmax = LogisticRegression(multi_class=\"multinomial\", solver=\"lbfgs\", C = 10, max_iter=10000)\n",
    "softmax.fit(bow, train[\"partido\"]) # Mucho mejor running time que SVM"
   ]
  },
  {
   "cell_type": "code",
   "execution_count": 86,
   "metadata": {},
   "outputs": [
    {
     "name": "stdout",
     "output_type": "stream",
     "text": [
      "0.6320079981542721\n"
     ]
    }
   ],
   "source": [
    "acuracy_softmax = softmax.score(bow_test, test[\"partido\"])\n",
    "print(acuracy_softmax) # Inicialmente misma (muy parecida) accurracy que SMV"
   ]
  },
  {
   "cell_type": "code",
   "execution_count": null,
   "metadata": {},
   "outputs": [],
   "source": [
    "# Primera iteracion:  SVM 0.5384911174344382       SoftMax 0.5396831500422979   500 features\n",
    "# Segunda iteracion:  SVM 0.5461047450588326       SoftMax 0.5480658309620857   usando stop_words\n",
    "# Tercera iteracion:  SVM 0.6062447127585942       SoftMax 0.6056294701222795   1000 features, stop_words\n",
    "# Cuarta  iteracion:  SVM 0.6319695454895025       SoftMax 0.6320079981542721   1500 features, stop_words"
   ]
  },
  {
   "cell_type": "code",
   "execution_count": 95,
   "metadata": {},
   "outputs": [
    {
     "data": {
      "text/plain": [
       "array([0.60149942, 0.53047491, 0.51336281, 0.59334743, 0.5725822 ])"
      ]
     },
     "execution_count": 95,
     "metadata": {},
     "output_type": "execute_result"
    }
   ],
   "source": [
    "from sklearn.model_selection import cross_val_score\n",
    "cross_smv = cross_val_score(svm_lineal, bow_test, test[\"partido\"], scoring=\"f1_micro\")\n",
    "cross_smv"
   ]
  },
  {
   "cell_type": "code",
   "execution_count": 94,
   "metadata": {},
   "outputs": [
    {
     "data": {
      "text/plain": [
       "array([0.58785083, 0.51797731, 0.50048068, 0.58104211, 0.56200731])"
      ]
     },
     "execution_count": 94,
     "metadata": {},
     "output_type": "execute_result"
    }
   ],
   "source": [
    "cros_soft_max = cross_val_score(softmax, bow_test, test[\"partido\"], scoring=\"f1_micro\")\n",
    "cros_soft_max"
   ]
  },
  {
   "cell_type": "code",
   "execution_count": 96,
   "metadata": {},
   "outputs": [
    {
     "data": {
      "text/plain": [
       "RandomForestClassifier()"
      ]
     },
     "execution_count": 96,
     "metadata": {},
     "output_type": "execute_result"
    }
   ],
   "source": [
    "from sklearn.ensemble import RandomForestClassifier\n",
    "\n",
    "rand_forest = RandomForestClassifier()\n",
    "rand_forest.fit(bow, train[\"partido\"])"
   ]
  },
  {
   "cell_type": "code",
   "execution_count": 97,
   "metadata": {},
   "outputs": [
    {
     "name": "stdout",
     "output_type": "stream",
     "text": [
      "0.6257017611320465\n"
     ]
    }
   ],
   "source": [
    "acuracy_rand_forest = rand_forest.score(bow_test, test[\"partido\"])\n",
    "print(acuracy_rand_forest)"
   ]
  },
  {
   "cell_type": "code",
   "execution_count": null,
   "metadata": {},
   "outputs": [],
   "source": [
    "# naid bayes, random forest\n",
    "\n",
    "# iteracion 1:         random forest 0.6257017611320465"
   ]
  }
 ],
 "metadata": {
  "kernelspec": {
   "display_name": "Python 3",
   "language": "python",
   "name": "python3"
  },
  "language_info": {
   "codemirror_mode": {
    "name": "ipython",
    "version": 3
   },
   "file_extension": ".py",
   "mimetype": "text/x-python",
   "name": "python",
   "nbconvert_exporter": "python",
   "pygments_lexer": "ipython3",
   "version": "3.9.7"
  }
 },
 "nbformat": 4,
 "nbformat_minor": 4
}
