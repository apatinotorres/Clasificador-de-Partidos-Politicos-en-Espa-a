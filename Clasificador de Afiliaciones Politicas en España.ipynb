{
 "cells": [
  {
   "cell_type": "markdown",
   "metadata": {},
   "source": [
    "## Machine Learning Parcial 2\n",
    "-  Antonio Jose Patiño Torres T00056470\n",
    "-  Maria Angelica Becerra Pico T00054451\n",
    "\n",
    "*UTB - 11/Oct/2021*"
   ]
  },
  {
   "cell_type": "code",
   "execution_count": 35,
   "metadata": {},
   "outputs": [
    {
     "name": "stderr",
     "output_type": "stream",
     "text": [
      "[nltk_data] Downloading package stopwords to\n",
      "[nltk_data]     /home/centurion/nltk_data...\n",
      "[nltk_data]   Unzipping corpora/stopwords.zip.\n"
     ]
    }
   ],
   "source": [
    "import io\n",
    "import sys\n",
    "import os\n",
    "import re\n",
    "import numpy as np\n",
    "import pandas as pd\n",
    "import matplotlib.pyplot as plt\n",
    "from sklearn.feature_extraction.text import CountVectorizer, TfidfVectorizer\n",
    "import nltk\n",
    "nltk.download('stopwords')\n",
    "from nltk.tokenize import word_tokenize, sent_tokenize\n",
    "from nltk.corpus import stopwords"
   ]
  },
  {
   "cell_type": "code",
   "execution_count": 2,
   "metadata": {},
   "outputs": [],
   "source": [
    "raw = pd.read_csv(\"tweets_politica_kaggle.csv\", sep=\"\\t\")"
   ]
  },
  {
   "cell_type": "code",
   "execution_count": 3,
   "metadata": {},
   "outputs": [
    {
     "data": {
      "text/html": [
       "<div>\n",
       "<style scoped>\n",
       "    .dataframe tbody tr th:only-of-type {\n",
       "        vertical-align: middle;\n",
       "    }\n",
       "\n",
       "    .dataframe tbody tr th {\n",
       "        vertical-align: top;\n",
       "    }\n",
       "\n",
       "    .dataframe thead th {\n",
       "        text-align: right;\n",
       "    }\n",
       "</style>\n",
       "<table border=\"1\" class=\"dataframe\">\n",
       "  <thead>\n",
       "    <tr style=\"text-align: right;\">\n",
       "      <th></th>\n",
       "      <th>cuenta</th>\n",
       "      <th>partido</th>\n",
       "      <th>timestamp</th>\n",
       "      <th>tweet</th>\n",
       "    </tr>\n",
       "  </thead>\n",
       "  <tbody>\n",
       "    <tr>\n",
       "      <th>0</th>\n",
       "      <td>a34133350b0605cb24081843f63176ca</td>\n",
       "      <td>psoe</td>\n",
       "      <td>1.363973e+09</td>\n",
       "      <td>@vesteve3 @manubenas @ccoo_rm @desobediencia_ ...</td>\n",
       "    </tr>\n",
       "    <tr>\n",
       "      <th>1</th>\n",
       "      <td>a34133350b0605cb24081843f63176ca</td>\n",
       "      <td>psoe</td>\n",
       "      <td>1.364061e+09</td>\n",
       "      <td>“@kirovast: @Hugo_Moran muy fan de la \"radical...</td>\n",
       "    </tr>\n",
       "    <tr>\n",
       "      <th>2</th>\n",
       "      <td>a34133350b0605cb24081843f63176ca</td>\n",
       "      <td>psoe</td>\n",
       "      <td>1.364117e+09</td>\n",
       "      <td>@ALTAS_PRESIONES Nuevos dueños para las renova...</td>\n",
       "    </tr>\n",
       "    <tr>\n",
       "      <th>3</th>\n",
       "      <td>a34133350b0605cb24081843f63176ca</td>\n",
       "      <td>psoe</td>\n",
       "      <td>1.364121e+09</td>\n",
       "      <td>@jumanjisolar @solartradex @josea_dolera El di...</td>\n",
       "    </tr>\n",
       "    <tr>\n",
       "      <th>4</th>\n",
       "      <td>a34133350b0605cb24081843f63176ca</td>\n",
       "      <td>psoe</td>\n",
       "      <td>1.364153e+09</td>\n",
       "      <td>“@cesarnayu: https://t.co/J4OTXj1x7w … Por fav...</td>\n",
       "    </tr>\n",
       "  </tbody>\n",
       "</table>\n",
       "</div>"
      ],
      "text/plain": [
       "                             cuenta partido     timestamp  \\\n",
       "0  a34133350b0605cb24081843f63176ca    psoe  1.363973e+09   \n",
       "1  a34133350b0605cb24081843f63176ca    psoe  1.364061e+09   \n",
       "2  a34133350b0605cb24081843f63176ca    psoe  1.364117e+09   \n",
       "3  a34133350b0605cb24081843f63176ca    psoe  1.364121e+09   \n",
       "4  a34133350b0605cb24081843f63176ca    psoe  1.364153e+09   \n",
       "\n",
       "                                               tweet  \n",
       "0  @vesteve3 @manubenas @ccoo_rm @desobediencia_ ...  \n",
       "1  “@kirovast: @Hugo_Moran muy fan de la \"radical...  \n",
       "2  @ALTAS_PRESIONES Nuevos dueños para las renova...  \n",
       "3  @jumanjisolar @solartradex @josea_dolera El di...  \n",
       "4  “@cesarnayu: https://t.co/J4OTXj1x7w … Por fav...  "
      ]
     },
     "execution_count": 3,
     "metadata": {},
     "output_type": "execute_result"
    }
   ],
   "source": [
    "raw.head()"
   ]
  },
  {
   "cell_type": "code",
   "execution_count": 4,
   "metadata": {},
   "outputs": [
    {
     "name": "stdout",
     "output_type": "stream",
     "text": [
      "<class 'pandas.core.frame.DataFrame'>\n",
      "RangeIndex: 130039 entries, 0 to 130038\n",
      "Data columns (total 4 columns):\n",
      " #   Column     Non-Null Count   Dtype  \n",
      "---  ------     --------------   -----  \n",
      " 0   cuenta     130039 non-null  object \n",
      " 1   partido    130029 non-null  object \n",
      " 2   timestamp  130029 non-null  float64\n",
      " 3   tweet      130029 non-null  object \n",
      "dtypes: float64(1), object(3)\n",
      "memory usage: 4.0+ MB\n"
     ]
    }
   ],
   "source": [
    "raw.info() # Aprox 10 cuentas tienen valores nulos (null) en campos tweet, partido, timestamp"
   ]
  },
  {
   "cell_type": "code",
   "execution_count": 5,
   "metadata": {},
   "outputs": [
    {
     "data": {
      "text/html": [
       "<div>\n",
       "<style scoped>\n",
       "    .dataframe tbody tr th:only-of-type {\n",
       "        vertical-align: middle;\n",
       "    }\n",
       "\n",
       "    .dataframe tbody tr th {\n",
       "        vertical-align: top;\n",
       "    }\n",
       "\n",
       "    .dataframe thead th {\n",
       "        text-align: right;\n",
       "    }\n",
       "</style>\n",
       "<table border=\"1\" class=\"dataframe\">\n",
       "  <thead>\n",
       "    <tr style=\"text-align: right;\">\n",
       "      <th></th>\n",
       "      <th>cuenta</th>\n",
       "      <th>partido</th>\n",
       "      <th>timestamp</th>\n",
       "      <th>tweet</th>\n",
       "    </tr>\n",
       "  </thead>\n",
       "  <tbody>\n",
       "    <tr>\n",
       "      <th>130029</th>\n",
       "      <td>c736f426051ce1703b6d62686b64dbac</td>\n",
       "      <td>NaN</td>\n",
       "      <td>NaN</td>\n",
       "      <td>NaN</td>\n",
       "    </tr>\n",
       "    <tr>\n",
       "      <th>130030</th>\n",
       "      <td>c736f426051ce1703b6d62686b64dbac</td>\n",
       "      <td>NaN</td>\n",
       "      <td>NaN</td>\n",
       "      <td>NaN</td>\n",
       "    </tr>\n",
       "    <tr>\n",
       "      <th>130031</th>\n",
       "      <td>c736f426051ce1703b6d62686b64dbac</td>\n",
       "      <td>NaN</td>\n",
       "      <td>NaN</td>\n",
       "      <td>NaN</td>\n",
       "    </tr>\n",
       "    <tr>\n",
       "      <th>130032</th>\n",
       "      <td>c736f426051ce1703b6d62686b64dbac</td>\n",
       "      <td>NaN</td>\n",
       "      <td>NaN</td>\n",
       "      <td>NaN</td>\n",
       "    </tr>\n",
       "    <tr>\n",
       "      <th>130033</th>\n",
       "      <td>c736f426051ce1703b6d62686b64dbac</td>\n",
       "      <td>NaN</td>\n",
       "      <td>NaN</td>\n",
       "      <td>NaN</td>\n",
       "    </tr>\n",
       "    <tr>\n",
       "      <th>130034</th>\n",
       "      <td>c736f426051ce1703b6d62686b64dbac</td>\n",
       "      <td>NaN</td>\n",
       "      <td>NaN</td>\n",
       "      <td>NaN</td>\n",
       "    </tr>\n",
       "    <tr>\n",
       "      <th>130035</th>\n",
       "      <td>c736f426051ce1703b6d62686b64dbac</td>\n",
       "      <td>NaN</td>\n",
       "      <td>NaN</td>\n",
       "      <td>NaN</td>\n",
       "    </tr>\n",
       "    <tr>\n",
       "      <th>130036</th>\n",
       "      <td>c736f426051ce1703b6d62686b64dbac</td>\n",
       "      <td>NaN</td>\n",
       "      <td>NaN</td>\n",
       "      <td>NaN</td>\n",
       "    </tr>\n",
       "    <tr>\n",
       "      <th>130037</th>\n",
       "      <td>c736f426051ce1703b6d62686b64dbac</td>\n",
       "      <td>NaN</td>\n",
       "      <td>NaN</td>\n",
       "      <td>NaN</td>\n",
       "    </tr>\n",
       "    <tr>\n",
       "      <th>130038</th>\n",
       "      <td>c736f426051ce1703b6d62686b64dbac</td>\n",
       "      <td>NaN</td>\n",
       "      <td>NaN</td>\n",
       "      <td>NaN</td>\n",
       "    </tr>\n",
       "  </tbody>\n",
       "</table>\n",
       "</div>"
      ],
      "text/plain": [
       "                                  cuenta partido  timestamp tweet\n",
       "130029  c736f426051ce1703b6d62686b64dbac     NaN        NaN   NaN\n",
       "130030  c736f426051ce1703b6d62686b64dbac     NaN        NaN   NaN\n",
       "130031  c736f426051ce1703b6d62686b64dbac     NaN        NaN   NaN\n",
       "130032  c736f426051ce1703b6d62686b64dbac     NaN        NaN   NaN\n",
       "130033  c736f426051ce1703b6d62686b64dbac     NaN        NaN   NaN\n",
       "130034  c736f426051ce1703b6d62686b64dbac     NaN        NaN   NaN\n",
       "130035  c736f426051ce1703b6d62686b64dbac     NaN        NaN   NaN\n",
       "130036  c736f426051ce1703b6d62686b64dbac     NaN        NaN   NaN\n",
       "130037  c736f426051ce1703b6d62686b64dbac     NaN        NaN   NaN\n",
       "130038  c736f426051ce1703b6d62686b64dbac     NaN        NaN   NaN"
      ]
     },
     "execution_count": 5,
     "metadata": {},
     "output_type": "execute_result"
    }
   ],
   "source": [
    "nan_values = raw[raw.isna().any(axis=1)] # Culpables >:(\n",
    "nan_values"
   ]
  },
  {
   "cell_type": "code",
   "execution_count": 6,
   "metadata": {},
   "outputs": [],
   "source": [
    "raw = raw.drop(nan_values.index)"
   ]
  },
  {
   "cell_type": "code",
   "execution_count": 7,
   "metadata": {},
   "outputs": [
    {
     "data": {
      "text/html": [
       "<div>\n",
       "<style scoped>\n",
       "    .dataframe tbody tr th:only-of-type {\n",
       "        vertical-align: middle;\n",
       "    }\n",
       "\n",
       "    .dataframe tbody tr th {\n",
       "        vertical-align: top;\n",
       "    }\n",
       "\n",
       "    .dataframe thead th {\n",
       "        text-align: right;\n",
       "    }\n",
       "</style>\n",
       "<table border=\"1\" class=\"dataframe\">\n",
       "  <thead>\n",
       "    <tr style=\"text-align: right;\">\n",
       "      <th></th>\n",
       "      <th>partido</th>\n",
       "      <th>tweet</th>\n",
       "    </tr>\n",
       "  </thead>\n",
       "  <tbody>\n",
       "    <tr>\n",
       "      <th>0</th>\n",
       "      <td>ciudadanos</td>\n",
       "      <td>23552</td>\n",
       "    </tr>\n",
       "    <tr>\n",
       "      <th>1</th>\n",
       "      <td>podemos</td>\n",
       "      <td>24889</td>\n",
       "    </tr>\n",
       "    <tr>\n",
       "      <th>2</th>\n",
       "      <td>pp</td>\n",
       "      <td>26200</td>\n",
       "    </tr>\n",
       "    <tr>\n",
       "      <th>3</th>\n",
       "      <td>psoe</td>\n",
       "      <td>28882</td>\n",
       "    </tr>\n",
       "    <tr>\n",
       "      <th>4</th>\n",
       "      <td>vox</td>\n",
       "      <td>26506</td>\n",
       "    </tr>\n",
       "  </tbody>\n",
       "</table>\n",
       "</div>"
      ],
      "text/plain": [
       "      partido  tweet\n",
       "0  ciudadanos  23552\n",
       "1     podemos  24889\n",
       "2          pp  26200\n",
       "3        psoe  28882\n",
       "4         vox  26506"
      ]
     },
     "execution_count": 7,
     "metadata": {},
     "output_type": "execute_result"
    }
   ],
   "source": [
    "afiliaciones = raw.groupby(\"partido\", as_index=False)['tweet'].count()\n",
    "afiliaciones"
   ]
  },
  {
   "cell_type": "code",
   "execution_count": 8,
   "metadata": {},
   "outputs": [
    {
     "data": {
      "image/png": "[encoded data removed]",
      "text/plain": [
       "<Figure size 1080x360 with 1 Axes>"
      ]
     },
     "metadata": {
      "needs_background": "light"
     },
     "output_type": "display_data"
    }
   ],
   "source": [
    "plt.figure(figsize=(15,5))\n",
    "plt.bar(afiliaciones['partido'].values, afiliaciones['tweet'].values, color=[\"orange\", \"purple\", \"lightblue\", \"red\", \"green\"], alpha=0.9)\n",
    "plt.title('Datos')\n",
    "plt.ylabel('Usuarios Afines', fontsize=10)\n",
    "plt.xlabel('Partidos Politicos', fontsize=10)\n",
    "plt.show()"
   ]
  },
  {
   "cell_type": "code",
   "execution_count": 9,
   "metadata": {},
   "outputs": [
    {
     "name": "stdout",
     "output_type": "stream",
     "text": [
      "<class 'pandas.core.frame.DataFrame'>\n",
      "Int64Index: 5 entries, 0 to 4\n",
      "Data columns (total 2 columns):\n",
      " #   Column   Non-Null Count  Dtype \n",
      "---  ------   --------------  ----- \n",
      " 0   partido  5 non-null      object\n",
      " 1   tweet    5 non-null      int64 \n",
      "dtypes: int64(1), object(1)\n",
      "memory usage: 120.0+ bytes\n"
     ]
    }
   ],
   "source": [
    "afiliaciones.info(null_counts=True)"
   ]
  },
  {
   "cell_type": "code",
   "execution_count": 10,
   "metadata": {},
   "outputs": [],
   "source": [
    "train = raw.sample(frac=0.8)\n",
    "test = raw.drop(train.index)"
   ]
  },
  {
   "cell_type": "code",
   "execution_count": 11,
   "metadata": {},
   "outputs": [
    {
     "name": "stdout",
     "output_type": "stream",
     "text": [
      "<class 'pandas.core.frame.DataFrame'>\n",
      "Int64Index: 104023 entries, 43849 to 13252\n",
      "Data columns (total 4 columns):\n",
      " #   Column     Non-Null Count   Dtype  \n",
      "---  ------     --------------   -----  \n",
      " 0   cuenta     104023 non-null  object \n",
      " 1   partido    104023 non-null  object \n",
      " 2   timestamp  104023 non-null  float64\n",
      " 3   tweet      104023 non-null  object \n",
      "dtypes: float64(1), object(3)\n",
      "memory usage: 4.0+ MB\n"
     ]
    }
   ],
   "source": [
    "train.info()"
   ]
  },
  {
   "cell_type": "code",
   "execution_count": 12,
   "metadata": {},
   "outputs": [
    {
     "name": "stdout",
     "output_type": "stream",
     "text": [
      "<class 'pandas.core.frame.DataFrame'>\n",
      "Int64Index: 26006 entries, 6 to 130026\n",
      "Data columns (total 4 columns):\n",
      " #   Column     Non-Null Count  Dtype  \n",
      "---  ------     --------------  -----  \n",
      " 0   cuenta     26006 non-null  object \n",
      " 1   partido    26006 non-null  object \n",
      " 2   timestamp  26006 non-null  float64\n",
      " 3   tweet      26006 non-null  object \n",
      "dtypes: float64(1), object(3)\n",
      "memory usage: 1015.9+ KB\n"
     ]
    }
   ],
   "source": [
    "test.info()"
   ]
  },
  {
   "cell_type": "code",
   "execution_count": 107,
   "metadata": {},
   "outputs": [],
   "source": [
    "c = train[\"tweet\"]\n",
    "es_stops = set(stopwords.words('spanish'))\n",
    "vectorizer = CountVectorizer(ngram_range=(1,1), max_features=4000, stop_words=set(es_stops)) # to use bigrams ngram_range=(2,2)\n",
    "bow = vectorizer.fit_transform(list(c)) # Bag of Words"
   ]
  },
  {
   "cell_type": "code",
   "execution_count": 108,
   "metadata": {},
   "outputs": [
    {
     "data": {
      "text/plain": [
       "['“Un Gobierno de Coalición ... con la sociedad y para la sociedad”Solo la consistencia y el apoyo de la mayoría social podrá sostener la alianza PSOE &amp; UP, aunque se tensione o dude de su continuidad.Por @antonigr / Vía @elperiodico / IMPRESCINDIBLEhttps://t.co/jV6EHTBWh6',\n",
       " 'Pablo Motos me ha preguntado en El Hormiguero por qué los poderosos, aquellos que están acostumbrados a mandar en España sin presentarse a las elecciones, le tienen \"manía\" a Unidas Podemos.   Esto es lo que le he respondido 👇🏾 #PabloIglesiasEH https://t.co/gXo2j37V79',\n",
       " 'Se va un gran campeón.Gracias Jorge por lo que nos has hecho vivir.https://t.co/xRSYKW2o9Y',\n",
       " '@mercedes_cd Y yo😂',\n",
       " '▶ ”Es bochornoso que Podemos despache un caso de corrupción de 680 millones de euros con un tuit.” @JuanMa_Moreno en @elprogramadear https://t.co/9MsmvuyTFu']"
      ]
     },
     "execution_count": 108,
     "metadata": {},
     "output_type": "execute_result"
    }
   ],
   "source": [
    "list(c.head())"
   ]
  },
  {
   "cell_type": "code",
   "execution_count": 109,
   "metadata": {},
   "outputs": [
    {
     "name": "stdout",
     "output_type": "stream",
     "text": [
      "['00', '000', '000m', '00h', '016', '09', '10', '100', '1000', '10n', '11', '12', '13', '14', '140', '140añosdeprogreso', '14f', '15', '150', '155', '155ya', '15h', '16', '17', '18', '19', '1ª', '20', '200', '2003', '2008', '2012', '2015', '2016', '2017', '2018', '2019', '2020', '2021', '2022', '2030', '2050', '20m', '21', '22', '23', '24', '24h', '24horas_rne', '25', '26', '26m', '27', '28', '28a', '29', '30', '300', '30h', '31', '32', '34', '35', '36', '37', '3quq6ixg6u', '40', '400', '42', '44', '45', '45h', '48', '4m', '50', '500', '52', '60', '600', '6wgpuwq5jj', '70', '700', '75', '78', '80', '800', '8m', '8m2021', '90', '900', '_infolibre', 'aa', 'abajo', 'abalosmeco', 'abandonado', 'abandonados', 'abandonar', 'abandono', 'abascal', 'abc', 'abc_es', 'abcespana', 'abeltran_ana', 'abierta', 'abiertas', 'abierto', 'abogacía', 'abogado', 'abordar', 'aborto', 'abrazo', 'abre', 'abril', 'abrir', 'absoluta', 'absolutamente', 'absoluto', 'abstención', 'abuso', 'abusos', 'acaba', 'acabado', 'acabamos', 'acaban', 'acabar', 'acabe', 'acabo', 'acabó', 'acceder', 'acceso', 'accidente', 'acciones', 'acción', 'acelerar', 'acepta', 'aceptar', 'acerca', 'aclarar', 'acoger', 'acogida', 'acompañado', 'acompañando', 'acompañar', 'acordado', 'acoso', 'acta', 'actitud', 'actividad', 'actividades', 'acto', 'actos', 'actuaciones', 'actuación', 'actual', 'actualidad', 'actualidadcs', 'actuar', 'actúa', 'actúe', 'acudir', 'acuerdo', 'acuerdos', 'acusa', 'acusaciones', 'acusación', 'adacolau', 'adelante', 'además', 'adiós', 'administraciones', 'administración', 'admiración', 'adoctrinamiento', 'adoptar', 'adrilastra', 'adversario', 'aeropuerto', 'afecta', 'afectadas', 'afectados', 'afectan', 'afecto', 'afganistán', 'afganos', 'afiliados', 'afortunadamente', 'afrontar', 'agarzon', 'agencia', 'agenda', 'agente', 'agentes', 'aglezterol', 'agosto', 'agradecemos', 'agradecer', 'agradecimiento', 'agradezco', 'agresiones', 'agresión', 'agricultores', 'agricultura', 'agua', 'aguas', 'ah', 'ahora', 'ahoraespaña', 'ahorapodemos', 'ahorasí', 'ahoraunidad', 'ahí', 'aire', 'alarma', 'albert', 'albert_rivera', 'alberto', 'alcalde', 'alcaldes', 'alcaldesa', 'alcance', 'alcanzado', 'alcanzar', 'alcorcón', 'alegro', 'alegría', 'alejandrotgn', 'alemania', 'alerta', 'alevysoler', 'alguien', 'alguna', 'alguno', 'algún', 'aliado', 'aliados', 'alianza', 'alianzas', 'alicante', 'allegados', 'allá', 'allí', 'alma', 'almeida', 'almeidapp_', 'almería', 'alquiler', 'alquileres', 'alta', 'altas', 'alternativa', 'alternativas', 'alto', 'altos', 'altura', 'alumnos', 'amar', 'amb', 'ambas', 'ambición', 'ambiental', 'ambiente', 'ambos', 'amenaza', 'amenazan', 'amenazas', 'amiga', 'amigo', 'amigos', 'amnistía', 'amor', 'amp', 'amplia', 'ampliación', 'ampliar', 'amplio', 'américa', 'an', 'ana', 'analizar', 'anapastorjulian', 'and', 'andaluces', 'andaluciajunta', 'andalucía', 'andaluz', 'andaluza', 'andaluzas', 'ander_gil', 'animales', 'animo', 'aniversario', 'anoche', 'antecedentes', 'anterior', 'anteriores', 'anti', 'antonio', 'anuncia', 'anunciado', 'anuncio', 'análisis', 'apenas', 'apertura', 'aplicación', 'aplicar', 'aportar', 'apostamos', 'apostando', 'apostar', 'apoya', 'apoyado', 'apoyamos', 'apoyan', 'apoyando', 'apoyar', 'apoyo', 'apoyos', 'aprender', 'aprendido', 'aprobación', 'aprobada', 'aprobado', 'aprobamos', 'aprobar', 'aprobó', 'aprovechar', 'aprueba', 'apuesta', 'apuestas', 'aquel', 'aquella', 'aquellas', 'aquello', 'aquellos', 'aquí', 'aragonès', 'aragón', 'aranceles', 'aranchaglezlaya', 'are', 'argentina', 'argumentos', 'arma', 'armadas', 'armas', 'arranca', 'arriba', 'arrimadas', 'art', 'arte', 'artistas', 'artículo', 'artículos', 'as', 'asalto', 'asamblea', 'asco', 'asegurar', 'asesinada', 'asesinadas', 'asesinado', 'asesinados', 'asesinato', 'asesinatos', 'asesino', 'asesinos', 'asesinó', 'asilo', 'asistencia', 'asistido', 'asistir', 'asociaciones', 'asociación', 'asturias', 'asumir', 'asunto', 'asuntos', 'así', 'ataca', 'atacan', 'atacar', 'ataque', 'ataques', 'atención', 'atender', 'atendido', 'atentado', 'atentados', 'atiende', 'atrás', 'audiencia', 'aulas', 'aumenta', 'aumentar', 'aumento', 'aun', 'aunque', 'ausencia', 'autodeterminación', 'autonomía', 'autonomías', 'autonómica', 'autonómicas', 'autonómico', 'autonómicos', 'autor', 'autoridad', 'autoridades', 'auténtica', 'auténtico', 'autónoma', 'autónomas', 'autónomo', 'autónomos', 'avance', 'avances', 'avanza', 'avanzado', 'avanzamos', 'avanzando', 'avanzar', 'ave', 'avión', 'avui', 'ay', 'ayer', 'ayto', 'ayuda', 'ayudan', 'ayudar', 'ayudas', 'ayuntamiento', 'ayuntamientos', 'ayuntamientovll', 'ayuso', 'aznar', 'año', 'años', 'aún', 'baja', 'bajada', 'bajando', 'bajar', 'bajas', 'bajo', 'bajos', 'balance', 'baleares', 'baledmundo', 'banca', 'banco', 'bancos', 'banda', 'bandera', 'banderas', 'barajas', 'barbarie', 'barcelona', 'barreras', 'barrio', 'barrios', 'basada', 'basado', 'base', 'bases', 'basta', 'bastante', 'bastaya', 'basura', 'batalla', 'batet', 'be', 'begonavillacis', 'beneficio', 'beneficios', 'beso', 'biden', 'bien', 'bienes', 'bienestar', 'bienvenida', 'bienvenido', 'bilbao', 'bildu', 'bipartidismo', 'blanca', 'blanco', 'blanquear', 'blindar', 'bloqueado', 'bloquear', 'bloqueo', 'bmveomkwn7', 'boca', 'boe', 'bolaños', 'bolivia', 'bolsillo', 'bolsonaro', 'bomberos', 'bonita', 'bonito', 'borrascafilomena', 'borrell', 'brasil', 'bravo', 'brazos', 'brecha', 'breve', 'brexit', 'brillante', 'bruselas', 'brutal', 'buen', 'buena', 'buenas', 'bueno', 'buenos', 'buenosdías', 'buitre', 'bulo', 'bulos', 'burocracia', 'busca', 'buscan', 'buscando', 'buscar', 'by', 'bárcenas', 'básico', 'básicos', 'búsqueda', 'cabe', 'caben', 'cabeza', 'cabezas', 'cabo', 'cada', 'cadena', 'caer', 'caiga', 'caja', 'calidad', 'calla', 'callar', 'calle', 'calles', 'calma', 'calviño', 'calvo', 'cambia', 'cambiado', 'cambiar', 'cambio', 'cambios', 'camino', 'campaña', 'campañas', 'campeona', 'campeones', 'campo', 'canal', 'canaria', 'canarias', 'candidata', 'candidato', 'candidatos', 'candidatura', 'canuto6969', 'caos', 'capaces', 'capacidad', 'capaz', 'capital', 'capítulo', 'cara', 'carga', 'cargo', 'cargos', 'cariño', 'carlos', 'carmen', 'carmena', 'carmencalvo_', 'caro', 'carrera', 'carreteras', 'carrizosacarlos', 'carta', 'cartagena', 'cartel', 'carácter', 'casa', 'casado', 'casas', 'casi', 'caso', 'casos', 'castellano', 'castilla', 'catalana', 'catalanas', 'catalanes', 'catalunya', 'cataluña', 'catalán', 'catastrófica', 'catástrofe', 'causa', 'causas', 'cayetanaat', 'caída', 'caído', 'caídos', 'cc', 'ccaa', 'cdr', 'ce', 'ceder', 'celaaisabel', 'celaá', 'celebra', 'celebración', 'celebrado', 'celebramos', 'celebran', 'celebrar', 'censura', 'centrado', 'centradosentufuturo', 'central', 'centro', 'centros', 'ceoe', 'cerca', 'cero', 'cerrado', 'cerrar', 'cesar', 'cese', 'cesiones', 'ceuta', 'cgpj', 'chantaje', 'chile', 'china', 'chiringuitos', 'choque', 'ciclo', 'cielo', 'ciencia', 'cientos', 'científica', 'científicos', 'cierra', 'cierre', 'cierto', 'cifra', 'cifras', 'cinco', 'cine', 'circunstancias', 'cis', 'cita', 'ciudad', 'ciudadana', 'ciudadanamartar', 'ciudadano', 'ciudadanos', 'ciudadanoscs', 'ciudadanoville', 'ciudadanía', 'ciudades', 'ciutadanscs', 'civil', 'civiles', 'clara', 'claramente', 'claras', 'claridad', 'claro', 'claros', 'clase', 'clases', 'clausura', 'clave', 'claves', 'clima', 'climática', 'climático', 'cloacas', 'cmin', 'co', 'coalición', 'cobarde', 'cobardes', 'cobardía', 'cobertura', 'cobrar', 'coche', 'coherencia', 'coherente', 'cohesión', 'cola', 'colaboración', 'colaborar', 'colas', 'colau', 'colectiva', 'colectivo', 'colectivos', 'colegio', 'colegios', 'colombia', 'color', 'columna', 'colón', 'com', 'comandos', 'combate', 'combatir', 'comentando', 'comentar', 'comentarios', 'comenzamos', 'comenzar', 'comer', 'comercial', 'comerciales', 'comerciantes', 'comercio', 'comercios', 'comienza', 'comienzo', 'comisario', 'comisiones', 'comisión', 'comité', 'comparecencia', 'compartido', 'compartimos', 'compartir', 'comparto', 'compatriotas', 'compañera', 'compañeras', 'compañero', 'compañeros', 'compañía', 'competencia', 'competencias', 'competitividad', 'complejo', 'complejos', 'completa', 'completamente', 'completo', 'complicidad', 'comportamiento', 'compra', 'comprar', 'comprobar', 'comprometida', 'comprometido', 'comprometidos', 'compromiso', 'compromisos', 'compromís', 'comunes', 'comunicación', 'comunicado', 'comunidad', 'comunidades', 'comunidadmadrid', 'comunismo', 'comunista', 'comunistas', 'común', 'concejal', 'concejales', 'concentración', 'concepto', 'concertada', 'concesión', 'conciencia', 'conciliación', 'concordia', 'concretas', 'condena', 'condenado', 'condenados', 'condenamos', 'condenar', 'condiciones', 'condición', 'condolencias', 'conferencia', 'confianza', 'confinamiento', 'confirma', 'conflicto', 'confrontación', 'confío', 'congreso', 'congreso_es', 'conjunta', 'conjunto', 'conmigo', 'conoce', 'conocemos', 'conocer', 'conocido', 'conocimiento', 'consciente', 'conscientes', 'consecuencia', 'consecuencias', 'conseguido', 'conseguimos', 'conseguir', 'conseguirlo', 'consejera', 'consejero', 'consejo', 'consenso', 'consentimiento', 'considera', 'consigue', 'consiste', 'consolidar', 'constante', 'constitucional', 'constitucionales', 'constitucionalismo', 'constitucionalista', 'constitucionalistas', 'constitución', 'construcción', 'construido', 'construir', 'construirgobierno', 'construye', 'construyendo', 'consulta', 'consumidores', 'consumo', 'contacto', 'contado', 'contagiados', 'contagio', 'contagios', 'contaminación', 'contamos', 'contar', 'contención', 'contenido', 'contenidos', 'contexto', 'contigo', 'continuación', 'continuar', 'continúa', 'contraria', 'contrario', 'contratación', 'contrato', 'contratos', 'contribuir', 'control', 'controlar', 'contundente', 'convencido', 'convención', 'convenio', 'convertido', 'convertir', 'convertirse', 'convicciones', 'convicción', 'conviene', 'convierte', 'convivencia', 'convocar', 'convocatoria', 'cooperación', 'coordinación', 'coordinar', 'cop25', 'cope', 'coraje', 'corazón', 'cordón', 'corona', 'coronavirus', 'correcto', 'correo', 'correos', 'corresponde', 'corrupción', 'corrupto', 'corruptos', 'corte', 'cortes', 'corto', 'cosa', 'cosas', 'costa', 'coste', 'costes', 'covid', 'covid19', 'covid2019', 'covid_19', 'covidー19', 'crea', 'creación', 'creado', 'crean', 'creando', 'crear', 'crece', 'crecer', 'creciendo', 'crecimiento', 'credibilidad', 'cree', 'creemos', 'creen', 'creer', 'creo', 'crimen', 'criminal', 'criminales', 'criminalización', 'crisis', 'crispación', 'cristinanarbona', 'criterio', 'criterios', 'criticar', 'crucial', 'cruz', 'crímenes', 'crítica', 'cs', 'cscongreso', 'cualquier', 'cualquiera', 'cuanto', 'cuantos', 'cuarentena', 'cuarta', 'cuartel', 'cuatro', 'cuba', 'cubano', 'cucagamarra', 'cuenta', 'cuentan', 'cuentas', 'cuento', 'cuerpo', 'cuerpos', 'cuesta', 'cuestiones', 'cuestión', 'cuidado', 'cuidados', 'cuidan', 'cuidar', 'culpa', 'culpables', 'cultura', 'cultural', 'culturales', 'cumbre', 'cumpla', 'cumplan', 'cumple', 'cumpleaños', 'cumplen', 'cumplido', 'cumpliendo', 'cumplimiento', 'cumplimos', 'cumplir', 'cuota', 'cuotas', 'cup', 'curso', 'curva', 'cuya', 'cuyo', 'cuál', 'cuándo', 'cuántas', 'cuánto', 'cuántos', 'cádiz', 'cámara', 'cáncer', 'cárcel', 'código', 'cómo', 'cómplice', 'cómplices', 'córdoba', 'da', 'dado', 'dale', 'damos', 'dan', 'dando', 'daniel', 'danielperezcs', 'dar', 'daremos', 'darle', 'dará', 'das', 'dato', 'datos', 'david', 'daño', 'daños', 'ddhh', 'debajo', 'debatalrojovivo', 'debate', 'debatea7rtve', 'debates', 'debatir', 'debe', 'debemos', 'deben', 'deber', 'debería', 'deberíamos', 'deberían', 'debido', 'decenas', 'decente', 'decide', 'deciden', 'decidida', 'decidido', 'decidir', 'decimos', 'decir', 'decirle', 'decirlo', 'decisiones', 'decisivo', 'decisión', 'declara', 'declaraciones', 'declaración', 'declarado', 'declarar', 'decreto', 'decía', 'decían', 'dedica', 'dedicación', 'dedicado', 'dedican', 'dedo', 'defendemos', 'defender', 'defenderemos', 'defendido', 'defendiendo', 'defensa', 'defensor', 'defensores', 'defienda', 'defiende', 'defienden', 'definitiva', 'definitivamente', 'deja', 'dejado', 'dejamos', 'dejan', 'dejando', 'dejar', 'dejaremos', 'deje', 'dejemos', 'dejen', 'dejo', 'dejó', 'delante', 'delcy', 'delegación', 'delgado', 'delincuencia', 'delincuente', 'delincuentes', 'delito', 'delitos', 'demagogia', 'demanda', 'demandas', 'demasiado', 'democracia', 'democracias', 'democrática', 'democráticas', 'democrático', 'democráticos', 'demográfico', 'demostrado', 'demostrando', 'demostrar', 'demuestra', 'demuestran', 'demás', 'demócrata', 'demócratas', 'den', 'dentro', 'denuncia', 'denunciado', 'denunciamos', 'denunciando', 'denunciar', 'denuncias', 'dep', 'depende', 'dependencia', 'deporte', 'deportistas', 'derecha', 'derechas', 'derecho', 'derechos', 'deriva', 'derogar', 'derrota', 'derrotar', 'des', 'desafío', 'desafíos', 'desahucios', 'desarrollar', 'desarrollo', 'desastre', 'desayunos_tve', 'desbloquear', 'descanse', 'descanso', 'deseando', 'desempleo', 'deseo', 'deseos', 'desgracia', 'desigualdad', 'desigualdades', 'desinformación', 'desobediencia', 'despido', 'despoblación', 'desprecio', 'después', 'destinar', 'destino', 'destrucción', 'destruir', 'detalle', 'detención', 'detener', 'detenido', 'detenidos', 'determinación', 'detrás', 'deuda', 'devolver', 'dialogar', 'diario', 'diariocylmundo', 'dice', 'dicen', 'dices', 'dicho', 'diciembre', 'diciendo', 'dictador', 'dictadura', 'dictaduras', 'dieron', 'diez', 'diferencia', 'diferencias', 'diferente', 'diferentes', 'dificultades', 'difunde', 'difundir', 'difícil', 'difíciles', 'diga', 'digan', 'digital', 'digitales', 'digitalización', 'digna', 'dignas', 'dignidad', 'digno', 'dignos', 'digo', 'dije', 'dijeron', 'dijimos', 'dijo', 'dimisión', 'dimitir', 'dinero', 'dio', 'dios', 'diputación', 'diputada', 'diputadas', 'diputado', 'diputados', 'dirección', 'directa', 'directamente', 'directas', 'directo', 'director', 'directora', 'dirigentes', 'discapacidad', 'disciplina', 'discriminación', 'discurso', 'discursos', 'disfrutar', 'disponibles', 'disposición', 'dispuesto', 'dispuestos', 'distancia', 'distintas', 'distinto', 'distintos', 'disturbios', 'diversa', 'diversidad', 'dividir', 'división', 'diálogo', 'do', 'doble', 'documento', 'dolor', 'dolores', 'dolorsmm', 'domicilio', 'domingo', 'don', 'donaciones', 'dormir', 'dos', 'dosis', 'doy', 'drama', 'duda', 'dudas', 'dura', 'duro', 'duros', 'dé', 'débil', 'década', 'décadas', 'déficit', 'día', 'días', 'díaz', 'dónde', 'echar', 'echenique', 'ecologista', 'ecológica', 'economía', 'económica', 'económicas', 'económico', 'económicos', 'ecuador', 'edad', 'edición', 'editorial', 'editorialespasa', 'eduardo', 'educación', 'educar', 'educativa', 'educativo', 'eeuu', 'efectiva', 'efectivamente', 'efectivos', 'efecto', 'efectos', 'eficaces', 'eficacia', 'eficaz', 'eficiente', 'eje', 'ejecución', 'ejecutiva', 'ejecutivo', 'ejemplar', 'ejemplo', 'ejemplos', 'ejercer', 'ejercicio', 'ejes', 'ejército', 'el_pais', 'elcascabeltrece', 'elconfidencial', 'eldiarioes', 'elecciones', 'elección', 'electoral', 'electorales', 'electricidad', 'elegido', 'elegir', 'elementos', 'elespanolcom', 'elige', 'elijan', 'eliminación', 'eliminar', 'ello', 'elmundoes', 'elorza', 'elpais_espana', 'elperiodico', 'elprogramadear', 'els', 'eléctrica', 'eléctricas', 'eléctrico', 'embajador', 'embargo', 'emergencia', 'emergencias', 'emisiones', 'emocionante', 'emoción', 'empatía', 'empezado', 'empezamos', 'empezar', 'empezó', 'empeño', 'empieza', 'empiezan', 'empleados', 'empleo', 'empleogob', 'empleos', 'emprendedores', 'empresa', 'empresarial', 'empresarios', 'empresas', 'encantado', 'encasadeherrero', 'encima', 'encontrado', 'encontramos', 'encontrar', 'encuentra', 'encuentran', 'encuentro', 'encuesta', 'encuestas', 'endirecto', 'enemigo', 'enemigos', 'energética', 'energía', 'energías', 'enero', 'enfermedad', 'enfermedades', 'enfermos', 'enfrenta', 'enfrentamiento', 'enfrentar', 'enfrente', 'engañar', 'engaño', 'enhorabuena', 'enlace', 'enmienda', 'enorme', 'enrique', 'entender', 'entendido', 'entendimiento', 'entera', 'entidades', 'entiende', 'entienden', 'entiendo', 'entonces', 'entorno', 'entra', 'entrada', 'entrar', 'entrega', 'entregar', 'entrevista', 'entrevistada', 'entrevistado', 'entrevistas', 'enviar', 'epidemia', 'equidad', 'equipo', 'equipogabilondo', 'equipos', 'erc', 'ere', 'erodriguez_2019', 'erradicar', 'error', 'errores', 'erte', 'escaño', 'escaños', 'escenario', 'escolar', 'esconde', 'escribe', 'escribir', 'escrito', 'escrúpulos', 'escucha', 'escuchado', 'escuchando', 'escuchar', 'escudo', 'escudosocialcoronavirus', 'escuela', 'escuelas', 'escándalo', 'esencial', 'esenciales', 'esfuerzo', 'esfuerzos', 'eshoradeconstruir', 'eslamananadefjl', 'espacio', 'espacios', 'espalda', 'españa', 'españaavanza', 'españaavanza_', 'españaenmarcha', 'españasiempre', 'españaviva', 'español', 'española', 'españolas', 'españoles', 'especial', 'especialmente', 'espectacular', 'espectáculo', 'espejopublico', 'espera', 'esperamos', 'esperan', 'esperando', 'esperanza', 'esperar', 'espero', 'espíritu', 'esradio', 'estabilidad', 'estable', 'establece', 'establecer', 'estación', 'estatal', 'estatuto', 'estevirusloparamosunidos', 'estrategia', 'estratégico', 'estructura', 'estructural', 'estudiantes', 'estudiar', 'estudio', 'eta', 'etapa', 'etarra', 'etarras', 'etc', 'eu', 'euro', 'eurodiputado', 'europa', 'europapress', 'europarl_es', 'europe', 'europea', 'europeas', 'europeo', 'europeos', 'euros', 'euskadi', 'eutanasia', 'evento', 'evidencia', 'evidente', 'evitar', 'evolución', 'ex', 'exactamente', 'excelente', 'excepcional', 'excepción', 'exclusión', 'excusa', 'excusas', 'exhumación', 'exige', 'exigen', 'exigencia', 'exigiendo', 'exigimos', 'exigir', 'existe', 'existen', 'existencia', 'experiencia', 'expertos', 'explica', 'explicaciones', 'explicación', 'explicado', 'explicando', 'explicar', 'explico', 'explique', 'explotación', 'exposición', 'expresar', 'expresión', 'expulsión', 'exterior', 'exteriores', 'extinción', 'extra', 'extranjero', 'extranjeros', 'extraordinaria', 'extraordinario', 'extrema', 'extremadura', 'extremos', 'facilitar', 'factura', 'fake', 'falla', 'fallecido', 'fallecidos', 'fallecimiento', 'falsa', 'falsas', 'falso', 'falsos', 'falta', 'faltan', 'familia', 'familiar', 'familiares', 'familias', 'fascismo', 'fascista', 'fascistas', 'fase', 'favor', 'favorecer', 'fcse', 'fe', 'febrero', 'fecha', 'federal', 'feijoogalicia', 'felices', 'felicidades', 'felipe', 'felipe_sicilia', 'feliz', 'felizdomingo', 'felizjueves', 'felizlunes', 'felizmartes', 'felizmiércoles', 'felizsábado', 'femenino', 'feminismo', 'feminista', 'feministas', 'feria', 'fernando', 'fernández', 'ferraz', 'fiesta', 'fiestas', 'figura', 'filomena', 'fin', 'final', 'finalmente', 'financiación', 'financiar', 'fines', 'firma', 'firmado', 'firme', 'firmes', 'firmeza', 'fiscal', 'fiscales', 'fiscalidad', 'fiscalía', 'foco', 'fomentar', 'fomento', 'fondo', 'fondos', 'for', 'forma', 'formaciones', 'formación', 'forman', 'formar', 'formas', 'foro', 'fortalecer', 'fortaleza', 'foto', 'fotos', 'fp', 'fracaso', 'francia', 'francisco', 'franciscoigea', 'franco', 'franquismo', 'franquista', 'frase', 'fraude', 'frenar', 'frente', 'frontera', 'fronteras', 'fruto', 'frío', 'fuego', 'fuente', 'fuentes', 'fuerte', 'fuertes', 'fuerza', 'fuerzas', 'funciona', 'funcionamiento', 'funcionan', 'funcionarios', 'funciones', 'función', 'fundación', 'fundamental', 'fundamentales', 'futuro', 'fácil', 'félix', 'fórmula', 'fútbol', 'gabilondo', 'gaceta_es', 'galicia', 'gallegos', 'gana', 'ganaderos', 'ganado', 'ganan', 'ganar', 'ganas', 'ganó', 'garantice', 'garantiza', 'garantizando', 'garantizar', 'garantía', 'garantías', 'garcía', 'garzón', 'gas', 'gasto', 'gastos', 'genera', 'generaciones', 'generación', 'general', 'generales', 'generalidad', 'generalitat', 'generar', 'generosidad', 'genial', 'gente', 'gestionar', 'gestión', 'gesto', 'gibraltar', 'girautaoficial', 'global', 'globalismo', 'globalista', 'gloria', 'gob', 'gobernabilidad', 'gobernado', 'gobernamos', 'gobernando', 'gobernar', 'gobernarenserio', 'gobierna', 'gobiernan', 'gobierne', 'gobierno', 'gobiernos', 'golpe', 'golpismo', 'golpista', 'golpistas', 'gonzález', 'govern', 'gppopular', 'gpscongreso', 'gracias', 'gran', 'granada', 'grande', 'grandes', 'gratis', 'gratitud', 'grave', 'gravedad', 'graves', 'gravísimo', 'grecia', 'grito', 'gritos', 'grupo', 'grupos', 'guadalajara', 'guardia', 'guardiacivil', 'guardias', 'guerra', 'guillermodiazcs', 'gusta', 'gustaría', 'guste', 'gusto', 'guía', 'género', 'haber', 'habitantes', 'habitual', 'habla', 'hablado', 'hablamos', 'hablan', 'hablando', 'hablar', 'hablaremos', 'hable', 'hablo', 'hace', 'hacemos', 'hacen', 'hacer', 'hacerlo', 'hacernos', 'hacerse', 'hacia', 'hacienda', 'haciendo', 'hacéis', 'hacía', 'haga', 'hagamos', 'hagan', 'hago', 'hambre', 'haremos', 'hartos', 'hará', 'harán', 'haría', 'hazloxmadrid', 'hecho', 'hechos', 'hectorgomezh', 'herederos', 'heridas', 'heridos', 'hermanntertsch', 'hermano', 'hermanos', 'hernández', 'herramienta', 'herramientas', 'herreraencope', 'hicieron', 'hicimos', 'hija', 'hijas', 'hijo', 'hijos', 'hilo', 'hipocresía', 'historia', 'histórica', 'histórico', 'hito', 'hizo', 'hogar', 'hogares', 'hoja', 'hola', 'hombre', 'hombres', 'hombro', 'homenaje', 'homenajes', 'homosexuales', 'honestidad', 'honor', 'hora', 'hora_digital', 'horas', 'horizonte', 'horror', 'hospital', 'hospitales', 'hosteleros', 'hostelería', 'hoy', 'hoyporhoy', 'https', 'huelga', 'huelva', 'humana', 'humanidad', 'humanitaria', 'humano', 'humanos', 'humildad', 'humillación', 'humor', 'hungría', 'héroes', 'iba', 'iban', 'ibex', 'iceta', 'idea', 'ideas', 'identidad', 'ideología', 'ideológica', 'ideológico', 'idiazayuso', 'ido', 'ifema', 'igarrigavaz', 'iglesia', 'iglesias', 'ignacio', 'ignacioaguado', 'ignorancia', 'igual', 'igualdad', 'igualdadgob', 'iguales', 'ii', 'ilegal', 'ilegales', 'ilegalmente', 'illa', 'ilusión', 'imagen', 'impacto', 'imparable', 'impedido', 'impedir', 'impide', 'implica', 'implicación', 'impone', 'imponer', 'importa', 'importan', 'importancia', 'importante', 'importantes', 'imposible', 'imposición', 'imprescindible', 'imprescindibles', 'impresionante', 'impuesto', 'impuestos', 'impulsado', 'impulsando', 'impulsar', 'impulso', 'impunidad', 'imágenes', 'in', 'inacción', 'inaceptable', 'inadmisible', 'incansable', 'incapacidad', 'incapaz', 'incendio', 'incendios', 'incertidumbre', 'incidencia', 'incluido', 'incluidos', 'inclusiva', 'inclusivo', 'inclusión', 'incluso', 'incluye', 'incompetencia', 'incremento', 'increíble', 'independencia', 'independentismo', 'independentista', 'independentistas', 'independiente', 'indignante', 'individual', 'indultar', 'indulto', 'indultos', 'industria', 'industrial', 'inesarrimadas', 'inestabilidad', 'infame', 'infamia', 'infancia', 'infantil', 'infierno', 'info', 'informaciones', 'información', 'informar', 'informe', 'informes', 'infraestructuras', 'ingreso', 'ingresos', 'inhabilitado', 'inicia', 'iniciamos', 'iniciar', 'iniciativa', 'iniciativas', 'inicio', 'injusticia', 'injusto', 'inmediata', 'inmediatamente', 'inmediato', 'inmensa', 'inmenso', 'inmigración', 'inmigrantes', 'inmunidad', 'innovación', 'inocentes', 'inseguridad', 'inspección', 'instalaciones', 'institucional', 'instituciones', 'institución', 'instituto', 'instrumento', 'instrumentos', 'insultan', 'insultar', 'insulto', 'insultos', 'integración', 'integral', 'integridad', 'intelectual', 'inteligencia', 'inteligente', 'intención', 'intenta', 'intentado', 'intentan', 'intentando', 'intentar', 'intento', 'interesa', 'interesante', 'intereses', 'interior', 'interiorgob', 'internacional', 'internacionales', 'intervenciones', 'intervención', 'intervenir', 'interviene', 'intervienen', 'interés', 'intolerable', 'intolerancia', 'invasión', 'inversiones', 'inversión', 'invertir', 'investidura', 'investigación', 'investigar', 'invito', 'inés', 'ionebelarra', 'ipc', 'ir', 'iratxegarper', 'irene', 'irene_montero_', 'irenemontero', 'irpf', 'irresponsabilidad', 'irresponsable', 'irresponsables', 'irán', 'is', 'isabel', 'isaserras', 'isla', 'islas', 'israel', 'it', 'italia', 'iva', 'ivanedlm', 'izquierda', 'izquierdas', 'ja', 'jaimedeolano', 'jalloul_hana', 'jamás', 'javier', 'javiermaroto', 'jefe', 'jessicaalbiach', 'jesús', 'jguaido', 'jmrdezuribes', 'jordi', 'jordi_canyas', 'jorge', 'jorgebuxade', 'jornada', 'jornadas', 'josepborrellf', 'josé', 'joven', 'juan', 'juanma_moreno', 'juanmarin_cs', 'judicial', 'judiciales', 'jueces', 'juega', 'juegan', 'juego', 'juegos', 'jueves', 'juez', 'jugamos', 'jugando', 'jugar', 'juicio', 'julio', 'junio', 'junqueras', 'junta', 'juntas', 'junto', 'juntos', 'juralde', 'jurídica', 'jurídico', 'justa', 'justas', 'justicia', 'justifica', 'justificar', 'justo', 'juvenil', 'juventud', 'juzgado', 'jóvenes', 'kitchen', 'la_ser', 'labor', 'laboral', 'laborales', 'lacra', 'lado', 'laemergenciadevox', 'laespañaquehacemos_', 'laespañaquenosmerecemos', 'lahoratve', 'lamentable', 'lamentablemente', 'lamento', 'lanoche24h', 'lanoche_24h', 'lanza', 'larazon_es', 'larga', 'largo', 'lasextatv', 'lasmananas_rne', 'lavanguardia', 'lazos', 'leal', 'lealtad', 'lean', 'lecciones', 'lección', 'lectura', 'lee', 'leer', 'legado', 'legal', 'legales', 'legalidad', 'legislación', 'legislatura', 'legitimidad', 'lejos', 'lema', 'lengua', 'levantar', 'ley', 'leyenda', 'leyes', 'leído', 'león', 'lgtbi', 'liberal', 'liberales', 'liberalescs', 'libertad', 'libertaddigital', 'libertades', 'libre', 'libremente', 'libres', 'libro', 'libros', 'lidera', 'liderado', 'liderar', 'liderazgo', 'limitar', 'limpieza', 'lingüística', 'liquidez', 'lista', 'listas', 'llama', 'llamada', 'llamado', 'llamamiento', 'llaman', 'llamar', 'llega', 'llegada', 'llegado', 'llegan', 'llegando', 'llegar', 'llegará', 'llegue', 'lleguen', 'llegó', 'llena', 'llenar', 'lleno', 'lleva', 'llevado', 'llevamos', 'llevan', 'llevando', 'llevar', 'llevo', 'lobo', 'local', 'locales', 'logrado', 'lograr', 'logroño', 'lopezmirasf', 'lorca', 'losdesayunos', 'lroldansu', 'lucha', 'luchado', 'luchamos', 'luchan', 'luchando', 'luchar', 'luego', 'lugar', 'lugares', 'lugaricano', 'luis', 'lujo', 'lunes', 'luz', 'líder', 'líderes', 'límite', 'límites', 'línea', 'líneas', 'lógica', 'lógico', 'lópez', 'macarena_olona', 'machismo', 'machista', 'machistas', 'madre', 'madres', 'madrid', 'madrileña', 'madrileñas', 'madrileño', 'madrileños', 'maduro', 'maestro', 'mafia', 'mafias', 'magnífica', 'magnífico', 'maitepagaza', 'mal', 'mala', 'malas', 'mallorca', 'malo', 'malos', 'malversación', 'mancha', 'manda', 'mandar', 'mandato', 'mando', 'manera', 'manifestaciones', 'manifestación', 'manifiesto', 'manipulación', 'manipular', 'mano', 'manos', 'mantener', 'mantenerse', 'mantenido', 'mantenimiento', 'mantiene', 'mantienen', 'manuel', 'mar', 'maravilla', 'maravillosa', 'maravilloso', 'marca', 'marcha', 'marco', 'marcosdequinto', 'margarita', 'margen', 'mariadelamiel', 'marlaska', 'marroquí', 'marruecos', 'martes', 'martín', 'martínez', 'marzo', 'maría', 'mas', 'mascarilla', 'mascarillas', 'masdeuno', 'masiva', 'mata', 'matar', 'mateo', 'materia', 'material', 'materiales', 'maternidad', 'matraca', 'matrimonio', 'mayo', 'mayor', 'mayoralrafa', 'mayores', 'mayoría', 'mayorías', 'mañana', 'mecanismo', 'mecanismos', 'medalla', 'medallas', 'media', 'mediante', 'medias', 'medida', 'medidas', 'medio', 'medios', 'mediterráneo', 'mediática', 'mediático', 'mediáticos', 'mejor', 'mejora', 'mejorando', 'mejorar', 'mejoras', 'mejores', 'mejorunidos', 'melilla', 'melisaenmarcha', 'melisarguezcs', 'memoria', 'menas', 'menor', 'menores', 'menos', 'mensaje', 'mensajes', 'mental', 'mentir', 'mentira', 'mentiras', 'mentiroso', 'mercado', 'mercados', 'merece', 'merecemos', 'merecen', 'merecido', 'merkel', 'mes', 'mesa', 'mesas', 'meses', 'meter', 'metro', 'meugeniarpalop', 'miedo', 'miembro', 'miembros', 'miente', 'mienten', 'mientras', 'migrantes', 'migratoria', 'miguel', 'mil', 'miles', 'militancia', 'militante', 'militantes', 'militar', 'militares', 'mill', 'millones', 'millón', 'ministerio', 'ministerios', 'ministra', 'ministras', 'ministro', 'ministros', 'minoría', 'mintió', 'minuto', 'minutos', 'miqueliceta', 'mira', 'mirada', 'mirando', 'mirar', 'mire', 'miserable', 'miseria', 'misión', 'misma', 'mismas', 'mismo', 'mismos', 'mitad', 'mitin', 'mitmagob', 'miércoles', 'mjmonteroc', 'mociones', 'moción', 'modelo', 'modelos', 'moderación', 'moderado', 'moderados', 'moderna', 'modernización', 'modo', 'molesta', 'momento', 'momentos', 'monarquía', 'monasterio', 'monasterior', 'moncloa', 'monedero', 'montero', 'montesinospablo', 'moral', 'moratoria', 'morir', 'mossos', 'mostrado', 'mostrar', 'motivo', 'motivos', 'motor', 'movilidad', 'movilización', 'movimiento', 'movimientos', 'mucha', 'muchas', 'muchísimas', 'muchísimo', 'muerte', 'muertes', 'muerto', 'muertos', 'muestra', 'mujer', 'mujeres', 'multinacionales', 'mundial', 'mundo', 'municipal', 'municipales', 'municipalismo', 'municipio', 'municipios', 'murcia', 'murcianos', 'muro', 'málaga', 'máxima', 'máximo', 'médico', 'médicos', 'mérito', 'méxico', 'mínimo', 'música', 'nachoalvarez_', 'nacional', 'nacionales', 'nacionalismo', 'nacionalista', 'nacionalistas', 'naciones', 'nació', 'nación', 'nadiacalvino', 'nadie', 'naranja', 'natalidad', 'natural', 'naturaleza', 'navarra', 'navidad', 'nazis', 'necesaria', 'necesarias', 'necesario', 'necesarios', 'necesidad', 'necesidades', 'necesita', 'necesitamos', 'necesitan', 'negar', 'negocia', 'negociaciones', 'negociación', 'negociar', 'negocio', 'negocios', 'negra', 'negro', 'neoliberal', 'new', 'news', 'niega', 'niegan', 'nieve', 'ninguna', 'ninguno', 'ningún', 'niunamenos', 'nivel', 'niveles', 'niña', 'niñas', 'niño', 'niños', 'nmartinblanco', 'noche', 'noches', 'nombramiento', 'nombre', 'nombres', 'nonoscallarán', 'norma', 'normal', 'normalidad', 'normas', 'normativa', 'norte', 'nortecastilla', 'not', 'nota', 'noticia', 'noticias', 'novela', 'noviembre', 'nueva', 'nuevas', 'nuevo', 'nuevos', 'numerosas', 'nunca', 'número', 'números', 'objetivo', 'objetivos', 'obliga', 'obligaciones', 'obligación', 'obra', 'obras', 'obtener', 'ocasiones', 'ocasión', 'ocho', 'ocio', 'octubre', 'oculta', 'ocultar', 'ocupación', 'ocurre', 'ocurrido', 'ocurrir', 'odio', 'odón', 'of', 'oferta', 'oficial', 'oficiales', 'oficina', 'ofrece', 'ofrecer', 'ofrecido', 'ojalá', 'ojo', 'ojos', 'okupación', 'okupas', 'ola', 'oligopolio', 'olvida', 'olvidamos', 'olvidar', 'olvido', 'oms', 'on', 'ondacero_es', 'online', 'onu', 'opciones', 'opción', 'open', 'operación', 'opiniones', 'opinión', 'oportunidad', 'oportunidades', 'oposición', 'orden', 'organizaciones', 'organización', 'organizada', 'organizado', 'orgullo', 'orgullosa', 'orgulloso', 'orgullosos', 'origen', 'oro', 'ortega', 'ortega_smith', 'otegi', 'our', 'pablo', 'pablo_iglesias_', 'pablocasado_', 'pabloechenique', 'pabloiglesias', 'pac', 'paciencia', 'pacientes', 'pacta', 'pactado', 'pactar', 'pacto', 'pactos', 'padre', 'padres', 'paga', 'pagado', 'pagamos', 'pagan', 'pagando', 'pagar', 'pago', 'paguen', 'palabra', 'palabras', 'palacio', 'paliar', 'palma', 'pamplona', 'pan', 'pandemia', 'pandemias', 'papel', 'paquete', 'parados', 'paraqueganemostodos', 'parar', 'parece', 'parecen', 'pareja', 'parental', 'parlament', 'parlamentaria', 'parlamentario', 'parlamentarios', 'parlamento', 'paro', 'parque', 'parte', 'partes', 'participa', 'participación', 'participado', 'participan', 'participar', 'partida', 'partidista', 'partido', 'partidos', 'partir', 'parálisis', 'pasa', 'pasada', 'pasado', 'pasan', 'pasando', 'pasar', 'pase', 'paseo', 'pases', 'pasión', 'paso', 'pasos', 'pasó', 'patria', 'patrimonio', 'patriotas', 'patriotismo', 'paulo', 'pauta', 'paz', 'país', 'países', 'peajes', 'pedido', 'pedimos', 'pedir', 'pedro', 'peleando', 'peligro', 'peligroso', 'pelo', 'película', 'pena', 'penal', 'penas', 'pendiente', 'pendientes', 'pensamiento', 'pensamos', 'pensando', 'pensar', 'pensiones', 'pensionistas', 'peor', 'peores', 'pequeña', 'pequeño', 'pequeños', 'per', 'perder', 'perdido', 'perdáis', 'perdón', 'perfectamente', 'perfil', 'periodismo', 'periodista', 'periodistas', 'periodo', 'permanente', 'permiso', 'permisos', 'permita', 'permitan', 'permite', 'permiten', 'permitido', 'permitiendo', 'permitir', 'permitiremos', 'permitirá', 'persecución', 'perseguir', 'persona', 'personaje', 'personal', 'personales', 'personas', 'perspectiva', 'perú', 'pesar', 'pese', 'peso', 'petición', 'pge', 'pib', 'pide', 'piden', 'pidiendo', 'pidió', 'pido', 'pie', 'piedras', 'piel', 'piensa', 'piensan', 'piense', 'pierdan', 'pierdas', 'pierde', 'pies', 'pilar', 'pilares', 'pin', 'placer', 'plan', 'planderecuperación', 'planes', 'planeta', 'plantea', 'planteado', 'planteamos', 'plantear', 'plata', 'plataforma', 'play', 'plaza', 'plazas', 'plazo', 'plena', 'pleno', 'plural', 'pluralidad', 'plus', 'pnique', 'pnv', 'población', 'pobre', 'pobres', 'pobreza', 'poca', 'pocas', 'pocos', 'podamos', 'podcast', 'podemos', 'poder', 'poderes', 'poderosos', 'podido', 'podremos', 'podrá', 'podrán', 'podrás', 'podréis', 'podría', 'podrían', 'podéis', 'podía', 'polarización', 'policia', 'policial', 'policiales', 'policía', 'policías', 'polonia', 'política', 'políticamente', 'políticas', 'políticaútil', 'político', 'políticos', 'pondremos', 'pone', 'ponemos', 'ponen', 'ponenciapsoe', 'poner', 'ponerse', 'ponga', 'pongan', 'poniendo', 'popular', 'populares', 'populismo', 'populismos', 'populistas', 'portada', 'portadas', 'portavoces', 'portavoz', 'portodoloquenosune', 'portugal', 'portuguesa', 'portugués', 'posesión', 'posibilidad', 'posible', 'posibles', 'posiciones', 'posición', 'positivo', 'potenciar', 'pp', 'ppmadrid', 'precariedad', 'precedentes', 'precio', 'precios', 'precisamente', 'prefiere', 'prefieren', 'pregunta', 'preguntado', 'preguntas', 'premio', 'premios', 'prensa', 'preocupa', 'preocupaciones', 'preocupación', 'preocupado', 'preocupados', 'preocupante', 'prepara', 'preparado', 'preparados', 'presencia', 'presenta', 'presentación', 'presentado', 'presentamos', 'presentar', 'presentaremos', 'presente', 'presentes', 'presentó', 'preservar', 'presidencia', 'president', 'presidenta', 'presidente', 'presidentes', 'presidentilla', 'presidir', 'presiones', 'presión', 'presos', 'prestación', 'prestigio', 'presupuesto', 'presupuestos', 'pretende', 'pretenden', 'prevención', 'prevenir', 'previsión', 'previsto', 'primaria', 'primarias', 'primer', 'primera', 'primeras', 'primero', 'primeros', 'principal', 'principales', 'principio', 'principios', 'prioridad', 'prioridades', 'prisiones', 'prisión', 'privada', 'privado', 'privados', 'privilegio', 'privilegios', 'problema', 'problemas', 'proceso', 'procesos', 'procés', 'producción', 'produce', 'productivo', 'productos', 'profesional', 'profesionales', 'profesionalidad', 'profesor', 'profesores', 'profunda', 'profundamente', 'profundo', 'programa', 'programas', 'progre', 'progres', 'progresista', 'progresistas', 'progreso', 'prohibición', 'prohibir', 'promesas', 'promoción', 'promover', 'pronta', 'pronto', 'propaganda', 'propia', 'propias', 'propiedad', 'propio', 'propios', 'propone', 'proponemos', 'proponer', 'propongo', 'proposición', 'propuesta', 'propuestas', 'propuesto', 'propósito', 'prosperidad', 'prostitución', 'protección', 'protege', 'protegemadrid', 'protegen', 'proteger', 'protegiendo', 'proteja', 'protesta', 'protestas', 'protocolo', 'provincia', 'provincial', 'provincias', 'provocado', 'proyecto', 'proyectos', 'prudencia', 'prueba', 'pruebas', 'práctica', 'prácticas', 'prórroga', 'próxima', 'próximas', 'próximo', 'próximos', 'psc', 'psoe', 'publica', 'publicado', 'publicar', 'publicidad', 'publico_es', 'pudo', 'pueblo', 'pueblos', 'pueda', 'puedan', 'puede', 'pueden', 'puedes', 'puedo', 'puente', 'puentes', 'puerta', 'puertas', 'puerto', 'pues', 'puesta', 'puesto', 'puestos', 'puig', 'puigdemont', 'punto', 'puntos', 'pura', 'puro', 'puso', 'pvallin', 'pymes', 'página', 'pérdida', 'pérdidas', 'pérez', 'pésame', 'pública', 'públicas', 'público', 'públicos', 'queda', 'quedado', 'quedan', 'quedar', 'quedarse', 'quedará', 'quede', 'quehablelamayoría', 'querella', 'queremos', 'querer', 'querida', 'querido', 'queridos', 'quería', 'querían', 'quiera', 'quieran', 'quiere', 'quieren', 'quieres', 'quiero', 'quiso', 'quita', 'quitar', 'quizá', 'quizás', 'quién', 'quiénes', 'racismo', 'racista', 'racistas', 'radical', 'radicales', 'radio', 'rafael', 'rajoy', 'ramón', 'raro', 'rato', 'razonable', 'razones', 'razón', 'rdl', 'reacción', 'reactivación', 'real', 'reales', 'realidad', 'realizado', 'realizar', 'realmente', 'rebaja', 'rebelión', 'rechaza', 'rechazo', 'recibe', 'reciben', 'recibido', 'recibir', 'recibo', 'reclama', 'reclamamos', 'reclamando', 'recoge', 'recomendaciones', 'recomiendo', 'reconoce', 'reconocer', 'reconocido', 'reconocimiento', 'reconstrucción', 'reconstruir', 'recordado', 'recordamos', 'recordar', 'recorrer', 'recorrido', 'recortar', 'recorte', 'recortes', 'rectificar', 'recuerda', 'recuerdo', 'recuperación', 'recuperar', 'recupere', 'recuperemoscataluña', 'recurso', 'recursos', 'red', 'redes', 'reducción', 'reducir', 'reencuentro', 'referencia', 'referente', 'referéndum', 'refleja', 'reflexionar', 'reflexión', 'reforma', 'reformar', 'reformas', 'reformista', 'reforzar', 'refuerzo', 'refugiados', 'regalo', 'regeneración', 'regional', 'regiones', 'registrado', 'registro', 'región', 'regióndemurcia', 'reglas', 'regulación', 'regular', 'reina', 'reino', 'reivindicaciones', 'reivindicar', 'relaciones', 'relación', 'relato', 'rendir', 'renfe', 'renovables', 'renovación', 'renovar', 'renta', 'renunciar', 'reparación', 'repartir', 'repartirse', 'reparto', 'repaso', 'repetición', 'repetir', 'representa', 'representación', 'representan', 'representante', 'representantes', 'representar', 'represión', 'repugnante', 'repulsa', 'república', 'requiere', 'rescatar', 'rescate', 'residencia', 'residencias', 'resiliencia', 'resistencia', 'resolución', 'resolver', 'respaldo', 'respecto', 'respeta', 'respetan', 'respetar', 'respete', 'respeto', 'responde', 'responder', 'responsabilidad', 'responsabilidades', 'responsable', 'responsables', 'respuesta', 'respuestas', 'resto', 'restricciones', 'resulta', 'resultado', 'resultados', 'resumen', 'retirar', 'retiro', 'reto', 'retos', 'retroceder', 'reunido', 'reunimos', 'reuniones', 'reunirse', 'reunión', 'revertir', 'revolución', 'rey', 'reyes', 'reúne', 'ricos', 'ridículo', 'riesgo', 'riesgos', 'rigor', 'rincones', 'rincón', 'rioja', 'riqueza', 'ritmo', 'rivera', 'rne', 'robar', 'robles', 'rocío', 'rodríguez', 'roja', 'rojo', 'rompe', 'romper', 'rosa', 'rosarodanews', 'roto', 'rotunda', 'rtve', 'rueda', 'rufián', 'ruido', 'ruina', 'rumbo', 'ruptura', 'rural', 'ruta', 'rápida', 'rápido', 'récord', 'régimen', 's74g2kqn64', 'sabe', 'sabemos', 'saben', 'saber', 'sabes', 'sabéis', 'sabía', 'saca', 'sacar', 'sacrificio', 'sala', 'salarial', 'salario', 'salarios', 'saldremos', 'saldrá', 'sale', 'salen', 'salga', 'salgan', 'salida', 'salido', 'salimos', 'salir', 'salud', 'saludo', 'salvador', 'salvadorilla', 'salvar', 'salvo', 'san', 'sanchez', 'sanchezcastejon', 'sanchezdelreal', 'sanchismo', 'sanciones', 'sangre', 'sanidad', 'sanidadgob', 'sanitaria', 'sanitarias', 'sanitario', 'sanitarios', 'sant', 'santa', 'santi_abascal', 'santiago', 'santicl', 'saragimnez', 'sebastián', 'secretaria', 'secretario', 'sectaria', 'sectario', 'sectarismo', 'sector', 'sectores', 'secuestro', 'sede', 'sedición', 'seguido', 'seguimiento', 'seguimos', 'seguir', 'seguiremos', 'seguirla', 'seguirlo', 'seguirá', 'seguirán', 'segunda', 'segundo', 'segura', 'seguras', 'seguridad', 'seguro', 'seguros', 'según', 'seis', 'selección', 'semana', 'semanas', 'senado', 'senadoesp', 'sencillo', 'senda', 'sensación', 'sensatez', 'sensato', 'sensibilidad', 'sentencia', 'sentencias', 'sentimos', 'sentir', 'sepa', 'sepan', 'separación', 'separatismo', 'separatista', 'separatistas', 'septiembre', 'ser', 'seres', 'seria', 'serie', 'serigne_mbaye_', 'serio', 'serlo', 'servicio', 'servicios', 'servidores', 'servir', 'sesión', 'sesióndecontrol', 'sesióndeinvestidura', 'sevilla', 'sexo', 'sexta', 'sextanochetv', 'sexual', 'sexuales', 'señala', 'señalar', 'señor', 'señora', 'señores', 'si', 'sido', 'siempre', 'siemprehaciadelante', 'siendo', 'sienta', 'sienten', 'siento', 'sierra', 'siete', 'siga', 'sigamos', 'sigan', 'siglas', 'siglo', 'significa', 'sigo', 'sigue', 'siguen', 'siguiendo', 'siguiente', 'silencio', 'sillones', 'simancasrafael', 'simpatizantes', 'simple', 'simplemente', 'simón', 'sindicatos', 'sino', 'siquiera', 'sirve', 'sirven', 'sistema', 'sistemas', 'sitio', 'situaciones', 'situación', 'sitúa', 'smi', 'soberanía', 'soberbia', 'social', 'socialcomunista', 'socialdemocracia', 'socialdemócrata', 'socialdemócratas', 'sociales', 'socialismo', 'socialista', 'socialistas', 'socialistes_cat', 'sociedad', 'sociedades', 'socio', 'socios', 'sofcastanon', 'sol', 'sola', 'solamente', 'solas', 'solicitado', 'solicitamos', 'solicitar', 'solidaria', 'solidaridad', 'solitario', 'solo', 'soloquedavox', 'solos', 'solucionar', 'soluciones', 'solución', 'sorprende', 'sorpresa', 'sostenibilidad', 'sostenible', 'spain', 'sr', 'sra', 'sube', 'subida', 'subidas', 'subido', 'subir', 'subvenciones', 'sucede', 'sucedido', 'sucesiones', 'sueldo', 'sueldos', 'suelo', 'suerte', 'sueño', 'suficiente', 'suficientes', 'sufre', 'sufren', 'sufrido', 'sufriendo', 'sufrimiento', 'sufrimos', 'sufrir', 'suma', 'sumamos', 'suman', 'sumar', 'suministro', 'supera', 'superación', 'superar', 'superior', 'supervivencia', 'supone', 'supongo', 'supremo', 'supuesto', 'sur', 'suspender', 'suspensión', 'sábado', 'sánchez', 'sánchezdimisión', 'sé', 'síguelo', 'símbolo', 'sísepuede', 'sólo', 'tajo', 'tal', 'talento', 'tampoco', 'tan', 'tanta', 'tantas', 'tantos', 'tapar', 'tarde', 'tarea', 'tareas', 'tarifa', 'tarragona', 'tasa', 'tasas', 'tc', 'teatro', 'tecnología', 'tejido', 'tele', 'telemadrid', 'televisión', 'teléfono', 'tema', 'temas', 'temporada', 'temporal', 'temporales', 'temporalidad', 'tendida', 'tener', 'tenerife', 'teogarciaegea', 'tercer', 'tercera', 'teresaribera', 'termina', 'terminar', 'terrible', 'terribles', 'territorial', 'territorio', 'territorios', 'terror', 'terrorismo', 'terrorista', 'terroristas', 'tertulias', 'teruel', 'test', 'texto', 'that', 'the', 'this', 'tiempo', 'tiempos', 'tierra', 'tipo', 'tiranía', 'titular', 'to', 'toca', 'tod', 'toda', 'todas', 'todavía', 'tokyo2020', 'toledo', 'tolerancia', 'tolerar', 'toma', 'tomado', 'toman', 'tomando', 'tomar', 'tome', 'toni', 'tonicanto1', 'toque', 'torno', 'torra', 'total', 'totalitaria', 'totalitario', 'totalitarios', 'totalitarismo', 'totalmente', 'trabaja', 'trabajado', 'trabajador', 'trabajadora', 'trabajadoras', 'trabajadores', 'trabajamos', 'trabajan', 'trabajando', 'trabajar', 'trabajaremos', 'trabajo', 'trabajos', 'trabas', 'tradiciones', 'tradición', 'trae', 'traer', 'tragedia', 'traición', 'traidor', 'trama', 'tramo', 'tranquilidad', 'trans', 'transformaciones', 'transformación', 'transformar', 'transición', 'transparencia', 'transporte', 'transportes', 'tras', 'trasladado', 'trasladar', 'traslado', 'trata', 'tratado', 'tratamiento', 'tratan', 'tratar', 'trato', 'través', 'trayectoria', 'traído', 'tremendo', 'tren', 'tres', 'tribuna', 'tribunal', 'tribunales', 'trimestre', 'tripartito', 'triste', 'tristeza', 'triunfo', 'trump', 'tráfico', 'tuit', 'tuits', 'turismo', 'turquía', 'turístico', 'tv', 'tv3', 'tve', 'twitter', 'twitterespana', 'técnico', 'términos', 'título', 'uci', 'ud', 'ue', 'ultra', 'ultraderecha', 'ultras', 'unacataluñamejor', 'unas', 'une', 'unen', 'ungobiernocontigo', 'unida', 'unidad', 'unidas', 'unido', 'unidos', 'unir', 'universal', 'universidad', 'universidades', 'unión', 'unsíparaavanzar', 'up', 'urbana', 'urge', 'urgencia', 'urgente', 'urgentes', 'urnas', 'usa', 'usar', 'uso', 'usted', 'ustedes', 'usuarios', 'utiliza', 'utilizado', 'utilizando', 'utilizar', 'va', 'vacaciones', 'vacuna', 'vacunación', 'vacunada', 'vacunado', 'vacunar', 'vacunas', 'vais', 'vale', 'valencia', 'valenciana', 'valenciano', 'valencianos', 'valentía', 'valiente', 'valientes', 'valladolid', 'valle', 'vallecas', 'valor', 'valorar', 'valores', 'valorseguro', 'vamos', 'vamosmadrid', 'van', 'vanguardia', 'variante', 'varias', 'varios', 'vas', 'vasca', 'vasco', 'vascos', 'vaya', 'vayan', 've', 'vean', 'veces', 'vecinas', 'vecinos', 'vehículos', 'velar', 'velezpsoe', 'velocidad', 'vemos', 'ven', 'vencer', 'vender', 'venezolanos', 'venezuela', 'venga', 'vengo', 'venido', 'venimos', 'venir', 'venta', 'veo', 'ver', 'verano', 'veranoelia', 'verdad', 'verdadera', 'verdadero', 'verdades', 'verde', 'verdes', 'veremos', 'vergonzoso', 'vergüenza', 'verlo', 'versión', 'ves', 'vez', 'vi', 'via', 'viajar', 'viaje', 'vicente', 'vicepresidencia', 'vicepresidenta', 'vicepresidente', 'vicesecretaria', 'victoria', 'vida', 'vidas', 'viendo', 'viene', 'vienen', 'viernes', 'vigor', 'villarejo', 'vimos', 'vino', 'violaciones', 'violación', 'violencia', 'violenciadegénero', 'violenciamachista', 'violencias', 'violenta', 'violentos', 'virgen', 'virus', 'visita', 'visitado', 'visitando', 'visitar', 'visión', 'vista', 'visto', 'vital', 'viva', 'vivas', 'vive', 'viven', 'vivido', 'vivienda', 'viviendas', 'viviendo', 'vivimos', 'vivir', 'vivo', 'vocación', 'voces', 'voluntad', 'volvemos', 'volver', 'volveremos', 'volverá', 'volverán', 'vonderleyen', 'vota', 'votación', 'votado', 'votalibertad', 'votan', 'votando', 'votantes', 'votapp', 'votapsc', 'votapsoe', 'votar', 'votaron', 'vote', 'voto', 'votos', 'votó', 'vox', 'vox_congreso', 'vox_es', 'voy', 'voz', 'vuelos', 'vuelta', 'vuelto', 'vuelva', 'vuelvan', 'vuelve', 'vuelven', 'vulnerabilidad', 'vulnerables', 'vulneración', 'vía', 'vías', 'víctima', 'víctimas', 'vídeo', 'we', 'web', 'will', 'with', 'xenofobia', 'ximopuig', 'xxi', 'yoconayuso', 'yolanda', 'yolanda_diaz_', 'you', 'youtube', 'zapatero', 'zaragoza', 'zendal', 'zona', 'zonas', 'ábalos', 'ámbito', 'ámbitos', 'ángel', 'ánimo', 'élites', 'época', 'és', 'ésta', 'ética', 'éxito', 'éxitos', 'órdenes', 'órganos', 'última', 'últimas', 'último', 'últimos', 'única', 'único', 'únicos', 'útil', '𝐝𝐢𝐫𝐞𝐜𝐭𝐨', '𝐞𝐧']\n"
     ]
    }
   ],
   "source": [
    "print(vectorizer.get_feature_names())"
   ]
  },
  {
   "cell_type": "code",
   "execution_count": 110,
   "metadata": {},
   "outputs": [
    {
     "data": {
      "text/plain": [
       "<104023x4000 sparse matrix of type '<class 'numpy.int64'>'\n",
       "\twith 1328141 stored elements in Compressed Sparse Row format>"
      ]
     },
     "execution_count": 110,
     "metadata": {},
     "output_type": "execute_result"
    }
   ],
   "source": [
    "bow"
   ]
  },
  {
   "cell_type": "code",
   "execution_count": 111,
   "metadata": {},
   "outputs": [],
   "source": [
    "from sklearn.metrics import confusion_matrix\n",
    "from sklearn import svm"
   ]
  },
  {
   "cell_type": "code",
   "execution_count": 112,
   "metadata": {},
   "outputs": [],
   "source": [
    "svm_lineal = svm.LinearSVC(C=1, max_iter=10000).fit(bow, train[\"partido\"])"
   ]
  },
  {
   "cell_type": "code",
   "execution_count": 113,
   "metadata": {},
   "outputs": [],
   "source": [
    "d = test[\"tweet\"]\n",
    "vectorizer2 = CountVectorizer(ngram_range=(1,1), max_features=4000,  vocabulary=vectorizer.get_feature_names()) # to use bigrams ngram_range=(2,2)\n",
    "bow_test = vectorizer2.fit_transform(list(d)) # Bag of Words Test"
   ]
  },
  {
   "cell_type": "code",
   "execution_count": 114,
   "metadata": {},
   "outputs": [
    {
     "name": "stdout",
     "output_type": "stream",
     "text": [
      "0.6882642467122971\n"
     ]
    }
   ],
   "source": [
    "acuracy_linear_svm = svm_lineal.score(bow_test, test[\"partido\"]) #O(n^3)\n",
    "print(acuracy_linear_svm)"
   ]
  },
  {
   "cell_type": "code",
   "execution_count": 115,
   "metadata": {},
   "outputs": [],
   "source": [
    "from sklearn.linear_model import LogisticRegression"
   ]
  },
  {
   "cell_type": "code",
   "execution_count": 116,
   "metadata": {},
   "outputs": [
    {
     "data": {
      "text/plain": [
       "LogisticRegression(C=10, max_iter=10000, multi_class='multinomial')"
      ]
     },
     "execution_count": 116,
     "metadata": {},
     "output_type": "execute_result"
    }
   ],
   "source": [
    "softmax = LogisticRegression(multi_class=\"multinomial\", solver=\"lbfgs\", C = 10, max_iter=10000)\n",
    "softmax.fit(bow, train[\"partido\"]) # Mucho mejor running time que SVM"
   ]
  },
  {
   "cell_type": "code",
   "execution_count": 117,
   "metadata": {},
   "outputs": [
    {
     "name": "stdout",
     "output_type": "stream",
     "text": [
      "0.6806506190879028\n"
     ]
    }
   ],
   "source": [
    "acuracy_softmax = softmax.score(bow_test, test[\"partido\"])\n",
    "print(acuracy_softmax) # Inicialmente misma (muy parecida) accurracy que SMV"
   ]
  },
  {
   "cell_type": "code",
   "execution_count": 103,
   "metadata": {},
   "outputs": [],
   "source": [
    "# Primera iteracion:  SVM 0.5384911174344382       SoftMax 0.5396831500422979   500 features\n",
    "# Segunda iteracion:  SVM 0.5461047450588326       SoftMax 0.5480658309620857   usando stop_words\n",
    "# Tercera iteracion:  SVM 0.6062447127585942       SoftMax 0.6056294701222795   1000 features, stop_words\n",
    "# Cuarta  iteracion:  SVM 0.6319695454895025       SoftMax 0.6320079981542721   1500 features, stop_words\n",
    "#                     SVM 0.6882642467122971       SoftMax 0.6806506190879028   4000, features, stop_words"
   ]
  },
  {
   "cell_type": "code",
   "execution_count": 118,
   "metadata": {},
   "outputs": [
    {
     "data": {
      "text/plain": [
       "array([0.60361399, 0.54681792, 0.50990194, 0.6027687 , 0.58661796])"
      ]
     },
     "execution_count": 118,
     "metadata": {},
     "output_type": "execute_result"
    }
   ],
   "source": [
    "from sklearn.model_selection import cross_val_score\n",
    "cross_smv = cross_val_score(svm_lineal, bow_test, test[\"partido\"], scoring=\"f1_micro\")\n",
    "cross_smv"
   ]
  },
  {
   "cell_type": "code",
   "execution_count": 119,
   "metadata": {},
   "outputs": [
    {
     "data": {
      "text/plain": [
       "array([0.58054594, 0.53258989, 0.4970198 , 0.58392617, 0.56354547])"
      ]
     },
     "execution_count": 119,
     "metadata": {},
     "output_type": "execute_result"
    }
   ],
   "source": [
    "cros_soft_max = cross_val_score(softmax, bow_test, test[\"partido\"], scoring=\"f1_micro\")\n",
    "cros_soft_max"
   ]
  },
  {
   "cell_type": "code",
   "execution_count": 96,
   "metadata": {},
   "outputs": [
    {
     "data": {
      "text/plain": [
       "RandomForestClassifier()"
      ]
     },
     "execution_count": 96,
     "metadata": {},
     "output_type": "execute_result"
    }
   ],
   "source": [
    "from sklearn.ensemble import RandomForestClassifier\n",
    "\n",
    "rand_forest = RandomForestClassifier()\n",
    "rand_forest.fit(bow, train[\"partido\"])"
   ]
  },
  {
   "cell_type": "code",
   "execution_count": 106,
   "metadata": {},
   "outputs": [
    {
     "name": "stdout",
     "output_type": "stream",
     "text": [
      "0.6257017611320465\n"
     ]
    }
   ],
   "source": [
    "acuracy_rand_forest = rand_forest.score(bow_test, test[\"partido\"])\n",
    "print(acuracy_rand_forest)"
   ]
  },
  {
   "cell_type": "code",
   "execution_count": null,
   "metadata": {},
   "outputs": [],
   "source": [
    "# naid bayes, random forest\n",
    "\n",
    "# iteracion 1:         random forest 0.6257017611320465"
   ]
  }
 ],
 "metadata": {
  "kernelspec": {
   "display_name": "Python 3",
   "language": "python",
   "name": "python3"
  },
  "language_info": {
   "codemirror_mode": {
    "name": "ipython",
    "version": 3
   },
   "file_extension": ".py",
   "mimetype": "text/x-python",
   "name": "python",
   "nbconvert_exporter": "python",
   "pygments_lexer": "ipython3",
   "version": "3.9.7"
  }
 },
 "nbformat": 4,
 "nbformat_minor": 4
}
